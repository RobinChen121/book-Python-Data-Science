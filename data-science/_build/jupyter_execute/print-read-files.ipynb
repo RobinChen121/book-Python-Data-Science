{
 "cells": [
  {
   "cell_type": "markdown",
   "id": "8771d0e2",
   "metadata": {},
   "source": [
    "# Python 输出输入，读写文件\n",
    "\n",
    "## print, input 函数\n",
    "\n",
    "Python 输出非常方便，用``print()``函数，小括号里面可以是数字、字符串、列表、字典等类型。"
   ]
  },
  {
   "cell_type": "code",
   "execution_count": 1,
   "id": "654362e0",
   "metadata": {},
   "outputs": [
    {
     "name": "stdout",
     "output_type": "stream",
     "text": [
      "[12, 45, 69]\n"
     ]
    }
   ],
   "source": [
    "print([12, 45, 69]) # 列表"
   ]
  },
  {
   "cell_type": "code",
   "execution_count": 2,
   "id": "df794390",
   "metadata": {},
   "outputs": [
    {
     "name": "stdout",
     "output_type": "stream",
     "text": [
      "{'name': 'chen', 'mark': 85}\n"
     ]
    }
   ],
   "source": [
    "print({'name' : 'chen', 'mark' : 85}) # 字典"
   ]
  },
  {
   "cell_type": "code",
   "execution_count": 3,
   "id": "6fd68ed9",
   "metadata": {},
   "outputs": [
    {
     "name": "stdout",
     "output_type": "stream",
     "text": [
      "{4, 5, 6}\n"
     ]
    }
   ],
   "source": [
    "a = {4, 5, 6} # 集合\n",
    "print(a)"
   ]
  },
  {
   "cell_type": "code",
   "execution_count": null,
   "id": "0d1c2c9d",
   "metadata": {},
   "outputs": [],
   "source": []
  },
  {
   "cell_type": "code",
   "execution_count": 4,
   "id": "7d0a0f40",
   "metadata": {},
   "outputs": [
    {
     "data": {
      "text/plain": [
       "'the array is [1, 2, 3]'"
      ]
     },
     "execution_count": 4,
     "metadata": {},
     "output_type": "execute_result"
    }
   ],
   "source": [
    "a = [1, 2, 3]\n",
    "f'the array is {a}'# 输出列表 a"
   ]
  },
  {
   "cell_type": "code",
   "execution_count": 5,
   "id": "88124fc7",
   "metadata": {
    "scrolled": true
   },
   "outputs": [
    {
     "data": {
      "text/plain": [
       "'the array is [1, 2, 3], the numer is 3.2'"
      ]
     },
     "execution_count": 5,
     "metadata": {},
     "output_type": "execute_result"
    }
   ],
   "source": [
    "b = 3.2\n",
    "f'the array is {a}, the numer is {b}'"
   ]
  },
  {
   "cell_type": "code",
   "execution_count": 6,
   "id": "306d7d95",
   "metadata": {
    "scrolled": true
   },
   "outputs": [
    {
     "ename": "NameError",
     "evalue": "name 'math' is not defined",
     "output_type": "error",
     "traceback": [
      "\u001b[0;31m---------------------------------------------------------------------------\u001b[0m",
      "\u001b[0;31mNameError\u001b[0m                                 Traceback (most recent call last)",
      "Cell \u001b[0;32mIn[6], line 2\u001b[0m\n\u001b[1;32m      1\u001b[0m b \u001b[38;5;241m=\u001b[39m \u001b[38;5;241m4.56\u001b[39m\n\u001b[0;32m----> 2\u001b[0m \u001b[38;5;124mf\u001b[39m\u001b[38;5;124m'\u001b[39m\u001b[38;5;124mthe numbers are \u001b[39m\u001b[38;5;132;01m{\u001b[39;00mmath\u001b[38;5;241m.\u001b[39mpi\u001b[38;5;132;01m}\u001b[39;00m\u001b[38;5;124m and \u001b[39m\u001b[38;5;132;01m{\u001b[39;00mb\u001b[38;5;132;01m}\u001b[39;00m\u001b[38;5;124m'\u001b[39m\n",
      "\u001b[0;31mNameError\u001b[0m: name 'math' is not defined"
     ]
    }
   ],
   "source": [
    "b = 4.56\n",
    "f'the numbers are {math.pi} and {b}'"
   ]
  },
  {
   "cell_type": "markdown",
   "id": "5a7d6a24",
   "metadata": {},
   "source": [
    "print 也可以用 ``f{expression}``，大括号中的 exression 可以是一个变量名，例如，下面的代码打印出一个数组列表："
   ]
  },
  {
   "cell_type": "code",
   "execution_count": 17,
   "id": "003fa839",
   "metadata": {},
   "outputs": [
    {
     "data": {
      "text/plain": [
       "'the array is [1, 2, 3]'"
      ]
     },
     "execution_count": 17,
     "metadata": {},
     "output_type": "execute_result"
    }
   ],
   "source": [
    "a = [1, 2, 3]\n",
    "f'the array is {a}'# 输出列表 a"
   ]
  },
  {
   "cell_type": "code",
   "execution_count": 29,
   "id": "c7f7fb44",
   "metadata": {
    "scrolled": true
   },
   "outputs": [
    {
     "data": {
      "text/plain": [
       "'the array is [1, 2, 3], the numer is 3.2'"
      ]
     },
     "execution_count": 29,
     "metadata": {},
     "output_type": "execute_result"
    }
   ],
   "source": [
    "b = 3.2\n",
    "f'the array is {a}, the numer is {b}'"
   ]
  },
  {
   "cell_type": "code",
   "execution_count": 46,
   "id": "7bbeecfe",
   "metadata": {
    "scrolled": true
   },
   "outputs": [
    {
     "data": {
      "text/plain": [
       "'the numbers are 3.142 and 4.56'"
      ]
     },
     "execution_count": 46,
     "metadata": {},
     "output_type": "execute_result"
    }
   ],
   "source": [
    "b = 4.56\n",
    "f'the numbers are {math.pi:.3f} and {b}'"
   ]
  },
  {
   "cell_type": "markdown",
   "id": "19101da9",
   "metadata": {},
   "source": [
    "### 用 % 格式化 print\n",
    "若要格式化输出，要用到百分号 %，语法规则类似 c 语言，具体参考下面的例子。"
   ]
  },
  {
   "cell_type": "code",
   "execution_count": 4,
   "id": "b3513f31",
   "metadata": {},
   "outputs": [
    {
     "name": "stdout",
     "output_type": "stream",
     "text": [
      "the number is 3\n"
     ]
    }
   ],
   "source": [
    "import math\n",
    "print('the number is %d' % math.pi) # 按照整数 print"
   ]
  },
  {
   "cell_type": "code",
   "execution_count": 5,
   "id": "d56548c5",
   "metadata": {},
   "outputs": [
    {
     "name": "stdout",
     "output_type": "stream",
     "text": [
      "the number is 3.14\n"
     ]
    }
   ],
   "source": [
    "print('the number is %.2f' % math.pi) # 按照浮点数 print，并保留 2 位小数"
   ]
  },
  {
   "cell_type": "code",
   "execution_count": 6,
   "id": "0e0a5ce6",
   "metadata": {},
   "outputs": [
    {
     "name": "stdout",
     "output_type": "stream",
     "text": [
      "the number is 3.14\n",
      "\n"
     ]
    }
   ],
   "source": [
    "print('the number is %.2f\\n' % math.pi) # \\n 表示 print 后光标换行"
   ]
  },
  {
   "cell_type": "code",
   "execution_count": 11,
   "id": "9ca502c1",
   "metadata": {},
   "outputs": [
    {
     "name": "stdout",
     "output_type": "stream",
     "text": [
      "the numbers are 3.14 and 4\n"
     ]
    }
   ],
   "source": [
    "b = 4.56\n",
    "print('the numbers are %.2f and %d' % (math.pi, b)) # 同时 print 多个数据"
   ]
  },
  {
   "cell_type": "code",
   "execution_count": 9,
   "id": "94e90334",
   "metadata": {},
   "outputs": [
    {
     "name": "stdout",
     "output_type": "stream",
     "text": [
      "the number is  3.14\n"
     ]
    }
   ],
   "source": [
    " print('the number is %5.2f' % math.pi)# 按照浮点数 print，保留 2 位小数，并且输出内容的宽度为5个字符"
   ]
  },
  {
   "cell_type": "code",
   "execution_count": 10,
   "id": "e3290d0c",
   "metadata": {},
   "outputs": [
    {
     "name": "stdout",
     "output_type": "stream",
     "text": [
      "the number is 321\n"
     ]
    }
   ],
   "source": [
    " print('the number is %s' % 321) # 按照字符串 print"
   ]
  },
  {
   "cell_type": "code",
   "execution_count": 71,
   "id": "52b9e879",
   "metadata": {},
   "outputs": [
    {
     "name": "stdout",
     "output_type": "stream",
     "text": [
      "4.6%\n"
     ]
    }
   ],
   "source": [
    " print(\"%.1f%%\" % b)"
   ]
  },
  {
   "cell_type": "markdown",
   "id": "75a7be20",
   "metadata": {},
   "source": [
    "引号里面的百分号 % 定义了输出数据的格式，%d 表示按整数类型输出， %.2f 表示按浮点型输出，其中小数点后的数字表示保留几位小数，小数点前的数字表示输出变量所占的字符宽度，%s 表示按字符串输出,%.1f%% 表示按百分号输出，并保留一位小数。同时 print()函数里面还用一个百分号 % 分割 print 内容与数据变量，多个数据变量可以在小括号里面。"
   ]
  },
  {
   "cell_type": "code",
   "execution_count": null,
   "id": "c5adef7b",
   "metadata": {},
   "outputs": [],
   "source": [
    "print 默认输出后光标换行："
   ]
  },
  {
   "cell_type": "code",
   "execution_count": 13,
   "id": "e09cb1bd",
   "metadata": {},
   "outputs": [
    {
     "name": "stdout",
     "output_type": "stream",
     "text": [
      "my name is zhang\n",
      "age is 25\n"
     ]
    }
   ],
   "source": [
    "a = 'zhang'\n",
    "age = 25\n",
    "print('my name is %s' % a)\n",
    "print('age is %d' % age)"
   ]
  },
  {
   "cell_type": "markdown",
   "id": "e6232361",
   "metadata": {},
   "source": [
    "若要更改 print 光标结尾的内容，可以通过 end 参数更改："
   ]
  },
  {
   "cell_type": "code",
   "execution_count": 16,
   "id": "fefc9e01",
   "metadata": {},
   "outputs": [
    {
     "name": "stdout",
     "output_type": "stream",
     "text": [
      "my name is zhang-age is 25\n"
     ]
    }
   ],
   "source": [
    "a = 'zhang'\n",
    "age = 25\n",
    "print('my name is %s' % a, end = '-')\n",
    "print('age is %d' % age)"
   ]
  },
  {
   "cell_type": "markdown",
   "id": "d4489572",
   "metadata": {},
   "source": [
    "### 用 format 格式化 print\n",
    "\n",
    "用 format 也可以实现多种格式化输出。"
   ]
  },
  {
   "cell_type": "code",
   "execution_count": 53,
   "id": "c8d0c02b",
   "metadata": {},
   "outputs": [
    {
     "name": "stdout",
     "output_type": "stream",
     "text": [
      "the numbers are 3 and 4.56\n"
     ]
    }
   ],
   "source": [
    "a = 3\n",
    "b = 4.56\n",
    "print('the numbers are {} and {}'.format(a, b))"
   ]
  },
  {
   "cell_type": "code",
   "execution_count": 58,
   "id": "21189bd2",
   "metadata": {},
   "outputs": [
    {
     "name": "stdout",
     "output_type": "stream",
     "text": [
      "the numbers are 4.56 and 3\n",
      "the numbers are 3 and 4.56\n",
      "the numbers are 3 and 4.56 and 3\n"
     ]
    }
   ],
   "source": [
    "a = 3\n",
    "b = 4.56\n",
    "print('the numbers are {1} and {0}'.format(a, b)) # 指定了变量的 print 位置\n",
    "print('the numbers are {0} and {1}'.format(a, b))\n",
    "print('the numbers are {0} and {1} and {0}'.format(a, b))"
   ]
  },
  {
   "cell_type": "code",
   "execution_count": null,
   "id": "97cc52dc",
   "metadata": {},
   "outputs": [],
   "source": [
    "使用 format 时，可以通过冒号 : 跟参数，实现类似来 %的格式化 print。"
   ]
  },
  {
   "cell_type": "code",
   "execution_count": 59,
   "id": "74822aa5",
   "metadata": {},
   "outputs": [
    {
     "name": "stdout",
     "output_type": "stream",
     "text": [
      "the numbers are 3.00 and 300.00%\n"
     ]
    }
   ],
   "source": [
    "a = 3\n",
    "b = 4.56\n",
    "print('the numbers are {0:2.2f} and {0:.2%}'.format(a, b)) # print 小数和百分数"
   ]
  },
  {
   "cell_type": "code",
   "execution_count": 73,
   "id": "9a8c7e3a",
   "metadata": {},
   "outputs": [
    {
     "name": "stdout",
     "output_type": "stream",
     "text": [
      "the numer is 1.234560e+05\n"
     ]
    }
   ],
   "source": [
    "a = 123456\n",
    "print('the numer is {:e}'.format(a)) # print 科学计数格式"
   ]
  },
  {
   "cell_type": "markdown",
   "id": "50971c15",
   "metadata": {},
   "source": [
    "format 还可使实现不同的对齐格式，进制转换，数字填充等，本书不再赘述，感兴趣的读者可以进一步查阅官方文档。"
   ]
  },
  {
   "cell_type": "markdown",
   "id": "122359fd",
   "metadata": {},
   "source": [
    "### ``input``函数\n",
    "\n",
    "Python 中的输入用``input``函数，可以接受用户在键盘中输入的文本，例如："
   ]
  },
  {
   "cell_type": "code",
   "execution_count": 74,
   "id": "53501d33",
   "metadata": {},
   "outputs": [
    {
     "name": "stdout",
     "output_type": "stream",
     "text": [
      "input your name：chen\n"
     ]
    }
   ],
   "source": [
    "str = input('input your name：')"
   ]
  },
  {
   "cell_type": "code",
   "execution_count": 75,
   "id": "68396451",
   "metadata": {},
   "outputs": [
    {
     "data": {
      "text/plain": [
       "'chen'"
      ]
     },
     "execution_count": 75,
     "metadata": {},
     "output_type": "execute_result"
    }
   ],
   "source": [
    "str"
   ]
  },
  {
   "cell_type": "markdown",
   "id": "367a6a5d",
   "metadata": {},
   "source": [
    "## 读写文件\n",
    "\n",
    "Python 用``open()``函数返回一个文件对象，常用的语法规则为：\n",
    "\n",
    "<table>   \n",
    "    <tr style=\"border-top:solid; border-bottom:solid\">\n",
    "            <th colspan=2 style=\"text-align:center\">open(filename, mode)</th>\n",
    "    </tr>\n",
    "    <tr>\n",
    "        <td style=\"text-align:left\">filename</td>\n",
    "        <td style=\"text-align:left\">字符串，文件地址及文件名，默认地址为当前的项目文件夹</td>\n",
    "    </tr>\n",
    "    <tr style=\"border-bottom:solid\">\n",
    "        <td style=\"text-align:left\">mode</td>\n",
    "        <td style=\"text-align:left\">文件读写模式，默认模式为只读(r)</td>\n",
    "    </tr>\n",
    "</table>\n",
    "<br />"
   ]
  },
  {
   "cell_type": "markdown",
   "id": "08ae300d",
   "metadata": {},
   "source": [
    "常见的文件读写模式（mode）有：\n",
    "\n",
    "<table>\n",
    "    <tr style=\"border-top:solid\">\n",
    "        <td style=\"text-align:left\">r</td>\n",
    "        <td style=\"text-align:left\">以只读方式打开文件，从文件内容开头读取，这是默认模式</td>\n",
    "    </tr>\n",
    "    <tr>\n",
    "        <td rowspan=2 style=\"text-align:left\">w</td>\n",
    "        <td style=\"text-align:left\">打开一个文件只用于写入，从文件内容开头写入，即原有内容会被删除；</td>\n",
    "    </tr>\n",
    "    <tr>\n",
    "        <td style=\"text-align:left\">如果该文件不存在，创建新文件</td>\n",
    "    </tr>\n",
    "    <tr>\n",
    "        <td rowspan=2 style=\"text-align:left\">w+</td>\n",
    "        <td style=\"text-align:left\">打开一个文件用于读写，从文件内容开头写入，即原有内容会被删除；</td>\n",
    "    </tr>\n",
    "    <tr>\n",
    "        <td style=\"text-align:left\">如果该文件不存在，创建新文件</td>\n",
    "    </tr>\n",
    "    <tr>\n",
    "        <td style=\"text-align:left\">r+</td>\n",
    "        <td style=\"text-align:left\">打开一个文件用于读写。文件指针将会放在文件的开头</td>\n",
    "    </tr>\n",
    "    <tr>\n",
    "        <td rowspan=2 style=\"text-align:left\">a</td>\n",
    "        <td style=\"text-align:left\">打开一个文件用于追加写入，如果该文件已存在，从文件结尾写入；</td>\n",
    "    </tr>\n",
    "    <tr>\n",
    "        <td style=\"text-align:left\">如果该文件不存在，创建新文件进行写入</td>\n",
    "    </tr>\n",
    "    <tr>\n",
    "        <td rowspan=2 style=\"text-align:left\">a+</td>\n",
    "        <td style=\"text-align:left\">打开一个文件用于追加读写，如果该文件已存在，从文件结尾写；</td>\n",
    "    </tr>\n",
    "    <tr style=\"border-bottom:solid\">\n",
    "        <td style=\"text-align:left\">如果该文件不存在，创建新文件进行写入</td>\n",
    "    </tr>\n",
    "</table>"
   ]
  },
  {
   "cell_type": "markdown",
   "id": "056fb245",
   "metadata": {},
   "source": [
    "上面几个读写模式的详细比较如下面的表格所示：\n",
    "\n",
    "| 模式      | r          | r+         | w          | w+         | a          | a+         |\n",
    "|:-------:|------------|------------|------------|------------|------------|------------|\n",
    "| 读       | &check;| &check; |            | &check; |            | &check; |\n",
    "| 写       |            | &check; | &check; | &check; | &check; |&check; |\n",
    "| 创建      |            |            | &check; | &check; | &check; | &check; |\n",
    "| 覆盖      |            |            | &check; | &check; |            |            |\n",
    "| 从文件开始操作 | &check; | &check; | &check; | &check; |            |            |\n",
    "| 在文件末尾操作 |            |            |            |            | &check; |&check; |\n"
   ]
  },
  {
   "cell_type": "code",
   "execution_count": null,
   "id": "c7a65787",
   "metadata": {},
   "outputs": [],
   "source": []
  }
 ],
 "metadata": {
  "kernelspec": {
   "display_name": "Python 3 (ipykernel)",
   "language": "python",
   "name": "python3"
  },
  "language_info": {
   "codemirror_mode": {
    "name": "ipython",
    "version": 3
   },
   "file_extension": ".py",
   "mimetype": "text/x-python",
   "name": "python",
   "nbconvert_exporter": "python",
   "pygments_lexer": "ipython3",
   "version": "3.10.9"
  }
 },
 "nbformat": 4,
 "nbformat_minor": 5
}