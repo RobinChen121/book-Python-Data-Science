{
 "cells": [
  {
   "cell_type": "markdown",
   "id": "8771d0e2",
   "metadata": {},
   "source": [
    "# Python 输出输入，读写文件\n",
    "\n",
    "## print, input 函数\n",
    "\n",
    "Python 输出非常方便，用``print()``函数，小括号里面可以是数字、字符串、列表、字典等类型。"
   ]
  },
  {
   "cell_type": "code",
   "execution_count": 1,
   "id": "654362e0",
   "metadata": {},
   "outputs": [
    {
     "name": "stdout",
     "output_type": "stream",
     "text": [
      "[12, 45, 69]\n"
     ]
    }
   ],
   "source": [
    "print([12, 45, 69]) # 列表"
   ]
  },
  {
   "cell_type": "code",
   "execution_count": 2,
   "id": "6b614434",
   "metadata": {},
   "outputs": [
    {
     "name": "stdout",
     "output_type": "stream",
     "text": [
      "{'name': 'chen', 'mark': 85}\n"
     ]
    }
   ],
   "source": [
    "print({'name' : 'chen', 'mark' : 85}) # 字典"
   ]
  },
  {
   "cell_type": "code",
   "execution_count": 3,
   "id": "a4b72d1d",
   "metadata": {},
   "outputs": [
    {
     "name": "stdout",
     "output_type": "stream",
     "text": [
      "{4, 5, 6}\n"
     ]
    }
   ],
   "source": [
    "a = {4, 5, 6} # 集合\n",
    "print(a)"
   ]
  },
  {
   "cell_type": "code",
   "execution_count": 4,
   "id": "328a965d",
   "metadata": {},
   "outputs": [
    {
     "data": {
      "text/plain": [
       "'the array is [1, 2, 3]'"
      ]
     },
     "execution_count": 4,
     "metadata": {},
     "output_type": "execute_result"
    }
   ],
   "source": [
    "a = [1, 2, 3]\n",
    "f'the array is {a}'# 输出列表 a"
   ]
  },
  {
   "cell_type": "code",
   "execution_count": 5,
   "id": "52ef4ce6",
   "metadata": {
    "scrolled": true
   },
   "outputs": [
    {
     "data": {
      "text/plain": [
       "'the array is [1, 2, 3], the numer is 3.2'"
      ]
     },
     "execution_count": 5,
     "metadata": {},
     "output_type": "execute_result"
    }
   ],
   "source": [
    "b = 3.2\n",
    "f'the array is {a}, the numer is {b}'"
   ]
  },
  {
   "cell_type": "code",
   "execution_count": 6,
   "id": "7ef7bfd7",
   "metadata": {
    "scrolled": true
   },
   "outputs": [
    {
     "data": {
      "text/plain": [
       "'the numbers are 3.141592653589793 and 4.56'"
      ]
     },
     "execution_count": 6,
     "metadata": {},
     "output_type": "execute_result"
    }
   ],
   "source": [
    "import math\n",
    "\n",
    "b = 4.56\n",
    "f'the numbers are {math.pi} and {b}'"
   ]
  },
  {
   "cell_type": "markdown",
   "id": "3d1d42e6",
   "metadata": {},
   "source": [
    "print 也可以用 ``f{expression}``，大括号中的 exression 可以是一个变量名，例如，下面的代码打印出一个数组列表："
   ]
  },
  {
   "cell_type": "code",
   "execution_count": 7,
   "id": "d44ab011",
   "metadata": {},
   "outputs": [
    {
     "data": {
      "text/plain": [
       "'the array is [1, 2, 3]'"
      ]
     },
     "execution_count": 7,
     "metadata": {},
     "output_type": "execute_result"
    }
   ],
   "source": [
    "a = [1, 2, 3]\n",
    "f'the array is {a}'# 输出列表 a"
   ]
  },
  {
   "cell_type": "code",
   "execution_count": 8,
   "id": "6c6b0f3b",
   "metadata": {
    "scrolled": true
   },
   "outputs": [
    {
     "data": {
      "text/plain": [
       "'the array is [1, 2, 3], the numer is 3.2'"
      ]
     },
     "execution_count": 8,
     "metadata": {},
     "output_type": "execute_result"
    }
   ],
   "source": [
    "b = 3.2\n",
    "f'the array is {a}, the numer is {b}'"
   ]
  },
  {
   "cell_type": "code",
   "execution_count": 9,
   "id": "4c108df4",
   "metadata": {
    "scrolled": true
   },
   "outputs": [
    {
     "data": {
      "text/plain": [
       "'the numbers are 3.142 and 4.56'"
      ]
     },
     "execution_count": 9,
     "metadata": {},
     "output_type": "execute_result"
    }
   ],
   "source": [
    "b = 4.56\n",
    "f'the numbers are {math.pi:.3f} and {b}'"
   ]
  },
  {
   "cell_type": "markdown",
   "id": "fd634577",
   "metadata": {},
   "source": [
    "### 用 % 格式化 print\n",
    "若要格式化输出，要用到百分号 %，语法规则类似 c 语言，具体参考下面的例子。"
   ]
  },
  {
   "cell_type": "code",
   "execution_count": 10,
   "id": "a6c76d50",
   "metadata": {},
   "outputs": [
    {
     "name": "stdout",
     "output_type": "stream",
     "text": [
      "the number is 3\n"
     ]
    }
   ],
   "source": [
    "import math\n",
    "print('the number is %d' % math.pi) # 按照整数 print"
   ]
  },
  {
   "cell_type": "code",
   "execution_count": 11,
   "id": "6322d6f6",
   "metadata": {},
   "outputs": [
    {
     "name": "stdout",
     "output_type": "stream",
     "text": [
      "the number is 3.14\n"
     ]
    }
   ],
   "source": [
    "print('the number is %.2f' % math.pi) # 按照浮点数 print，并保留 2 位小数"
   ]
  },
  {
   "cell_type": "code",
   "execution_count": 12,
   "id": "6bb3b153",
   "metadata": {},
   "outputs": [
    {
     "name": "stdout",
     "output_type": "stream",
     "text": [
      "the number is 3.14\n",
      "\n"
     ]
    }
   ],
   "source": [
    "print('the number is %.2f\\n' % math.pi) # \\n 表示 print 后光标换行"
   ]
  },
  {
   "cell_type": "code",
   "execution_count": 13,
   "id": "fa2afbac",
   "metadata": {},
   "outputs": [
    {
     "name": "stdout",
     "output_type": "stream",
     "text": [
      "the numbers are 3.14 and 4\n"
     ]
    }
   ],
   "source": [
    "b = 4.56\n",
    "print('the numbers are %.2f and %d' % (math.pi, b)) # 同时 print 多个数据"
   ]
  },
  {
   "cell_type": "code",
   "execution_count": 14,
   "id": "15fd1936",
   "metadata": {},
   "outputs": [
    {
     "name": "stdout",
     "output_type": "stream",
     "text": [
      "the number is  3.14\n"
     ]
    }
   ],
   "source": [
    " print('the number is %5.2f' % math.pi)# 按照浮点数 print，保留 2 位小数，并且输出内容的宽度为5个字符"
   ]
  },
  {
   "cell_type": "code",
   "execution_count": 15,
   "id": "56c60d29",
   "metadata": {},
   "outputs": [
    {
     "name": "stdout",
     "output_type": "stream",
     "text": [
      "the number is 321\n"
     ]
    }
   ],
   "source": [
    " print('the number is %s' % 321) # 按照字符串 print"
   ]
  },
  {
   "cell_type": "code",
   "execution_count": 16,
   "id": "60a5fa8b",
   "metadata": {},
   "outputs": [
    {
     "name": "stdout",
     "output_type": "stream",
     "text": [
      "4.6%\n"
     ]
    }
   ],
   "source": [
    " print(\"%.1f%%\" % b) # 百分比输出，并保留一位小数"
   ]
  },
  {
   "cell_type": "markdown",
   "id": "245867e3",
   "metadata": {},
   "source": [
    "引号里面的百分号 % 定义了输出数据的格式，%d 表示按整数类型输出， %.2f 表示按浮点型输出，其中小数点后的数字表示保留几位小数，小数点前的数字表示输出变量所占的字符宽度，%s 表示按字符串输出,%.1f%% 表示按百分比输出，并保留一位小数。同时 print()函数里面还用一个百分号 % 分割 print 内容与数据变量，多个数据变量可以在小括号里面。"
   ]
  },
  {
   "cell_type": "code",
   "execution_count": 17,
   "id": "c9f921b8",
   "metadata": {},
   "outputs": [
    {
     "ename": "SyntaxError",
     "evalue": "invalid character '：' (U+FF1A) (3765777741.py, line 1)",
     "output_type": "error",
     "traceback": [
      "\u001b[1;36m  Cell \u001b[1;32mIn[17], line 1\u001b[1;36m\u001b[0m\n\u001b[1;33m    print 默认输出后光标换行：\u001b[0m\n\u001b[1;37m                   ^\u001b[0m\n\u001b[1;31mSyntaxError\u001b[0m\u001b[1;31m:\u001b[0m invalid character '：' (U+FF1A)\n"
     ]
    }
   ],
   "source": [
    "print 默认输出后光标换行："
   ]
  },
  {
   "cell_type": "code",
   "execution_count": 13,
   "id": "06fdb98e",
   "metadata": {},
   "outputs": [
    {
     "name": "stdout",
     "output_type": "stream",
     "text": [
      "my name is zhang\n",
      "age is 25\n"
     ]
    }
   ],
   "source": [
    "a = 'zhang'\n",
    "age = 25\n",
    "print('my name is %s' % a)\n",
    "print('age is %d' % age)"
   ]
  },
  {
   "cell_type": "markdown",
   "id": "77e9ab91",
   "metadata": {},
   "source": [
    "若要更改 print 光标结尾的内容，可以通过 end 参数更改："
   ]
  },
  {
   "cell_type": "code",
   "execution_count": 16,
   "id": "d105c93b",
   "metadata": {},
   "outputs": [
    {
     "name": "stdout",
     "output_type": "stream",
     "text": [
      "my name is zhang-age is 25\n"
     ]
    }
   ],
   "source": [
    "a = 'zhang'\n",
    "age = 25\n",
    "print('my name is %s' % a, end = '-')\n",
    "print('age is %d' % age)"
   ]
  },
  {
   "cell_type": "markdown",
   "id": "77a7f4b0",
   "metadata": {},
   "source": [
    "### 用 format 格式化 print\n",
    "\n",
    "用 format 也可以实现多种格式化输出。"
   ]
  },
  {
   "cell_type": "code",
   "execution_count": 53,
   "id": "0e84204c",
   "metadata": {},
   "outputs": [
    {
     "name": "stdout",
     "output_type": "stream",
     "text": [
      "the numbers are 3 and 4.56\n"
     ]
    }
   ],
   "source": [
    "a = 3\n",
    "b = 4.56\n",
    "print('the numbers are {} and {}'.format(a, b))"
   ]
  },
  {
   "cell_type": "code",
   "execution_count": 58,
   "id": "751cde24",
   "metadata": {},
   "outputs": [
    {
     "name": "stdout",
     "output_type": "stream",
     "text": [
      "the numbers are 4.56 and 3\n",
      "the numbers are 3 and 4.56\n",
      "the numbers are 3 and 4.56 and 3\n"
     ]
    }
   ],
   "source": [
    "a = 3\n",
    "b = 4.56\n",
    "print('the numbers are {1} and {0}'.format(a, b)) # 指定了变量的 print 位置\n",
    "print('the numbers are {0} and {1}'.format(a, b))\n",
    "print('the numbers are {0} and {1} and {0}'.format(a, b))"
   ]
  },
  {
   "cell_type": "code",
   "execution_count": null,
   "id": "09d6b30c",
   "metadata": {},
   "outputs": [],
   "source": [
    "使用 format 时，可以通过冒号 : 跟参数，实现类似来 %的格式化 print。"
   ]
  },
  {
   "cell_type": "code",
   "execution_count": 59,
   "id": "c2f1a09e",
   "metadata": {},
   "outputs": [
    {
     "name": "stdout",
     "output_type": "stream",
     "text": [
      "the numbers are 3.00 and 300.00%\n"
     ]
    }
   ],
   "source": [
    "a = 3\n",
    "b = 4.56\n",
    "print('the numbers are {0:2.2f} and {0:.2%}'.format(a, b)) # print 小数和百分数"
   ]
  },
  {
   "cell_type": "code",
   "execution_count": 73,
   "id": "d220f8a7",
   "metadata": {},
   "outputs": [
    {
     "name": "stdout",
     "output_type": "stream",
     "text": [
      "the numer is 1.234560e+05\n"
     ]
    }
   ],
   "source": [
    "a = 123456\n",
    "print('the numer is {:e}'.format(a)) # print 科学计数格式"
   ]
  },
  {
   "cell_type": "markdown",
   "id": "e21af8f5",
   "metadata": {},
   "source": [
    "format 还可使实现不同的对齐格式，进制转换，数字填充等，本书不再赘述，感兴趣的读者可以进一步查阅官方文档。"
   ]
  },
  {
   "cell_type": "markdown",
   "id": "db175114",
   "metadata": {},
   "source": [
    "### ``input``函数\n",
    "\n",
    "Python 中的输入用``input``函数，可以接受用户在键盘中输入的文本，例如："
   ]
  },
  {
   "cell_type": "code",
   "execution_count": 74,
   "id": "bae83371",
   "metadata": {},
   "outputs": [
    {
     "name": "stdout",
     "output_type": "stream",
     "text": [
      "input your name：chen\n"
     ]
    }
   ],
   "source": [
    "str = input('input your name：')"
   ]
  },
  {
   "cell_type": "code",
   "execution_count": 75,
   "id": "a6f11f62",
   "metadata": {},
   "outputs": [
    {
     "data": {
      "text/plain": [
       "'chen'"
      ]
     },
     "execution_count": 75,
     "metadata": {},
     "output_type": "execute_result"
    }
   ],
   "source": [
    "str"
   ]
  },
  {
   "cell_type": "markdown",
   "id": "9ff86a3c",
   "metadata": {},
   "source": [
    "## 读写文件\n",
    "\n",
    "Python 用``open()``函数返回一个文件对象，常用的语法规则为：\n",
    "\n",
    "<table>   \n",
    "    <tr style=\"border-top:solid; border-bottom:solid\">\n",
    "            <th colspan=2 style=\"text-align:center\">if 语句的一般模式</th>\n",
    "    </tr>\n",
    "    <tr>\n",
    "        <td style=\"text-align:left\">filename</td>\n",
    "        <td style=\"text-align:left\">字符串，文件地址及文件名，默认地址为当前的项目文件夹</td>\n",
    "    </tr>\n",
    "    <tr style=\"border-bottom:solid\">\n",
    "        <td style=\"text-align:left\">mode</td>\n",
    "        <td style=\"text-align:left\">文件读写模式，默认模式为只读(r)</td>\n",
    "    </tr>\n",
    "</table>\n",
    "<br />"
   ]
  },
  {
   "cell_type": "markdown",
   "id": "8cb4d6b5",
   "metadata": {},
   "source": [
    "常见的文件读写模式（mode）有：\n",
    "\n",
    "<table>\n",
    "    <tr style=\"border-top:solid\">\n",
    "        <td style=\"text-align:left\">r</td>\n",
    "        <td style=\"text-align:left\">以只读方式打开文件，从文件内容开头读取，这是默认模式</td>\n",
    "    </tr>\n",
    "    <tr>\n",
    "        <td rowspan=2 style=\"text-align:left\">w</td>\n",
    "        <td style=\"text-align:left\">打开一个文件只用于写入，从文件内容开头写入，即原有内容会被删除；</td>\n",
    "    </tr>\n",
    "    <tr>\n",
    "        <td style=\"text-align:left\">如果该文件不存在，创建新文件</td>\n",
    "    </tr>\n",
    "    <tr>\n",
    "        <td rowspan=2 style=\"text-align:left\">w+</td>\n",
    "        <td style=\"text-align:left\">打开一个文件用于读写，从文件内容开头写入，即原有内容会被删除；</td>\n",
    "    </tr>\n",
    "    <tr>\n",
    "        <td style=\"text-align:left\">如果该文件不存在，创建新文件</td>\n",
    "    </tr>\n",
    "    <tr>\n",
    "        <td style=\"text-align:left\">r+</td>\n",
    "        <td style=\"text-align:left\">打开一个文件用于读写。文件指针将会放在文件的开头</td>\n",
    "    </tr>\n",
    "    <tr>\n",
    "        <td rowspan=2 style=\"text-align:left\">a</td>\n",
    "        <td style=\"text-align:left\">打开一个文件用于追加写入，如果该文件已存在，从文件结尾写入；</td>\n",
    "    </tr>\n",
    "    <tr>\n",
    "        <td style=\"text-align:left\">如果该文件不存在，创建新文件进行写入</td>\n",
    "    </tr>\n",
    "    <tr>\n",
    "        <td rowspan=2 style=\"text-align:left\">a+</td>\n",
    "        <td style=\"text-align:left\">打开一个文件用于追加读写，如果该文件已存在，从文件结尾写；</td>\n",
    "    </tr>\n",
    "    <tr style=\"border-bottom:solid\">\n",
    "        <td style=\"text-align:left\">如果该文件不存在，创建新文件进行写入</td>\n",
    "    </tr>\n",
    "</table>"
   ]
  },
  {
   "cell_type": "markdown",
   "id": "481b9fa1",
   "metadata": {},
   "source": [
    "上面几个读写模式的详细比较如下面的表格所示：\n",
    "\n",
    "| 模式      | r          | r+         | w          | w+         | a          | a+         |\n",
    "|:-------:|------------|------------|------------|------------|------------|------------|\n",
    "| 读       | &check;| &check; |            | &check; |            | &check; |\n",
    "| 写       |            | &check; | &check; | &check; | &check; |&check; |\n",
    "| 创建      |            |            | &check; | &check; | &check; | &check; |\n",
    "| 覆盖      |            |            | &check; | &check; |            |            |\n",
    "| 从文件开始操作 | &check; | &check; | &check; | &check; |            |            |\n",
    "| 在文件末尾操作 |            |            |            |            | &check; |&check; |\n"
   ]
  },
  {
   "cell_type": "markdown",
   "id": "594f61a4",
   "metadata": {},
   "source": [
    "举例："
   ]
  },
  {
   "cell_type": "code",
   "execution_count": 13,
   "id": "0ea7101d",
   "metadata": {},
   "outputs": [],
   "source": [
    "f = open('./test.txt', 'w') # 在指定位置新建文件\n",
    "f.write('my name is zhang san\\nhis name is li si') # 书写内容，用 \\n 换行\n",
    "f.close() # 关闭打开的文件"
   ]
  },
  {
   "cell_type": "markdown",
   "id": "f351c739",
   "metadata": {},
   "source": [
    "上面的程序在当前目录新建了一个 txt 文件。 通过``write()``函数在文件里面写内容，其中，\\n 表示换行。下面通过``read()``函数读取文件里的全部内容，并返回一个字符串："
   ]
  },
  {
   "cell_type": "code",
   "execution_count": 14,
   "id": "e361b9fc",
   "metadata": {},
   "outputs": [
    {
     "name": "stdout",
     "output_type": "stream",
     "text": [
      "my name is zhang san\n",
      "his name is li si\n"
     ]
    }
   ],
   "source": [
    "f = open('./test.txt', 'r') # 在指定位置打开文件\n",
    "str = f.read() # 读取文件内容\n",
    "print(str) # 将内容输出到屏幕\n",
    "f.close() # 关闭打开的文件"
   ]
  },
  {
   "cell_type": "markdown",
   "id": "1690afdd",
   "metadata": {},
   "source": [
    "如果只读取一行，可以用``readline()``函数，另外可以用``readlines()``函数读取所有行，并返回一个字符串列表。\n",
    "\n",
    "在实际的 python 读写文件中，经常用到的是 with-open 语句。由于文件读写时都有可能产生 IOError，一旦出错，后面的 f.close() 就不会调用，用 ``with-open``语句可以省略 f.close() 语句。上面的读写代码也可以变为："
   ]
  },
  {
   "cell_type": "code",
   "execution_count": 16,
   "id": "2ac33758",
   "metadata": {},
   "outputs": [
    {
     "name": "stdout",
     "output_type": "stream",
     "text": [
      "my name is zhang san\n",
      "his name is li si\n"
     ]
    }
   ],
   "source": [
    "# 写文件\n",
    "with open('./text.txt', 'w') as f:\n",
    "     f.write('my name is zhang san\\nhis name is li si')\n",
    "\n",
    "# 读文件\n",
    "with open ('./text.txt', 'r') as f:\n",
    "     str = f.read() # 读取文件内容\n",
    "     print(str) # 将内容输出到屏幕"
   ]
  },
  {
   "cell_type": "markdown",
   "id": "272abfc4",
   "metadata": {},
   "source": [
    "读写数据格式的文件，例如 txt, xls, xlsx, csv 文件等，一般使用工具包``Pandas``读取文件并处理数据，读者可以在本书的``Pandas``章节查阅。读写 word 格式文件，可以使用工具包``textract``，``docx2txt``等，本书不再赘述，感兴趣的读者可以在网上查阅相关资料。"
   ]
  }
 ],
 "metadata": {
  "kernelspec": {
   "display_name": "Python 3 (ipykernel)",
   "language": "python",
   "name": "python3"
  },
  "language_info": {
   "codemirror_mode": {
    "name": "ipython",
    "version": 3
   },
   "file_extension": ".py",
   "mimetype": "text/x-python",
   "name": "python",
   "nbconvert_exporter": "python",
   "pygments_lexer": "ipython3",
   "version": "3.11.4"
  }
 },
 "nbformat": 4,
 "nbformat_minor": 5
}