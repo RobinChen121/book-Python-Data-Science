{
 "cells": [
  {
   "cell_type": "markdown",
   "id": "bf7f5785",
   "metadata": {},
   "source": [
    "#  Pandas 入门\n",
    "\n",
    "pandas 是 Python 做统计分析时最重要的数据分析工具之一，它基于 numpy 开发，提供了许多处理大型数据集所需的函数，可以灵活高效的处理各种数据集。\n",
    "\n",
    "pandas 一般使用的数据类型为 `DataFrame`, DataFrame 是二维数据，相当于 Excel 里面的一张表格数据。使用 pandas 时首先要导入 pandas 包。"
   ]
  },
  {
   "cell_type": "code",
   "execution_count": 1,
   "id": "8abcc4af",
   "metadata": {},
   "outputs": [],
   "source": [
    " import pandas as pd"
   ]
  },
  {
   "cell_type": "markdown",
   "id": "3f2b6291",
   "metadata": {},
   "source": [
    "##  创建，读取与存储数据\n",
    "\n",
    "### 创建数据\n",
    "\n",
    "例如有下面的数据：\n",
    "    \n",
    " 姓名|统计学 |高数 |英语\n",
    " |:--------:|:--------:|:--------:|:--------:|\n",
    " 张三 | 85 | 82 | 84  \n",
    " 李四 | 68 | 63 | 90 \n",
    " 王五 | 90 | 88 | 78 |"
   ]
  },
  {
   "cell_type": "markdown",
   "id": "0ca0842d",
   "metadata": {},
   "source": [
    "我们使用字典类型数据，将上面的读取到一个 DataFrame 里面："
   ]
  },
  {
   "cell_type": "code",
   "execution_count": 2,
   "id": "373fef9c",
   "metadata": {},
   "outputs": [
    {
     "data": {
      "text/html": [
       "<div>\n",
       "<style scoped>\n",
       "    .dataframe tbody tr th:only-of-type {\n",
       "        vertical-align: middle;\n",
       "    }\n",
       "\n",
       "    .dataframe tbody tr th {\n",
       "        vertical-align: top;\n",
       "    }\n",
       "\n",
       "    .dataframe thead th {\n",
       "        text-align: right;\n",
       "    }\n",
       "</style>\n",
       "<table border=\"1\" class=\"dataframe\">\n",
       "  <thead>\n",
       "    <tr style=\"text-align: right;\">\n",
       "      <th></th>\n",
       "      <th>姓名</th>\n",
       "      <th>统计学</th>\n",
       "      <th>高数</th>\n",
       "      <th>英语</th>\n",
       "    </tr>\n",
       "  </thead>\n",
       "  <tbody>\n",
       "    <tr>\n",
       "      <th>0</th>\n",
       "      <td>张三</td>\n",
       "      <td>85</td>\n",
       "      <td>82</td>\n",
       "      <td>84</td>\n",
       "    </tr>\n",
       "    <tr>\n",
       "      <th>1</th>\n",
       "      <td>李四</td>\n",
       "      <td>68</td>\n",
       "      <td>63</td>\n",
       "      <td>90</td>\n",
       "    </tr>\n",
       "    <tr>\n",
       "      <th>2</th>\n",
       "      <td>王五</td>\n",
       "      <td>90</td>\n",
       "      <td>88</td>\n",
       "      <td>78</td>\n",
       "    </tr>\n",
       "  </tbody>\n",
       "</table>\n",
       "</div>"
      ],
      "text/plain": [
       "   姓名  统计学  高数  英语\n",
       "0  张三   85  82  84\n",
       "1  李四   68  63  90\n",
       "2  王五   90  88  78"
      ]
     },
     "execution_count": 2,
     "metadata": {},
     "output_type": "execute_result"
    }
   ],
   "source": [
    "df = pd.DataFrame({'姓名':['张三', '李四', '王五'], '统计学': [85, 68, 90],\n",
    "                   '高数': [82, 63, 88], '英语': [84, 90, 78]})\n",
    "df"
   ]
  },
  {
   "cell_type": "markdown",
   "id": "c496895f",
   "metadata": {},
   "source": [
    "上面的图形中，第一行是列标题，第一列是行标题，可以分别通过 ``columns`` 与 ``index`` 访问。"
   ]
  },
  {
   "cell_type": "code",
   "execution_count": 3,
   "id": "73d91b7f",
   "metadata": {},
   "outputs": [
    {
     "data": {
      "text/plain": [
       "Index(['姓名', '统计学', '高数', '英语'], dtype='object')"
      ]
     },
     "execution_count": 3,
     "metadata": {},
     "output_type": "execute_result"
    }
   ],
   "source": [
    "df.columns"
   ]
  },
  {
   "cell_type": "code",
   "execution_count": 4,
   "id": "0d396e1f",
   "metadata": {},
   "outputs": [
    {
     "data": {
      "text/plain": [
       "RangeIndex(start=0, stop=3, step=1)"
      ]
     },
     "execution_count": 4,
     "metadata": {},
     "output_type": "execute_result"
    }
   ],
   "source": [
    "df.index"
   ]
  },
  {
   "cell_type": "markdown",
   "id": "b500bd1d",
   "metadata": {},
   "source": [
    "### 读取数据\n",
    "\n",
    "多数情况下，我们要读取数据文件（例如 excel），假设上面的例子在 excel 文件 'transcripts.xlsx' 里并放在电脑硬盘位置“/Users/zhenchen/Documents/python data” 中，可以通过函数``read_excel``读取文件："
   ]
  },
  {
   "cell_type": "markdown",
   "id": "81e593e1",
   "metadata": {},
   "source": [
    "```{code-block}python\n",
    "df = pd.read_excel(r'/Users/zhenchen/Documents/python data/transcripts.xlsx')\n",
    "```"
   ]
  },
  {
   "cell_type": "markdown",
   "id": "08f20f68",
   "metadata": {},
   "source": [
    "```{admonition} 注意\n",
    "- 苹果电脑的文件地址用符号``/``分割，而 windows 系统的文件地址用符号``\\``分割\n",
    "- 文件地址前加上``r``能够保持字符串原始值的含义，而不对其中的符号进行转义\n",
    "```"
   ]
  },
  {
   "cell_type": "markdown",
   "id": "dc15e1d2",
   "metadata": {},
   "source": [
    "``read_excel`` 的一般语法如下："
   ]
  },
  {
   "cell_type": "markdown",
   "id": "373ad22e",
   "metadata": {},
   "source": [
    "<table>   \n",
    "    <tr style=\"border-top:solid; border-bottom:solid\">\n",
    "            <th colspan=2 style=\"text-align:center\">read_excel(io, sheetname=0, header=0, skiprows=None,  index_col=None)</th>\n",
    "    </tr>\n",
    "    <tr>\n",
    "        <td style=\"text-align:left\">io</td>\n",
    "        <td style=\"text-align:left\">数据文件的地址与名字，一般为字符串</td>\n",
    "    </tr>\n",
    "    <tr>\n",
    "        <td style=\"text-align:left\">sheetname</td>\n",
    "        <td style=\"text-align:left\">工作簿名字，默认为0，表示读取第一张工作簿</td>\n",
    "    </tr>\n",
    "    <tr>\n",
    "        <td style=\"text-align:left\">header</td>\n",
    "        <td style=\"text-align:left\">作为列名的行，默认为0，即取第一行的值为列名</td>\n",
    "    </tr>\n",
    "    <tr>\n",
    "        <td style=\"text-align:left\">skiprows</td>\n",
    "        <td style=\"text-align:left\">省略指定行数的数据,从第一行开始查起</td>\n",
    "    </tr>\n",
    "    <tr style=\"border-bottom:solid\">\n",
    "        <td style=\"text-align:left\">index_col</td>\n",
    "        <td style=\"text-align:left\">行标题所在的列</td>\n",
    "    </tr>\n",
    "</table>\n",
    "<br />"
   ]
  },
  {
   "cell_type": "markdown",
   "id": "42f69211",
   "metadata": {},
   "source": [
    "还有一种常见的数据文件类型为 csv，我们只需使用 pandas 中的函数``read_csv``，它的语法与``read_excel``基本一致。"
   ]
  },
  {
   "cell_type": "markdown",
   "id": "eb0e5588",
   "metadata": {},
   "source": [
    "### 存储数据\n",
    "\n",
    "存储时使用函数 ``to_excel`` 或 ``to_csv``。例如我们将数据 df 仍然存储到文件夹 “/Users/zhenchen/Documents/python data” 里，并命名为 “marks.xlsx”："
   ]
  },
  {
   "cell_type": "markdown",
   "id": "fd03f164",
   "metadata": {},
   "source": [
    "```{code-block} python\n",
    "df.to_excel(r'/Users/zhenchen/Documents/python data/marks.xlsx')\n",
    "```"
   ]
  },
  {
   "cell_type": "markdown",
   "id": "c8be6196",
   "metadata": {},
   "source": [
    "## 查看与修改数据\n",
    "\n",
    "快速查看 DataFrame 各列数据的统计信息可以使用 ``discribe()`` 函数，包括各列数据的非空数值数目、均值、标准差、最大值、最小值、分位数。"
   ]
  },
  {
   "cell_type": "code",
   "execution_count": null,
   "id": "f0f739b6",
   "metadata": {},
   "outputs": [],
   "source": [
    "df.describe()"
   ]
  },
  {
   "cell_type": "markdown",
   "id": "803aa412",
   "metadata": {},
   "source": [
    "另外还有几个方便使用的函数：\n",
    "\n",
    "|  函数 | 作用| \n",
    "|:--|:-- |\n",
    "|``info()``| 查看各列数据的类型|\n",
    "|``head()``| 查看前 5 行数据 |\n",
    "|``tail()``| 查看后 5 行数据 |"
   ]
  },
  {
   "cell_type": "markdown",
   "id": "fdf089eb",
   "metadata": {},
   "source": [
    "### 查看单行，单列，单元格数据\n",
    "\n",
    "查看某一列数据时，最简单的方式是在中括号``[]``里面输入列名的方式，例如查看英语成绩那一列数据："
   ]
  },
  {
   "cell_type": "code",
   "execution_count": null,
   "id": "2c4f92b9",
   "metadata": {},
   "outputs": [],
   "source": [
    "df['英语']"
   ]
  },
  {
   "cell_type": "markdown",
   "id": "0a92db2f",
   "metadata": {},
   "source": [
    "查看某一行数据时，可以用``loc[]``函数跟行索引的方式；另外一种方式是中括号``[]``里面跟着相邻两个行索引。"
   ]
  },
  {
   "cell_type": "code",
   "execution_count": null,
   "id": "ad455b9f",
   "metadata": {},
   "outputs": [],
   "source": [
    "df.loc[0] #显示第 1 行的数据"
   ]
  },
  {
   "cell_type": "code",
   "execution_count": null,
   "id": "6b267dc9",
   "metadata": {},
   "outputs": [],
   "source": [
    "df.loc[2] # 显示第 2 行的数据"
   ]
  },
  {
   "cell_type": "code",
   "execution_count": null,
   "id": "5cd33d64",
   "metadata": {},
   "outputs": [],
   "source": [
    "df[0:1] # 显示第 1 行的数据"
   ]
  },
  {
   "cell_type": "code",
   "execution_count": null,
   "id": "c8327b74",
   "metadata": {},
   "outputs": [],
   "source": [
    "df[1:2] # 显示第 2 行的数据"
   ]
  },
  {
   "cell_type": "markdown",
   "id": "2a824175",
   "metadata": {},
   "source": [
    "若查看某个单元格，比较方便的方式是用两个中括号，每个中括号内分别跟着行索引和列索引，例如查看李四的高数成绩："
   ]
  },
  {
   "cell_type": "code",
   "execution_count": null,
   "id": "6718d57a",
   "metadata": {},
   "outputs": [],
   "source": [
    "df[1:2]['高数']"
   ]
  },
  {
   "cell_type": "markdown",
   "id": "5006190d",
   "metadata": {},
   "source": [
    "### 查看多行，多列数据\n",
    "\n",
    "查看多行、多列数据时，可以用 ``iloc``，它不仅能查看多行多列数据，也能查看单行、单列或某个单元格数据。\n",
    "例如，查看行数据："
   ]
  },
  {
   "cell_type": "code",
   "execution_count": null,
   "id": "33c751dd",
   "metadata": {},
   "outputs": [],
   "source": [
    "df.iloc[1]          # 查看第 2 行数据\n",
    "df.iloc[0:2]        # 查看前 2 行数据\n",
    "df.iloc[[0, 2]]     # 查看第 1 行与第 3 行数据"
   ]
  },
  {
   "cell_type": "markdown",
   "id": "826ee0c5",
   "metadata": {},
   "source": [
    "查看列数据："
   ]
  },
  {
   "cell_type": "code",
   "execution_count": null,
   "id": "88cd054b",
   "metadata": {},
   "outputs": [],
   "source": [
    "df.iloc[:, 1]       # 查看第 2 列数据\n",
    "df.iloc[:, 0:2]     # 查看前 2 列数据\n",
    "df.iloc[:, [0, 2]]  # 查看第 1 列与第 3 列数据"
   ]
  },
  {
   "cell_type": "markdown",
   "id": "e179941f",
   "metadata": {},
   "source": [
    "查看一块数据："
   ]
  },
  {
   "cell_type": "code",
   "execution_count": null,
   "id": "e48b4c2f",
   "metadata": {},
   "outputs": [],
   "source": [
    "df.iloc[0:2, 0:2]          # 查看前 2 行，前 2 列的一块数据\n",
    "df.iloc[[0, 2],  [0, 2]]   # 查看第 1、第 3 行，第 1、第 3 列的一块数据\n",
    "df.iloc[0:2, [0, 2]]       # 查看前 3 行，第 1、第 3 列的一块数据\n",
    "df.iloc[[0, 2], 0:2]       # 第 1、第 3 行，前 2 列的一块数据"
   ]
  },
  {
   "cell_type": "markdown",
   "id": "7ea278e1",
   "metadata": {},
   "source": [
    "查看某个单元格："
   ]
  },
  {
   "cell_type": "code",
   "execution_count": null,
   "id": "4b7fd171",
   "metadata": {},
   "outputs": [],
   "source": [
    "df.iloc[1, 1]   # 查看第 2 行，第 2 列的单元格数据"
   ]
  },
  {
   "cell_type": "markdown",
   "id": "0da7684d",
   "metadata": {},
   "source": [
    "查看具体几列数据，可以在中括号``[]``里面跟一个索引列表，例如，查看统计学与英语的成绩："
   ]
  },
  {
   "cell_type": "code",
   "execution_count": null,
   "id": "962cedb9",
   "metadata": {},
   "outputs": [],
   "source": [
    "df[['统计学', '英语']]"
   ]
  },
  {
   "cell_type": "code",
   "execution_count": null,
   "id": "0586622c",
   "metadata": {},
   "outputs": [],
   "source": [
    "df[0:3]"
   ]
  },
  {
   "cell_type": "markdown",
   "id": "fe4f4e80",
   "metadata": {},
   "source": [
    "查看具体几行数据，可以用``iloc``结合索引列表的形式，例如，查看张三与王五的成绩："
   ]
  },
  {
   "cell_type": "code",
   "execution_count": null,
   "id": "00604d05",
   "metadata": {},
   "outputs": [],
   "source": [
    "df.iloc[[0,2]]"
   ]
  },
  {
   "cell_type": "markdown",
   "id": "655955b4",
   "metadata": {},
   "source": [
    "### 查看数据的统计值\n",
    "\n",
    "Pandas 自带一些统计函数，可以得到列数据的统计值，这些统计函数包括：mean（均值），max（最大值），min（最小值），median（中位数），std（标准差），count（计数），skew（均值），quantile（分位数）等。有时候需要添加参数``numeric_only = True``，表示只对数值数列应用函数。"
   ]
  },
  {
   "cell_type": "code",
   "execution_count": null,
   "id": "a260994f",
   "metadata": {},
   "outputs": [],
   "source": [
    "df['统计学'].mean() # 求出统计学课程等平均分数"
   ]
  },
  {
   "cell_type": "code",
   "execution_count": null,
   "id": "23d9eacc",
   "metadata": {},
   "outputs": [],
   "source": [
    "df.mean(numeric_only = True) # 求出每门课程等平均值，因为第一列姓名不为数值，添加了参数 ``numeric_only = True``"
   ]
  },
  {
   "cell_type": "code",
   "execution_count": null,
   "id": "26a25ba4",
   "metadata": {},
   "outputs": [],
   "source": [
    "df['高数'].max() # 求出高数课程等最高分"
   ]
  },
  {
   "cell_type": "markdown",
   "id": "1dd0ca6d",
   "metadata": {},
   "source": [
    "###  修改数据\n",
    "\n",
    "在修改 pandas 的 DataFrame 数据时，将 pandas 的索引位置赋值为新的值。例如，当修改某列数据时，语法为：``df[‘列名'] =  某个值或某个元素个数与 DataFrame 列数相同的列表``。"
   ]
  },
  {
   "cell_type": "code",
   "execution_count": null,
   "id": "2c437a51",
   "metadata": {},
   "outputs": [],
   "source": [
    "df['统计学'] = 80  # 修改统计学这一列的数值为同一个值 80\n",
    "df"
   ]
  },
  {
   "cell_type": "code",
   "execution_count": null,
   "id": "f80d3280",
   "metadata": {},
   "outputs": [],
   "source": [
    "df['统计学'] = [95, 76, 88]  # 修改统计学这一列的数值为列表中的值\n",
    "df"
   ]
  },
  {
   "cell_type": "code",
   "execution_count": null,
   "id": "6091d677",
   "metadata": {},
   "outputs": [],
   "source": [
    "df.iloc[1] = 80  # 修改第 2 行的数据为同一个值 80\n",
    "df"
   ]
  },
  {
   "cell_type": "code",
   "execution_count": null,
   "id": "67d2c479",
   "metadata": {},
   "outputs": [],
   "source": [
    "df.iloc[1] = ['赵四', 95, 90, 89]  # 修改第 2 行的数据为列表中的值\n",
    "df"
   ]
  },
  {
   "cell_type": "markdown",
   "id": "9359f8c7",
   "metadata": {},
   "source": [
    "下面的代码修改第2行第2列中的数值："
   ]
  },
  {
   "cell_type": "code",
   "execution_count": null,
   "id": "2f95afba",
   "metadata": {},
   "outputs": [],
   "source": [
    "df.iloc[1, 1] = 100  # 修改第2行第2列中的数值\n",
    "df"
   ]
  },
  {
   "cell_type": "markdown",
   "id": "e146164b",
   "metadata": {},
   "source": [
    "## 增加，删除与合并数据"
   ]
  },
  {
   "cell_type": "markdown",
   "id": "59f362cd",
   "metadata": {},
   "source": [
    "### 增加数据\n",
    "\n",
    "在原数据末尾增加一列时，语法为 ``df[‘新列名'] = 某个值或某个元素个数与 DataFrame 列数相同的列表``，例如："
   ]
  },
  {
   "cell_type": "code",
   "execution_count": null,
   "id": "eed07793",
   "metadata": {},
   "outputs": [],
   "source": [
    "df['计算机'] = [92, 69, 75] # 增加一列计算机课程的成绩\n",
    "df"
   ]
  },
  {
   "cell_type": "markdown",
   "id": "3d278c2d",
   "metadata": {},
   "source": [
    "在原数据末尾增加一行数据时，比较简单的方式是用 loc 函数，``df.loc[行索引] = 新行值``。"
   ]
  },
  {
   "cell_type": "code",
   "execution_count": null,
   "id": "f06e8fdd",
   "metadata": {},
   "outputs": [],
   "source": [
    "df.loc[3] = ['马六', 65, 70, 69, 55]  # 在末尾增加一行数据\n",
    "df"
   ]
  },
  {
   "cell_type": "markdown",
   "id": "4c36d72f",
   "metadata": {},
   "source": [
    "若要在指定位置插入列，则需要用到 ``insert`` 函数。"
   ]
  },
  {
   "cell_type": "code",
   "execution_count": null,
   "id": "3b0c5fcc",
   "metadata": {},
   "outputs": [],
   "source": [
    "df.insert(1, '运筹学', [61, 72, 84, 81]) # 在第 1 列后面插入新的一列\n",
    "df"
   ]
  },
  {
   "cell_type": "code",
   "execution_count": null,
   "id": "79a1e42d",
   "metadata": {},
   "outputs": [],
   "source": [
    "df.insert(3, 'Python', [81, 76, 74, 71]) # 在第 4 列后面插入新的一列\n",
    "df"
   ]
  },
  {
   "cell_type": "markdown",
   "id": "2b623763",
   "metadata": {},
   "source": [
    "若要在指定位置插入行，目前 Pandas 还没有专门的函数，一般采用``concat``函数合并多个 DataFrame 的方式，增加多列或多行数据也可以使用 ``concat``函数或``merge``函数，具体参看后面的合并数据章节。"
   ]
  },
  {
   "cell_type": "markdown",
   "id": "602a1f88",
   "metadata": {},
   "source": [
    "### 删除数据"
   ]
  },
  {
   "cell_type": "markdown",
   "id": "db296504",
   "metadata": {},
   "source": [
    "Pandas 可以利用``drop``函数删除行数据或列数据。删除一行时，参数为行标签名以及``inplace = True``。若没有参数``inplace = True``，原始的 DataFrame 数据不变。"
   ]
  },
  {
   "cell_type": "code",
   "execution_count": null,
   "id": "3fb6915e",
   "metadata": {},
   "outputs": [],
   "source": [
    "df.drop(3, inplace = True) # 删除第 3 行\n",
    "df"
   ]
  },
  {
   "cell_type": "markdown",
   "id": "886e43c0",
   "metadata": {},
   "source": [
    "删除一列时，多了一个参数``axis = 1``："
   ]
  },
  {
   "cell_type": "code",
   "execution_count": null,
   "id": "3c494c04",
   "metadata": {},
   "outputs": [],
   "source": [
    "df.drop('英语', inplace = True, axis = 1)\n",
    "df"
   ]
  },
  {
   "cell_type": "code",
   "execution_count": null,
   "id": "5559de1a",
   "metadata": {},
   "outputs": [],
   "source": [
    "df.drop(['运筹学', '高数'], inplace = True, axis = 1) # 删除两行\n",
    "df"
   ]
  },
  {
   "cell_type": "markdown",
   "id": "142e4ccf",
   "metadata": {},
   "source": [
    "### 合并数据\n",
    "\n",
    "Pandas 中比较常用的两个合并数据的方法是``concat``与``merge``。 当两个 DataFrame 数据表具有完全相同的列标签时，一般用``concat``，其他情况下多用``merge``。"
   ]
  },
  {
   "cell_type": "code",
   "execution_count": null,
   "id": "c21f31db",
   "metadata": {},
   "outputs": [],
   "source": [
    "df1 = pd.DataFrame({'姓名': ['张三', '李四', '王五'], '统计学': [85, 68, 90], '高数': [82, 63, 88], '英语': [84, 90, 78]})\n",
    "df1"
   ]
  },
  {
   "cell_type": "code",
   "execution_count": null,
   "id": "460c7c85",
   "metadata": {},
   "outputs": [],
   "source": [
    "df2 = pd.DataFrame({'姓名': ['马大帅', '陈小虎'], '统计学': [83, 59], '高数': [92, 70], '英语': [94, 78]})\n",
    "df2"
   ]
  },
  {
   "cell_type": "markdown",
   "id": "4c5cc22c",
   "metadata": {},
   "source": [
    "两张表具有完全相同的行名，用``concat``合并的代码如下："
   ]
  },
  {
   "cell_type": "code",
   "execution_count": null,
   "id": "562466bd",
   "metadata": {},
   "outputs": [],
   "source": [
    "pd.concat([df1, df2])  #  注意中括号不等丢"
   ]
  },
  {
   "cell_type": "markdown",
   "id": "5d647676",
   "metadata": {},
   "source": [
    "若要合并后的 index 重新命名，可以加参数``ignore_index = True``，让合并后数据的 index 重新从小到大命名："
   ]
  },
  {
   "cell_type": "code",
   "execution_count": null,
   "id": "7ce28d82",
   "metadata": {},
   "outputs": [],
   "source": [
    "pd.concat([df1, df2], ignore_index = True)"
   ]
  },
  {
   "cell_type": "markdown",
   "id": "1a30ad57",
   "metadata": {},
   "source": [
    "假如有下面的数据："
   ]
  },
  {
   "cell_type": "code",
   "execution_count": null,
   "id": "6f5a4832",
   "metadata": {},
   "outputs": [],
   "source": [
    "df3 = pd.DataFrame({'姓名': ['张三', '李四', '王五'], '会计': [75, 78, 80], '管理学': [94, 96, 88]})\n",
    "df3"
   ]
  },
  {
   "cell_type": "markdown",
   "id": "43867d00",
   "metadata": {},
   "source": [
    "df1 与 df3 的姓名相同，但列名不完全相同。我们想把 df3 的列添加到 df1 中，此时就要使用``merge``方法了，它的使用语法一般如下："
   ]
  },
  {
   "cell_type": "markdown",
   "id": "331f3639",
   "metadata": {},
   "source": [
    "<table>\n",
    "    <tr style=\"border-top:solid; border-bottom:solid\">\n",
    "            <th colspan=2 style=\"text-align:center\">DataFrame.merge(right, how='inner', on=None)</th>\n",
    "    </tr>\n",
    "    <tr>\n",
    "        <td style=\"text-align:left\">right</td>\n",
    "        <td style=\"text-align:left\">需要合并的另一个 DataFrame 数据</td>\n",
    "    </tr>\n",
    "    <tr>\n",
    "        <td rowspan=4 style=\"text-align:left\">how</td>\n",
    "        <td style=\"text-align:left\">默认为 'inner'，表示内连接，取两个数据表中匹配字段的交集进行合并</td>\n",
    "    </tr>\n",
    "    <tr>\n",
    "        <td style=\"text-align:left\">'outer'，表示外连接，取两个数据表中匹配字段的并集进行合并</td>\n",
    "    </tr>\n",
    "    <tr>\n",
    "        <td style=\"text-align:left\">'left'，表示左连接，取左边数据表中匹配字段进行合并</td>\n",
    "    </tr>\n",
    "    <tr>\n",
    "        <td style=\"text-align:left\">'right'，表示右连接，取右边数据表中匹配字段进行合并</td>\n",
    "    </tr>\n",
    "    <tr style=\"border-bottom:solid\">\n",
    "        <td  style=\"text-align:left\">on</td>\n",
    "        <td style=\"text-align:left\">匹配的字段（列），可以是一个或多个</td>\n",
    "    </tr>\n",
    "</table>\n",
    "</br>"
   ]
  },
  {
   "cell_type": "markdown",
   "id": "a08f9917",
   "metadata": {},
   "source": [
    "因此，对于 df1 与 df3，用``merge``合并时，匹配的字段（列名）为'姓名'："
   ]
  },
  {
   "cell_type": "code",
   "execution_count": null,
   "id": "460e6df8",
   "metadata": {},
   "outputs": [],
   "source": [
    "df1.merge(df3, on = '姓名')"
   ]
  },
  {
   "cell_type": "markdown",
   "id": "4f4b40e0",
   "metadata": {},
   "source": [
    "``merge``也能实现``concat``的合并效果，例如，合并 df1 与 df2："
   ]
  },
  {
   "cell_type": "code",
   "execution_count": null,
   "id": "57ddb848",
   "metadata": {},
   "outputs": [],
   "source": [
    "df1.merge(df2, on = ['姓名', '统计学', '高数', '英语'], how = 'outer')"
   ]
  },
  {
   "cell_type": "markdown",
   "id": "85fe33e4",
   "metadata": {},
   "source": [
    "在上面的代码中，匹配的字段为所有的列，连接方式为外连接，实现结果与``concat``相同。若连接方式为其他类型，显示效果如下："
   ]
  },
  {
   "cell_type": "code",
   "execution_count": null,
   "id": "9ef644ba",
   "metadata": {},
   "outputs": [],
   "source": [
    "df1.merge(df2, on = ['姓名', '统计学', '高数', '英语'], how = 'inner')  # 内连接时两个数据表匹配字段的交集为空"
   ]
  },
  {
   "cell_type": "code",
   "execution_count": null,
   "id": "48a98031",
   "metadata": {},
   "outputs": [],
   "source": [
    "df1.merge(df2, on = ['姓名', '统计学', '高数', '英语'], how = 'left')  # 左连接时保留左数据表的所有匹配字段"
   ]
  },
  {
   "cell_type": "code",
   "execution_count": null,
   "id": "6a25c9f4",
   "metadata": {},
   "outputs": [],
   "source": [
    "df1.merge(df2, on = ['姓名', '统计学', '高数', '英语'], how = 'right')  # 右连接时保留右数据表的所有匹配字段"
   ]
  },
  {
   "cell_type": "markdown",
   "id": "ce2fc569",
   "metadata": {},
   "source": [
    "在合并数据表时，若某些字段没有对应数据，Pandas 会自动用 NaN 替代，下面的例子展示了不同连接方式的效果。"
   ]
  },
  {
   "cell_type": "code",
   "execution_count": null,
   "id": "fcb83783",
   "metadata": {},
   "outputs": [],
   "source": [
    "df1 = pd.DataFrame({'班级': ['一班', '二班', '一班'], '姓名': ['张三', '李四', '王五'], '性别': ['男', '男', '女'], '籍贯': ['北京', '上海', '重庆']})\n",
    "df1"
   ]
  },
  {
   "cell_type": "code",
   "execution_count": null,
   "id": "178c5271",
   "metadata": {},
   "outputs": [],
   "source": [
    "df2 = pd.DataFrame({ '姓名': ['张三', '陈小虎'], '统计学': [85, 59]})\n",
    "df2"
   ]
  },
  {
   "cell_type": "code",
   "execution_count": null,
   "id": "64615ce4",
   "metadata": {},
   "outputs": [],
   "source": [
    "df1.merge(df2, on = '姓名')"
   ]
  },
  {
   "cell_type": "code",
   "execution_count": null,
   "id": "f924bd94",
   "metadata": {},
   "outputs": [],
   "source": [
    "df1.merge(df2, on = '姓名', how = 'outer') # 某些字段没有对应数据，则显示为 NaN"
   ]
  },
  {
   "cell_type": "code",
   "execution_count": null,
   "id": "16bb7954",
   "metadata": {},
   "outputs": [],
   "source": [
    "df1.merge(df2, on = '姓名', how = 'left')"
   ]
  },
  {
   "cell_type": "code",
   "execution_count": null,
   "id": "9a220240",
   "metadata": {},
   "outputs": [],
   "source": [
    "df1.merge(df2, on = '姓名', how = 'right')"
   ]
  },
  {
   "cell_type": "markdown",
   "id": "7f1b4913",
   "metadata": {},
   "source": [
    "## 查询，排序，分组汇总数据\n",
    "\n",
    "### 查询数据\n",
    "\n",
    "对 DataFrame 数据按照一定条件查询时，一般会用到一些比较运算符，例如：>, >=, ==, <, <=, !=。条件查询一般只针对列数据，查询时，Pandas 首先生成布尔索引 True 或 False，再通过指定索引生成查询后的数据。\n",
    "\n",
    "例如，下面的代码："
   ]
  },
  {
   "cell_type": "code",
   "execution_count": null,
   "id": "bde933d6",
   "metadata": {},
   "outputs": [],
   "source": [
    "import pandas as pd\n",
    "\n",
    "df = pd.DataFrame({'姓名':['张三', '李四', '王五'], '统计学': [85, 68, 90],\n",
    "                   '高数': [82, 63, 88], '英语': [84, 90, 78]})\n",
    "df"
   ]
  },
  {
   "cell_type": "code",
   "execution_count": null,
   "id": "cb2e800e",
   "metadata": {},
   "outputs": [],
   "source": [
    "df['统计学'] > 83  # 统计学成绩大于83的布尔索引"
   ]
  },
  {
   "cell_type": "code",
   "execution_count": null,
   "id": "e7dc2c11",
   "metadata": {},
   "outputs": [],
   "source": [
    "df[df['统计学']  > 83]  # 生成统计学成绩大于83的数据"
   ]
  },
  {
   "cell_type": "markdown",
   "id": "c04d8b37",
   "metadata": {},
   "source": [
    "对于多条件查询，可以用``&``表示并：两个条件都要满足，用``|``表示或：两个条件满足一个即可。举例："
   ]
  },
  {
   "cell_type": "code",
   "execution_count": null,
   "id": "7d5a87e4",
   "metadata": {},
   "outputs": [],
   "source": [
    "df[(df['高数'] > 65) & (df['英语'] > 80)]  # 查询高数成绩大于65，英语成绩大于80的数据，注意小括号"
   ]
  },
  {
   "cell_type": "code",
   "execution_count": null,
   "id": "2084a671",
   "metadata": {},
   "outputs": [],
   "source": [
    "df[(df['高数']> 65) | (df['英语'] > 80)]  # 查询高数成绩大于65，英语成绩大于80的数据，注意小括号"
   ]
  },
  {
   "cell_type": "markdown",
   "id": "e406b86f",
   "metadata": {},
   "source": [
    "### 排序数据\n",
    "\n",
    "在处理数据时，经常要对数据排序。 Pandas 提供了一个方便的函数``sort_values``对数值进行排序，它的使用语法如下：\n",
    "\n",
    "<table>\n",
    "     <tr style=\"border-top:solid; border-bottom:solid\">\n",
    "            <th colspan=2 style=\"text-align:center\">DataFrame.sort_values(by, axis=0, ascending=True, inplace=False,  na_position='last', ignore_index=False)</th>\n",
    "    </tr>\n",
    "    <tr>\n",
    "        <td style=\"text-align:left\">by</td>\n",
    "        <td style=\"text-align:left\">需要排序的列名(axis=0)或行名(axis=1)，可以有多个</td>\n",
    "    </tr>\n",
    "    <tr>\n",
    "        <td style=\"text-align:left\">axis</td>\n",
    "        <td style=\"text-align:left\">0 表示对列排序，1 表示对行排序，默认是0</td>\n",
    "    </tr>\n",
    "    <tr>\n",
    "        <td style=\"text-align:left\">ascending</td>\n",
    "        <td style=\"text-align:left\">升序还是降序，默认是升序排列</td>\n",
    "    </tr>\n",
    "    <tr>\n",
    "        <td style=\"text-align:left\">inplace</td>\n",
    "        <td style=\"text-align:left\">是否替换原有数据，默认为 False 不替换</td>\n",
    "    </tr>\n",
    "    <tr>\n",
    "        <td style=\"text-align:left\">na_position</td>\n",
    "        <td style=\"text-align:left\">缺失值 NaN 放在排序的前面还是后面，默认是放在后面</td>\n",
    "    </tr>\n",
    "    <tr style=\"border-bottom:solid\">\n",
    "        <td style=\"text-align:left\">ignore_index</td>\n",
    "        <td style=\"text-align:left\">如果为 True，则排序后的行号重新标号，默认是 False</td>\n",
    "    </tr>\n",
    "</table>\n",
    "</br>"
   ]
  },
  {
   "cell_type": "markdown",
   "id": "8dba465b",
   "metadata": {},
   "source": [
    "对统计学成绩升序排列："
   ]
  },
  {
   "cell_type": "code",
   "execution_count": null,
   "id": "f8a65cfc",
   "metadata": {},
   "outputs": [],
   "source": [
    "df.sort_values(by = '统计学')"
   ]
  },
  {
   "cell_type": "markdown",
   "id": "3b1c2950",
   "metadata": {},
   "source": [
    "对统计学与高数成绩降序排序："
   ]
  },
  {
   "cell_type": "code",
   "execution_count": null,
   "id": "4de752b9",
   "metadata": {},
   "outputs": [],
   "source": [
    "df.sort_values(by = ['统计学', '高数'], ascending = False)"
   ]
  },
  {
   "cell_type": "markdown",
   "id": "7aed0643",
   "metadata": {},
   "source": [
    "在参数``by``中，统计学在前，高数在后，表示：先把统计学成绩降序排序，若统计学成绩有相同的，再按高数成绩降序排序。\n",
    "\n",
    "由于排序时列标签经常被打乱，可以使用``ignore_index = True``重新排列标签，``inplace = True``改变原始数据。"
   ]
  },
  {
   "cell_type": "code",
   "execution_count": null,
   "id": "a77b26b9",
   "metadata": {},
   "outputs": [],
   "source": [
    "df.sort_values(by = '统计学')  # 排序，可以看出列标也发生了变动"
   ]
  },
  {
   "cell_type": "code",
   "execution_count": null,
   "id": "d230c17f",
   "metadata": {},
   "outputs": [],
   "source": [
    "df.sort_values(by = '统计学', ignore_index = True) # 排序后重新排列标签"
   ]
  },
  {
   "cell_type": "code",
   "execution_count": null,
   "id": "97fd2197",
   "metadata": {},
   "outputs": [],
   "source": [
    "df.sort_values(by = '统计学', ignore_index = True) # 排序后，没有替换原始数据\n",
    "df"
   ]
  },
  {
   "cell_type": "code",
   "execution_count": null,
   "id": "7d6429ec",
   "metadata": {},
   "outputs": [],
   "source": [
    "df.sort_values(by = '统计学', ignore_index = True, inplace = True) # 排序后，替换了原始数据\n",
    "df"
   ]
  },
  {
   "cell_type": "markdown",
   "id": "89e1a177",
   "metadata": {},
   "source": [
    "### 分组汇总\n",
    "\n",
    "在数据分析时，经常也需要将数据分组汇总。例如，在统计学生的期末考试成绩时，可能需要根据专业或者班级来分别计算平均成绩、最高成绩等。此时，可以利用 Pandas 的``groupby``函数方便地实现这些功能。\n",
    "\n",
    "groupby 经常结合一些汇总统计量使用，例如 mean（均值），max（最大值），min（最小值），median（中位数），std（标准差），mad（平均绝对偏差），count（计数），skew（均值），quantile（分位数）。\n",
    "\n",
    "下面的代码按性别汇总了平均成绩："
   ]
  },
  {
   "cell_type": "code",
   "execution_count": null,
   "id": "d3251f25",
   "metadata": {},
   "outputs": [],
   "source": [
    "df = pd.DataFrame([['张三', '一班', '男', 85, 68, 90], ['李四','二班', '男', 82, 63, 88], ['王五', '二班', '女',84, 90,78], ['魏小小','三班', '女',75, 68, 80],\\\n",
    "                      ['马小倩', '二班', '女',69, 55, 63], ['陈小虎', '一班', '男', 89, 95, 93]], columns=['姓名','班级','性别','统计学','高数','英语'])\n",
    "df"
   ]
  },
  {
   "cell_type": "code",
   "execution_count": null,
   "id": "f70fc799",
   "metadata": {},
   "outputs": [],
   "source": [
    "df.groupby('性别').mean(numeric_only = True)  # 按性别汇总平均成绩, numeric_only = True 表示仅选择对函数有效的数据列"
   ]
  },
  {
   "cell_type": "code",
   "execution_count": null,
   "id": "beb98246",
   "metadata": {},
   "outputs": [],
   "source": [
    "df.groupby(['班级', '性别']).mean() # 按班级、性别汇总平均成绩"
   ]
  },
  {
   "cell_type": "markdown",
   "id": "f985d4d6",
   "metadata": {},
   "source": [
    "若要汇总多个统计量，则可以跟``agg``方法，例如，下面的代码按照班级，汇总了每个班的最高、最低、平均成绩。"
   ]
  },
  {
   "cell_type": "code",
   "execution_count": null,
   "id": "e4d62353",
   "metadata": {
    "scrolled": true
   },
   "outputs": [],
   "source": [
    "df.groupby(['班级', '性别']).agg(['max', 'min', 'mean'])  # 汇总了每个班每个性别的最高、最低、平均成绩"
   ]
  },
  {
   "cell_type": "markdown",
   "id": "5a2aec2a",
   "metadata": {},
   "source": [
    "## 与数组或列表的转换"
   ]
  },
  {
   "cell_type": "markdown",
   "id": "822ddc7b",
   "metadata": {},
   "source": [
    "使用 Pandas 中的``values``方法可以将 DataFrame 数据转化为 Numpy 的数组形式。例如，对于前面的数据例子："
   ]
  },
  {
   "cell_type": "code",
   "execution_count": null,
   "id": "211f4aa0",
   "metadata": {},
   "outputs": [],
   "source": [
    "df = pd.DataFrame({'姓名':['张三', '李四', '王五'], '统计学': [85, 68, 90],\n",
    "                   '高数': [82, 63, 88], '英语': [84, 90, 78]})\n",
    "df[['统计学', '高数', '英语']].values"
   ]
  },
  {
   "cell_type": "markdown",
   "id": "c3ec8d67",
   "metadata": {},
   "source": [
    "也可以对某列数据，使用``tolist()``方法，将该列数据转化为 Python 本身的列表类型 list："
   ]
  },
  {
   "cell_type": "code",
   "execution_count": null,
   "id": "4240b7d2",
   "metadata": {},
   "outputs": [],
   "source": [
    "df['统计学'].tolist()"
   ]
  },
  {
   "cell_type": "markdown",
   "id": "2769b0a4",
   "metadata": {},
   "source": [
    "除了字典类型外，Pandas 也支持将一维或二维的数组或列表转化成 DataFrame 类型。"
   ]
  },
  {
   "cell_type": "code",
   "execution_count": null,
   "id": "2c69566a",
   "metadata": {},
   "outputs": [],
   "source": [
    "a = [1, 2, 3]\n",
    "pd.DataFrame(a)"
   ]
  },
  {
   "cell_type": "code",
   "execution_count": null,
   "id": "7a5c214e",
   "metadata": {},
   "outputs": [],
   "source": [
    "a = [[1, 2, 3], [4, 5, 6]]\n",
    "pd.DataFrame(a)"
   ]
  },
  {
   "cell_type": "code",
   "execution_count": null,
   "id": "2a84c555",
   "metadata": {},
   "outputs": [],
   "source": [
    "import numpy as np\n",
    "b = np.array([3, 3, 4])\n",
    "pd.DataFrame(b)"
   ]
  },
  {
   "cell_type": "code",
   "execution_count": null,
   "id": "9cd653fe",
   "metadata": {},
   "outputs": [],
   "source": [
    "c = np.matrix([[1, 2], [3, 4]])\n",
    "pd.DataFrame(c)"
   ]
  },
  {
   "cell_type": "markdown",
   "id": "3e7ea676",
   "metadata": {},
   "source": [
    "## 自定义函数\n",
    "\n",
    "Pandas 可以使用``apply``调用自定义函数。"
   ]
  },
  {
   "cell_type": "code",
   "execution_count": null,
   "id": "7ed37f0b",
   "metadata": {},
   "outputs": [],
   "source": [
    "import numpy as np\n",
    "\n",
    "df['统计学'].apply(np.sqrt) # 调用 Numpy 中的求平方根函数对统计学成绩每个元素求平方根"
   ]
  },
  {
   "cell_type": "markdown",
   "id": "e20e0ea9",
   "metadata": {},
   "source": [
    "我们也可以使用``lambda``定义一个匿名函数在``apply``里面调用："
   ]
  },
  {
   "cell_type": "code",
   "execution_count": null,
   "id": "1d61ae50",
   "metadata": {},
   "outputs": [],
   "source": [
    "df['高数'].apply(lambda x : x - 10)  # 对每一个高数成绩都减去 10 分"
   ]
  },
  {
   "cell_type": "markdown",
   "id": "43928f2a",
   "metadata": {},
   "source": [
    "``apply`` 也可以调用更复杂的自定义函数，例如，下面定义一个成绩替换函数，将分数替换为\"优良中差\"："
   ]
  },
  {
   "cell_type": "code",
   "execution_count": null,
   "id": "e1db230d",
   "metadata": {},
   "outputs": [],
   "source": [
    "def replace_score(x):\n",
    "    if x >= 90:\n",
    "        return '优'\n",
    "    elif x >= 80:\n",
    "        return '良'\n",
    "    elif x >= 60:\n",
    "        return '中'\n",
    "    else:\n",
    "        return '差'\n",
    "\n",
    "df['英语'].apply(replace_score)"
   ]
  },
  {
   "cell_type": "markdown",
   "id": "853e497b",
   "metadata": {},
   "source": [
    "##  时间序列数据处理\n",
    "\n",
    "### ``to_datetime`` 与 ``dt.strftime``\n",
    "\n",
    "实际工作中，经常会遇到大量的时间序列数据。这些时间序列的原始数据一般为文本格式，我们需要将它转化为时间日期格式。 Pandas 提供了 ``to_datetime``函数将其他日期时间格式转化为 Python 的日期时间格式。例如："
   ]
  },
  {
   "cell_type": "code",
   "execution_count": null,
   "id": "a4002d49",
   "metadata": {},
   "outputs": [],
   "source": [
    "import pandas as pd\n",
    "\n",
    "pd.to_datetime('20200514')"
   ]
  },
  {
   "cell_type": "code",
   "execution_count": null,
   "id": "7366b977",
   "metadata": {},
   "outputs": [],
   "source": [
    "pd.to_datetime('2020/05/14')"
   ]
  },
  {
   "cell_type": "code",
   "execution_count": null,
   "id": "0d4ed253",
   "metadata": {},
   "outputs": [],
   "source": [
    "pd.to_datetime('2020-05-14')"
   ]
  },
  {
   "cell_type": "markdown",
   "id": "f478265f",
   "metadata": {},
   "source": [
    "在上面的代码中可以看出，``to_datetime``方法将不同类型的时间数据字符串转化为 Timestamp 格式：``年-月-日 时:分:秒``。另外一个函数``dt.strftime``可以将 Pandas 的 Timestamp 格式数据转化为其他格式的字符串，例如："
   ]
  },
  {
   "cell_type": "code",
   "execution_count": null,
   "id": "b2df0cdf",
   "metadata": {},
   "outputs": [],
   "source": [
    "df = pd.DataFrame({'入校时间': ['2016-09-15', '2017-03-23', '2018-09-05'], '统计学': [85, 68, 90], '高数': [82, 63, 88], '英语': [84, 90, 78], '姓名': ['张三', '李四', '王五']})\n",
    "df"
   ]
  },
  {
   "cell_type": "code",
   "execution_count": null,
   "id": "cb3e892d",
   "metadata": {},
   "outputs": [],
   "source": [
    "df.iloc[0, 0]  # 原始数据中的时间为字符串"
   ]
  },
  {
   "cell_type": "code",
   "execution_count": null,
   "id": "6471c4bb",
   "metadata": {},
   "outputs": [],
   "source": [
    "df['入校时间'] = pd.to_datetime(df['入校时间']) # 将原始数据中的时间转化为 python 的日期格式\n",
    "df"
   ]
  },
  {
   "cell_type": "code",
   "execution_count": null,
   "id": "5b3ace73",
   "metadata": {},
   "outputs": [],
   "source": [
    "df.iloc[0, 0]"
   ]
  },
  {
   "cell_type": "code",
   "execution_count": null,
   "id": "6bd2a090",
   "metadata": {},
   "outputs": [],
   "source": [
    " df['入校时间'].dt.strftime('%m-%d-%y')  # 将日期格式转化为自定义格式的字符串"
   ]
  },
  {
   "cell_type": "code",
   "execution_count": null,
   "id": "774e9e30",
   "metadata": {},
   "outputs": [],
   "source": [
    "df['入校时间'].dt.strftime('%B-%d-%y')  # 将日期格式转化为自定义格式的字符串，小写 Y 年份显示两位"
   ]
  },
  {
   "cell_type": "code",
   "execution_count": null,
   "id": "fac75185",
   "metadata": {},
   "outputs": [],
   "source": [
    "df['入校时间'].dt.strftime('%B-%d-%Y')  # 将日期格式转化为自定义格式的字符串，大写 Y 则年份显示四位"
   ]
  },
  {
   "cell_type": "code",
   "execution_count": null,
   "id": "9fa121eb",
   "metadata": {},
   "outputs": [],
   "source": [
    "df['入校时间'].dt.strftime('%Y-%W')  # 将日期格式转化为自定义格式的字符串，大写 W 显示的为该年第几周"
   ]
  },
  {
   "cell_type": "code",
   "execution_count": null,
   "id": "19fbc263",
   "metadata": {},
   "outputs": [],
   "source": [
    "df['入校时间'].dt.strftime('%Y-%m-%w')  # 将日期格式转化为自定义格式的字符串，小写 w 显示的为该月第几周"
   ]
  },
  {
   "cell_type": "markdown",
   "id": "a51946c5",
   "metadata": {},
   "source": [
    "###  数据聚合函数``resample``\n",
    "\n",
    "对于很多时间序列数据，有时候经常需要对它们按一定周期进行数据聚合，可以用 Pandas 提供的``resample``函数。resample 方法中的小括号中用不同参数表示聚合的频率。举例："
   ]
  },
  {
   "cell_type": "code",
   "execution_count": null,
   "id": "97b68e29",
   "metadata": {},
   "outputs": [],
   "source": [
    "import numpy as np\n",
    "\n",
    "index = pd.date_range('12/24/2019', periods = 10, freq ='D')  # 生成一个时间序列，频率为天，周期数为 10\n",
    "index"
   ]
  },
  {
   "cell_type": "code",
   "execution_count": null,
   "id": "8321a07d",
   "metadata": {},
   "outputs": [],
   "source": [
    "df = pd.DataFrame(np.arange(10),index = index)  # 创建一个包含时间序列的 DataFrame 数据表\n",
    "df"
   ]
  },
  {
   "cell_type": "code",
   "execution_count": null,
   "id": "2422a02f",
   "metadata": {},
   "outputs": [],
   "source": [
    "df.resample('M').sum()  # 用 resample 方法按月('M')对数据聚合"
   ]
  },
  {
   "cell_type": "code",
   "execution_count": null,
   "id": "6217619b",
   "metadata": {},
   "outputs": [],
   "source": [
    "df.resample('3D').sum()  # 用 resample 方法每 3 天('3D')对数据聚合"
   ]
  },
  {
   "cell_type": "code",
   "execution_count": null,
   "id": "48afdeb4",
   "metadata": {},
   "outputs": [],
   "source": [
    "df.resample('w').sum()  # 用 resample 方法每周('w')对数据聚合"
   ]
  },
  {
   "cell_type": "markdown",
   "id": "db9d483c",
   "metadata": {},
   "source": [
    "``resample``的其他参数中， ‘T’ 表示分钟，‘H’ 表示小时，除了跟``sum()``方法外，还可以跟``asfreq()``，``ffill``，``apply()``等。"
   ]
  },
  {
   "cell_type": "markdown",
   "id": "2d24854d",
   "metadata": {},
   "source": [
    "## 数据清洗\n",
    "\n",
    "### 数据替换``replace``, ``fillna``\n",
    "\n",
    "在进行数据处理时，经常需要对原始数据的一些异常值或错误值进行批量处理。 Pandas 提供了``replace``函数方便地进行这项操作。``replace``函数第一项为原数据中的值，第二项为需要替换的值。例如，有下面的学生成绩："
   ]
  },
  {
   "cell_type": "code",
   "execution_count": null,
   "id": "73059ff5",
   "metadata": {},
   "outputs": [],
   "source": [
    "import pandas as pd\n",
    "import numpy as np\n",
    "\n",
    "df = pd.DataFrame(np.array([[85, 68, 90], [82, 63, 88], [84, 90, 78]]), columns=['统计学', '高数', '英语'], index=['张三', '李四', '王五'])\n",
    "df"
   ]
  },
  {
   "cell_type": "markdown",
   "id": "5606a7d3",
   "metadata": {},
   "source": [
    "将其中的分数 90 替换为缺失值 NaN，注意，``replace``返回了一个新的数据，但原始数据并没有改变。"
   ]
  },
  {
   "cell_type": "code",
   "execution_count": null,
   "id": "cc4d91a1",
   "metadata": {},
   "outputs": [],
   "source": [
    "df.replace(90, np.nan) "
   ]
  },
  {
   "cell_type": "code",
   "execution_count": null,
   "id": "ff6e8c22",
   "metadata": {},
   "outputs": [],
   "source": [
    "df # 原始数据并没有变"
   ]
  },
  {
   "cell_type": "markdown",
   "id": "3a6b1d6f",
   "metadata": {},
   "source": [
    "若需要原始数据改变，需要跟上参数``inplace = True ``，下面讲到的函数``fillna ``、``drop_duplicates``、``dropna``、 ``rename``等也可以跟这个参数将原始数据改变。"
   ]
  },
  {
   "cell_type": "code",
   "execution_count": null,
   "id": "26c1d3d7",
   "metadata": {},
   "outputs": [],
   "source": [
    "df.replace(90, np.nan, inplace = True)\n",
    "df # 原始数据改变了"
   ]
  },
  {
   "cell_type": "markdown",
   "id": "83f8b951",
   "metadata": {},
   "source": [
    "Pandas 提供``fillna``函数批量替换数据表中的缺失值 NaN。例如："
   ]
  },
  {
   "cell_type": "code",
   "execution_count": null,
   "id": "3c460f35",
   "metadata": {},
   "outputs": [],
   "source": [
    "df.fillna(80)  # 将缺失值替换为 80"
   ]
  },
  {
   "cell_type": "code",
   "execution_count": null,
   "id": "4f6c4e27",
   "metadata": {},
   "outputs": [],
   "source": [
    "df.fillna('missing')  # 将缺失值替换为一个字符串"
   ]
  },
  {
   "cell_type": "markdown",
   "id": "0b1d61b4",
   "metadata": {},
   "source": [
    "Pandas 还可以直接调用``isnull``函数判断数据是否为缺失值："
   ]
  },
  {
   "cell_type": "code",
   "execution_count": null,
   "id": "6ecbb197",
   "metadata": {},
   "outputs": [],
   "source": [
    "df['英语'].isnull()"
   ]
  },
  {
   "cell_type": "markdown",
   "id": "4b0e6167",
   "metadata": {},
   "source": [
    "### 重复值处理``drop_duplicates``\n",
    "\n",
    "在数据量比较大时，经常会遇到重复数据的问题，可以使用函数``drop_duplicates``将重复数据去掉。例如："
   ]
  },
  {
   "cell_type": "code",
   "execution_count": null,
   "id": "18369931",
   "metadata": {},
   "outputs": [],
   "source": [
    "df = pd.DataFrame([['一班', '男', 85, 68, 90], ['一班', '男', 85, 68, 90], ['二班', '女',84, 90, 78], ['三班', '女',75, 68, 80],\\\n",
    "                   ['二班', '女',69, 55, 63], ['一班', '男', 89, 95, 93]], columns=['班级','性别','统计学','高数','英语'],\\\n",
    "                  index=['张三', '张三', '王五', '马六', '陈小虎', '魏大帅'])\n",
    "df"
   ]
  },
  {
   "cell_type": "markdown",
   "id": "ce2881e5",
   "metadata": {},
   "source": [
    "前两行的数据完全相同，使用函数``drop_duplicates``处理："
   ]
  },
  {
   "cell_type": "code",
   "execution_count": null,
   "id": "6d32e8c4",
   "metadata": {},
   "outputs": [],
   "source": [
    "df.drop_duplicates()"
   ]
  },
  {
   "cell_type": "markdown",
   "id": "91ac6a95",
   "metadata": {},
   "source": [
    "### 缺失值处理``drop_na``\n",
    "\n",
    "``dropna``函数可以将数据表中包含缺失值的行去除掉，与``drop_duplicates``相比，该方法的可调节参数更多些。它的语法如下：\n",
    "\n",
    "<table>\n",
    "     <tr style=\"border-top:solid; border-bottom:solid\">\n",
    "            <th colspan=2 style=\"text-align:center\">DataFrame.dropna(axis=0, how='any', thresh=None, inplace=False)</th>\n",
    "    </tr>\n",
    "    <tr>\n",
    "        <td style=\"text-align:left\">axis</td>\n",
    "        <td style=\"text-align:left\">axis=0 表示删除含空值所在行，axis=1 表示删除含空值所在列</td>\n",
    "    </tr>\n",
    "    <tr>\n",
    "        <td rowspan=2 style=\"text-align:left\">how</td>\n",
    "        <td style=\"text-align:left\">默认为 how='any'，表示若有空值，就删除</td>\n",
    "    </tr>\n",
    "    <tr>  \n",
    "        <td style=\"text-align:left\">how='all'，表示全部是空值才删除该行或该列</td>\n",
    "    </tr>\n",
    "    <tr>\n",
    "        <td style=\"text-align:left\">thresh</td>\n",
    "        <td style=\"text-align:left\">空值的个数，作为行或列的删除标准</td>\n",
    "    </tr>\n",
    "    <tr style=\"border-bottom:solid\">\n",
    "        <td style=\"text-align:left\">inplace</td>\n",
    "        <td style=\"text-align:left\">若 inplace=True，表示处理后的数据替换原数据</td>\n",
    "    </tr>\n",
    "</table>\n",
    "</br>"
   ]
  },
  {
   "cell_type": "code",
   "execution_count": null,
   "id": "67d8b9bc",
   "metadata": {},
   "outputs": [],
   "source": [
    "df = pd.DataFrame({'统计学': [85, 68, np.nan], '高数': [82, 75, 88], '英语': [np.nan, 90, 78]}, index=['张三', '李四', '王五'])\n",
    "df"
   ]
  },
  {
   "cell_type": "code",
   "execution_count": null,
   "id": "6af98d5e",
   "metadata": {},
   "outputs": [],
   "source": [
    "df.dropna()  # 默认为删除含有空值的行，并且只要行里面有 Nan 值，就删除"
   ]
  },
  {
   "cell_type": "code",
   "execution_count": null,
   "id": "4a6d6a7a",
   "metadata": {},
   "outputs": [],
   "source": [
    " df.dropna(axis = 1) # 删除含有空值的列"
   ]
  },
  {
   "cell_type": "code",
   "execution_count": null,
   "id": "85087de0",
   "metadata": {},
   "outputs": [],
   "source": [
    " df.dropna(how = 'all') # 全部是空值才删除"
   ]
  },
  {
   "cell_type": "markdown",
   "id": "87e4c612",
   "metadata": {},
   "source": [
    "### 重命名``rename``\n",
    "\n",
    "在处理数据表时，有时候要给数据的行名或列名重命名，此时要用到``rename``函数，``rename``函数中的参数为一个字典形式：替换前的名字为字典的 key，替换后的名字为字典的 value。"
   ]
  },
  {
   "cell_type": "code",
   "execution_count": null,
   "id": "97abe05d",
   "metadata": {},
   "outputs": [],
   "source": [
    "df = pd.DataFrame({'统计学': [85, 68, 90], '高数': [82, 63, 88], '英语': [84, 90, 78]})\n",
    "df"
   ]
  },
  {
   "cell_type": "code",
   "execution_count": null,
   "id": "53fb4dcd",
   "metadata": {},
   "outputs": [],
   "source": [
    "df.rename(columns = {'统计学': '科目A', '高数': '科目B'})  # 更改其中两列的列名"
   ]
  },
  {
   "cell_type": "markdown",
   "id": "eae963dd",
   "metadata": {},
   "source": [
    "## Pandas 画图\n",
    "\n",
    "除了结合 matplotlib 与 seaborn 画图外，Pandas 也有自己的画图函数``plot``，它的语法一般为：\n",
    "\n",
    "<table>\n",
    "     <tr style=\"border-top:solid; border-bottom:solid\">\n",
    "            <th colspan=2 style=\"text-align:center\">DataFrame.plot(x=None,y=None, kind='line',subplots=False, title=None)</th>\n",
    "    </tr>\n",
    "    <tr>\n",
    "        <td style=\"text-align:left\">x</td>\n",
    "        <td style=\"text-align:left\">横坐标数据</td>\n",
    "    </tr>\n",
    "    <tr>\n",
    "        <td style=\"text-align:left\">y</td>\n",
    "        <td style=\"text-align:left\">纵坐标数据</td>\n",
    "    </tr>\n",
    "    <tr>  \n",
    "        <td style=\"text-align:left\">kind</td>\n",
    "        <td style=\"text-align:left\">默认是线图，还可以是‘bar’,'barh','box','pie','scatter','hist'等</td>\n",
    "    </tr>\n",
    "    <tr>\n",
    "        <td style=\"text-align:left\">subplots</td>\n",
    "        <td style=\"text-align:left\">是否将每一列数据分别生成一个子图</td>\n",
    "    </tr>\n",
    "    <tr style=\"border-bottom:solid\">\n",
    "        <td style=\"text-align:left\">title</td>\n",
    "        <td style=\"text-align:left\">图形的标题</td>\n",
    "    </tr>\n",
    "</table>\n",
    "</br>"
   ]
  },
  {
   "cell_type": "code",
   "execution_count": null,
   "id": "eff27cdb",
   "metadata": {},
   "outputs": [],
   "source": [
    "import pandas as pd\n",
    "\n",
    "df = pd.DataFrame({'statistics': [85, 68, 90], 'math': [82, 63, 88], 'English': [84, 90, 78]})\n",
    "df"
   ]
  },
  {
   "cell_type": "code",
   "execution_count": null,
   "id": "d14fa3a3",
   "metadata": {},
   "outputs": [],
   "source": [
    "df.plot()"
   ]
  },
  {
   "cell_type": "markdown",
   "id": "a0935a32",
   "metadata": {},
   "source": [
    "从上图可以看出，Pandas 的``plot``默认对每一列数据，画一个线图。"
   ]
  },
  {
   "cell_type": "code",
   "execution_count": null,
   "id": "ad7f9987",
   "metadata": {},
   "outputs": [],
   "source": [
    "df.plot(kind='bar', title='My picture') # 画出柱状图"
   ]
  },
  {
   "cell_type": "code",
   "execution_count": null,
   "id": "a0bc9358",
   "metadata": {},
   "outputs": [],
   "source": [
    "df.plot(kind='bar', subplots=True) # 对每一列数据非别生成一个子图"
   ]
  },
  {
   "cell_type": "code",
   "execution_count": null,
   "id": "7e416a59",
   "metadata": {},
   "outputs": [],
   "source": [
    "df.plot(x='math', y='statistics', kind='scatter') # 指定横坐标与纵坐标，生成一个散点图"
   ]
  }
 ],
 "metadata": {
  "kernelspec": {
   "display_name": "Python 3 (ipykernel)",
   "language": "python",
   "name": "python3"
  },
  "language_info": {
   "codemirror_mode": {
    "name": "ipython",
    "version": 3
   },
   "file_extension": ".py",
   "mimetype": "text/x-python",
   "name": "python",
   "nbconvert_exporter": "python",
   "pygments_lexer": "ipython3",
   "version": "3.11.4"
  }
 },
 "nbformat": 4,
 "nbformat_minor": 5
}
