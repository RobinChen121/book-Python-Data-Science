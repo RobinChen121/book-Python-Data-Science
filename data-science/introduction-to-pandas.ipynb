{
 "cells": [
  {
   "cell_type": "markdown",
   "id": "bf7f5785",
   "metadata": {},
   "source": [
    "# 1.  Pandas 入门\n",
    "\n",
    "pandas 是 Python 做统计分析时最重要的数据分析工具之一，它基于 numpy 开发，提供了许多处理大型数据集所需的函数，可以灵活高效的处理各种数据集。\n",
    "\n",
    "pandas 一般使用的数据类型为 `DataFrame`, DataFrame 是二维数据，相当于 Excel 里面的一张表格数据。使用 pandas 时首先要导入 pandas 包。"
   ]
  },
  {
   "cell_type": "code",
   "execution_count": 1,
   "id": "8abcc4af",
   "metadata": {},
   "outputs": [],
   "source": [
    " import pandas as pd"
   ]
  },
  {
   "cell_type": "markdown",
   "id": "3f2b6291",
   "metadata": {},
   "source": [
    "## 1.1 创建，读取与存储数据\n",
    "\n",
    "### 1.1.1 创建数据\n",
    "\n",
    "例如有下面的数据：\n",
    "    \n",
    " 姓名|统计学 |高数 |英语\n",
    " |:--------:|:--------:|:--------:|:--------:|\n",
    " 张三 | 85 | 82 | 84  \n",
    " 李四 | 68 | 63 | 90 \n",
    " 王五 | 90 | 88 | 78 |"
   ]
  },
  {
   "cell_type": "markdown",
   "id": "0ca0842d",
   "metadata": {},
   "source": [
    "我们使用字典类型数据，将上面的读取到一个 DataFrame 里面："
   ]
  },
  {
   "cell_type": "code",
   "execution_count": 6,
   "id": "373fef9c",
   "metadata": {},
   "outputs": [
    {
     "data": {
      "text/html": [
       "<div>\n",
       "<style scoped>\n",
       "    .dataframe tbody tr th:only-of-type {\n",
       "        vertical-align: middle;\n",
       "    }\n",
       "\n",
       "    .dataframe tbody tr th {\n",
       "        vertical-align: top;\n",
       "    }\n",
       "\n",
       "    .dataframe thead th {\n",
       "        text-align: right;\n",
       "    }\n",
       "</style>\n",
       "<table border=\"1\" class=\"dataframe\">\n",
       "  <thead>\n",
       "    <tr style=\"text-align: right;\">\n",
       "      <th></th>\n",
       "      <th>姓名</th>\n",
       "      <th>统计学</th>\n",
       "      <th>高数</th>\n",
       "      <th>英语</th>\n",
       "    </tr>\n",
       "  </thead>\n",
       "  <tbody>\n",
       "    <tr>\n",
       "      <th>0</th>\n",
       "      <td>张三</td>\n",
       "      <td>85</td>\n",
       "      <td>82</td>\n",
       "      <td>84</td>\n",
       "    </tr>\n",
       "    <tr>\n",
       "      <th>1</th>\n",
       "      <td>李四</td>\n",
       "      <td>68</td>\n",
       "      <td>63</td>\n",
       "      <td>90</td>\n",
       "    </tr>\n",
       "    <tr>\n",
       "      <th>2</th>\n",
       "      <td>王五</td>\n",
       "      <td>90</td>\n",
       "      <td>88</td>\n",
       "      <td>78</td>\n",
       "    </tr>\n",
       "  </tbody>\n",
       "</table>\n",
       "</div>"
      ],
      "text/plain": [
       "   姓名  统计学  高数  英语\n",
       "0  张三   85  82  84\n",
       "1  李四   68  63  90\n",
       "2  王五   90  88  78"
      ]
     },
     "execution_count": 6,
     "metadata": {},
     "output_type": "execute_result"
    }
   ],
   "source": [
    "df = pd.DataFrame({'姓名':['张三', '李四', '王五'], '统计学': [85, 68, 90],\n",
    "                   '高数': [82, 63, 88], '英语': [84, 90, 78]})\n",
    "df"
   ]
  },
  {
   "cell_type": "markdown",
   "id": "c496895f",
   "metadata": {},
   "source": [
    "上面的图形中，第一行是列标题，第一列是行标题，可以分别通过 ``columns`` 与 ``index`` 访问。"
   ]
  },
  {
   "cell_type": "code",
   "execution_count": 3,
   "id": "73d91b7f",
   "metadata": {},
   "outputs": [
    {
     "data": {
      "text/plain": [
       "Index(['姓名', '统计学', '高数', '英语'], dtype='object')"
      ]
     },
     "execution_count": 3,
     "metadata": {},
     "output_type": "execute_result"
    }
   ],
   "source": [
    "df.columns"
   ]
  },
  {
   "cell_type": "code",
   "execution_count": 4,
   "id": "0d396e1f",
   "metadata": {},
   "outputs": [
    {
     "data": {
      "text/plain": [
       "RangeIndex(start=0, stop=3, step=1)"
      ]
     },
     "execution_count": 4,
     "metadata": {},
     "output_type": "execute_result"
    }
   ],
   "source": [
    "df.index"
   ]
  },
  {
   "cell_type": "markdown",
   "id": "b500bd1d",
   "metadata": {},
   "source": [
    "### 1.1.2 读取数据\n",
    "\n",
    "多数情况下，我们要读取数据文件（例如 excel），假设上面的例子在 excel 文件 'transcripts.xlsx' 里并放在电脑硬盘位置“/Users/zhenchen/Documents/python data” 中，可以通过函数``read_excel``读取文件："
   ]
  },
  {
   "cell_type": "code",
   "execution_count": 5,
   "id": "24c0ac16",
   "metadata": {},
   "outputs": [
    {
     "data": {
      "text/html": [
       "<div>\n",
       "<style scoped>\n",
       "    .dataframe tbody tr th:only-of-type {\n",
       "        vertical-align: middle;\n",
       "    }\n",
       "\n",
       "    .dataframe tbody tr th {\n",
       "        vertical-align: top;\n",
       "    }\n",
       "\n",
       "    .dataframe thead th {\n",
       "        text-align: right;\n",
       "    }\n",
       "</style>\n",
       "<table border=\"1\" class=\"dataframe\">\n",
       "  <thead>\n",
       "    <tr style=\"text-align: right;\">\n",
       "      <th></th>\n",
       "      <th>姓名</th>\n",
       "      <th>统计学</th>\n",
       "      <th>高数</th>\n",
       "      <th>英语</th>\n",
       "    </tr>\n",
       "  </thead>\n",
       "  <tbody>\n",
       "    <tr>\n",
       "      <th>0</th>\n",
       "      <td>张三</td>\n",
       "      <td>85</td>\n",
       "      <td>82</td>\n",
       "      <td>84</td>\n",
       "    </tr>\n",
       "    <tr>\n",
       "      <th>1</th>\n",
       "      <td>李四</td>\n",
       "      <td>68</td>\n",
       "      <td>63</td>\n",
       "      <td>90</td>\n",
       "    </tr>\n",
       "    <tr>\n",
       "      <th>2</th>\n",
       "      <td>王五</td>\n",
       "      <td>90</td>\n",
       "      <td>88</td>\n",
       "      <td>78</td>\n",
       "    </tr>\n",
       "  </tbody>\n",
       "</table>\n",
       "</div>"
      ],
      "text/plain": [
       "   姓名  统计学  高数  英语\n",
       "0  张三   85  82  84\n",
       "1  李四   68  63  90\n",
       "2  王五   90  88  78"
      ]
     },
     "execution_count": 5,
     "metadata": {},
     "output_type": "execute_result"
    }
   ],
   "source": [
    "df = pd.read_excel(r'/Users/zhenchen/Documents/python data/transcripts.xlsx')\n",
    "df"
   ]
  },
  {
   "cell_type": "markdown",
   "id": "024233f5",
   "metadata": {},
   "source": [
    "```{admonition} 注意\n",
    "- 苹果电脑的文件地址用符号``/``分割，而 windows 系统的文件地址用符号``\\``分割\n",
    "- 文件地址前加上``r``能够保持字符串原始值的含义，而不对其中的符号进行转义\n",
    "```"
   ]
  },
  {
   "cell_type": "markdown",
   "id": "dc15e1d2",
   "metadata": {},
   "source": [
    "``read_excel`` 的一般语法如下："
   ]
  },
  {
   "cell_type": "markdown",
   "id": "373ad22e",
   "metadata": {},
   "source": [
    "<table>   \n",
    "    <tr style=\"border-top:solid; border-bottom:solid\">\n",
    "            <th colspan=2 style=\"text-align:center\">read_excel(io, sheetname=0, header=0, skiprows=None,  index_col=None)</th>\n",
    "    </tr>\n",
    "    <tr>\n",
    "        <td style=\"text-align:left\">io</td>\n",
    "        <td style=\"text-align:left\">数据文件的地址与名字，一般为字符串</td>\n",
    "    </tr>\n",
    "    <tr>\n",
    "        <td style=\"text-align:left\">sheetname</td>\n",
    "        <td style=\"text-align:left\">工作簿名字，默认为0，表示读取第一张工作簿</td>\n",
    "    </tr>\n",
    "    <tr>\n",
    "        <td style=\"text-align:left\">header</td>\n",
    "        <td style=\"text-align:left\">作为列名的行，默认为0，即取第一行的值为列名</td>\n",
    "    </tr>\n",
    "    <tr>\n",
    "        <td style=\"text-align:left\">skiprows</td>\n",
    "        <td style=\"text-align:left\">省略指定行数的数据,从第一行开始查起</td>\n",
    "    </tr>\n",
    "    <tr style=\"border-bottom:solid; border-spacing: 15px\">\n",
    "        <td style=\"text-align:left\">index_col</td>\n",
    "        <td style=\"text-align:left\">行标题所在的列</td>\n",
    "    </tr>\n",
    "</table>"
   ]
  },
  {
   "cell_type": "markdown",
   "id": "42f69211",
   "metadata": {},
   "source": [
    "还有一种常见的数据文件类型为 csv，我们只需使用 pandas 中的函数``read_csv``，它的语法与``read_excel``基本一致。"
   ]
  },
  {
   "cell_type": "markdown",
   "id": "eb0e5588",
   "metadata": {},
   "source": [
    "### 1.1.3 存储数据\n",
    "\n",
    "存储时使用函数 ``to_excel`` 或 ``to_csv``。例如我们将数据 df 仍然存储到文件夹 “/Users/zhenchen/Documents/python data” 里，并命名为 “marks.xlsx”："
   ]
  },
  {
   "cell_type": "code",
   "execution_count": 7,
   "id": "05de342f",
   "metadata": {},
   "outputs": [],
   "source": [
    "df.to_excel(r'/Users/zhenchen/Documents/python data/marks.xlsx')"
   ]
  },
  {
   "cell_type": "markdown",
   "id": "bfeec261",
   "metadata": {},
   "source": [
    "## 1.2 查看与修改数据\n",
    "\n",
    "快速查看 DataFrame 各列数据的统计信息可以使用 ``discribe()`` 函数，包括各列数据的非空数值数目、均值、标准差、最大值、最小值、分位数。"
   ]
  },
  {
   "cell_type": "code",
   "execution_count": 9,
   "id": "b82f3cd6",
   "metadata": {},
   "outputs": [
    {
     "data": {
      "text/html": [
       "<div>\n",
       "<style scoped>\n",
       "    .dataframe tbody tr th:only-of-type {\n",
       "        vertical-align: middle;\n",
       "    }\n",
       "\n",
       "    .dataframe tbody tr th {\n",
       "        vertical-align: top;\n",
       "    }\n",
       "\n",
       "    .dataframe thead th {\n",
       "        text-align: right;\n",
       "    }\n",
       "</style>\n",
       "<table border=\"1\" class=\"dataframe\">\n",
       "  <thead>\n",
       "    <tr style=\"text-align: right;\">\n",
       "      <th></th>\n",
       "      <th>统计学</th>\n",
       "      <th>高数</th>\n",
       "      <th>英语</th>\n",
       "    </tr>\n",
       "  </thead>\n",
       "  <tbody>\n",
       "    <tr>\n",
       "      <th>count</th>\n",
       "      <td>3.000000</td>\n",
       "      <td>3.000000</td>\n",
       "      <td>3.0</td>\n",
       "    </tr>\n",
       "    <tr>\n",
       "      <th>mean</th>\n",
       "      <td>81.000000</td>\n",
       "      <td>77.666667</td>\n",
       "      <td>84.0</td>\n",
       "    </tr>\n",
       "    <tr>\n",
       "      <th>std</th>\n",
       "      <td>11.532563</td>\n",
       "      <td>13.051181</td>\n",
       "      <td>6.0</td>\n",
       "    </tr>\n",
       "    <tr>\n",
       "      <th>min</th>\n",
       "      <td>68.000000</td>\n",
       "      <td>63.000000</td>\n",
       "      <td>78.0</td>\n",
       "    </tr>\n",
       "    <tr>\n",
       "      <th>25%</th>\n",
       "      <td>76.500000</td>\n",
       "      <td>72.500000</td>\n",
       "      <td>81.0</td>\n",
       "    </tr>\n",
       "    <tr>\n",
       "      <th>50%</th>\n",
       "      <td>85.000000</td>\n",
       "      <td>82.000000</td>\n",
       "      <td>84.0</td>\n",
       "    </tr>\n",
       "    <tr>\n",
       "      <th>75%</th>\n",
       "      <td>87.500000</td>\n",
       "      <td>85.000000</td>\n",
       "      <td>87.0</td>\n",
       "    </tr>\n",
       "    <tr>\n",
       "      <th>max</th>\n",
       "      <td>90.000000</td>\n",
       "      <td>88.000000</td>\n",
       "      <td>90.0</td>\n",
       "    </tr>\n",
       "  </tbody>\n",
       "</table>\n",
       "</div>"
      ],
      "text/plain": [
       "             统计学         高数    英语\n",
       "count   3.000000   3.000000   3.0\n",
       "mean   81.000000  77.666667  84.0\n",
       "std    11.532563  13.051181   6.0\n",
       "min    68.000000  63.000000  78.0\n",
       "25%    76.500000  72.500000  81.0\n",
       "50%    85.000000  82.000000  84.0\n",
       "75%    87.500000  85.000000  87.0\n",
       "max    90.000000  88.000000  90.0"
      ]
     },
     "execution_count": 9,
     "metadata": {},
     "output_type": "execute_result"
    }
   ],
   "source": [
    "df.describe()"
   ]
  },
  {
   "cell_type": "markdown",
   "id": "15efabf9",
   "metadata": {},
   "source": [
    "另外还有几个方便使用的函数：\n",
    "\n",
    "|  函数 | 作用| \n",
    "|:--|:-- |\n",
    "|``info()``| 查看各列数据的类型|\n",
    "|``head()``| 查看前 5 行数据 |\n",
    "|``tail()``| 查看后 5 行数据 |"
   ]
  },
  {
   "cell_type": "markdown",
   "id": "0cbaeb1b",
   "metadata": {},
   "source": [
    "### 1.2.1 查看单行，单列，单元格数据\n",
    "\n",
    "查看某一列数据时，最简单的方式是在中括号``[]``里面输入列名的方式，例如查看英语成绩那一列数据："
   ]
  },
  {
   "cell_type": "code",
   "execution_count": 14,
   "id": "09bc4a5b",
   "metadata": {},
   "outputs": [
    {
     "data": {
      "text/plain": [
       "0    84\n",
       "1    90\n",
       "2    78\n",
       "Name: 英语, dtype: int64"
      ]
     },
     "execution_count": 14,
     "metadata": {},
     "output_type": "execute_result"
    }
   ],
   "source": [
    "df['英语']"
   ]
  },
  {
   "cell_type": "markdown",
   "id": "9aebb1fb",
   "metadata": {},
   "source": [
    "查看某一行数据时，可以用中括号``[]``里面跟着相邻两个行索引的方式，例如 df[0:1] 显示第 1 行的数据，而 df[1:2] 显示第 2 行的数据"
   ]
  },
  {
   "cell_type": "code",
   "execution_count": 16,
   "id": "c9393234",
   "metadata": {},
   "outputs": [
    {
     "data": {
      "text/html": [
       "<div>\n",
       "<style scoped>\n",
       "    .dataframe tbody tr th:only-of-type {\n",
       "        vertical-align: middle;\n",
       "    }\n",
       "\n",
       "    .dataframe tbody tr th {\n",
       "        vertical-align: top;\n",
       "    }\n",
       "\n",
       "    .dataframe thead th {\n",
       "        text-align: right;\n",
       "    }\n",
       "</style>\n",
       "<table border=\"1\" class=\"dataframe\">\n",
       "  <thead>\n",
       "    <tr style=\"text-align: right;\">\n",
       "      <th></th>\n",
       "      <th>姓名</th>\n",
       "      <th>统计学</th>\n",
       "      <th>高数</th>\n",
       "      <th>英语</th>\n",
       "    </tr>\n",
       "  </thead>\n",
       "  <tbody>\n",
       "    <tr>\n",
       "      <th>0</th>\n",
       "      <td>张三</td>\n",
       "      <td>85</td>\n",
       "      <td>82</td>\n",
       "      <td>84</td>\n",
       "    </tr>\n",
       "  </tbody>\n",
       "</table>\n",
       "</div>"
      ],
      "text/plain": [
       "   姓名  统计学  高数  英语\n",
       "0  张三   85  82  84"
      ]
     },
     "execution_count": 16,
     "metadata": {},
     "output_type": "execute_result"
    }
   ],
   "source": [
    "df[0:1]"
   ]
  },
  {
   "cell_type": "code",
   "execution_count": 17,
   "id": "c87fb043",
   "metadata": {},
   "outputs": [
    {
     "data": {
      "text/html": [
       "<div>\n",
       "<style scoped>\n",
       "    .dataframe tbody tr th:only-of-type {\n",
       "        vertical-align: middle;\n",
       "    }\n",
       "\n",
       "    .dataframe tbody tr th {\n",
       "        vertical-align: top;\n",
       "    }\n",
       "\n",
       "    .dataframe thead th {\n",
       "        text-align: right;\n",
       "    }\n",
       "</style>\n",
       "<table border=\"1\" class=\"dataframe\">\n",
       "  <thead>\n",
       "    <tr style=\"text-align: right;\">\n",
       "      <th></th>\n",
       "      <th>姓名</th>\n",
       "      <th>统计学</th>\n",
       "      <th>高数</th>\n",
       "      <th>英语</th>\n",
       "    </tr>\n",
       "  </thead>\n",
       "  <tbody>\n",
       "    <tr>\n",
       "      <th>1</th>\n",
       "      <td>李四</td>\n",
       "      <td>68</td>\n",
       "      <td>63</td>\n",
       "      <td>90</td>\n",
       "    </tr>\n",
       "  </tbody>\n",
       "</table>\n",
       "</div>"
      ],
      "text/plain": [
       "   姓名  统计学  高数  英语\n",
       "1  李四   68  63  90"
      ]
     },
     "execution_count": 17,
     "metadata": {},
     "output_type": "execute_result"
    }
   ],
   "source": [
    "df[1:2]"
   ]
  },
  {
   "cell_type": "markdown",
   "id": "3b5bc8c5",
   "metadata": {},
   "source": [
    "若查看某个单元格，比较方便的方式是用两个中括号，每个中括号内分别跟着行索引和列索引，例如查看李四的高数成绩："
   ]
  },
  {
   "cell_type": "code",
   "execution_count": 18,
   "id": "c9885e1b",
   "metadata": {},
   "outputs": [
    {
     "data": {
      "text/plain": [
       "1    63\n",
       "Name: 高数, dtype: int64"
      ]
     },
     "execution_count": 18,
     "metadata": {},
     "output_type": "execute_result"
    }
   ],
   "source": [
    "df[1:2]['高数']"
   ]
  },
  {
   "cell_type": "markdown",
   "id": "8af60c7d",
   "metadata": {},
   "source": [
    "### 1.2.2 查看多行，多列数据\n",
    "\n",
    "查看多行、多列数据时，可以用 ``iloc``，它不仅能查看多行多列数据，也能查看单行、单列或某个单元格数据。\n",
    "例如，查看行数据："
   ]
  },
  {
   "cell_type": "code",
   "execution_count": null,
   "id": "8f99827c",
   "metadata": {},
   "outputs": [],
   "source": [
    "df.iloc[1]          # 查看第 2 行数据\n",
    "df.iloc[0:2]        # 查看前 2 行数据\n",
    "df.iloc[[0, 2]]     # 查看第 1 行与第 3 行数据"
   ]
  },
  {
   "cell_type": "markdown",
   "id": "8f42c28f",
   "metadata": {},
   "source": [
    "查看列数据："
   ]
  },
  {
   "cell_type": "code",
   "execution_count": null,
   "id": "06e7c02e",
   "metadata": {},
   "outputs": [],
   "source": [
    "df.iloc[:, 1]       # 查看第 2 列数据\n",
    "df.iloc[:, 0:2]     # 查看前 2 列数据\n",
    "df.iloc[:, [0, 2]]  # 查看第 1 列与第 3 列数据"
   ]
  },
  {
   "cell_type": "markdown",
   "id": "89ad16b0",
   "metadata": {},
   "source": [
    "查看一块数据："
   ]
  },
  {
   "cell_type": "code",
   "execution_count": null,
   "id": "09a19100",
   "metadata": {},
   "outputs": [],
   "source": [
    "df.iloc[0:2, 0:2]          # 查看前 2 行，前 2 列的一块数据\n",
    "df.iloc[[0, 2],  [0, 2]]   # 查看第 1、第 3 行，第 1、第 3 列的一块数据\n",
    "df.iloc[0:2, [0, 2]]       # 查看前 3 行，第 1、第 3 列的一块数据\n",
    "df.iloc[[0, 2], 0:2]       # 第 1、第 3 行，前 2 列的一块数据"
   ]
  },
  {
   "cell_type": "markdown",
   "id": "70cc41ad",
   "metadata": {},
   "source": [
    "查看某个单元格："
   ]
  },
  {
   "cell_type": "code",
   "execution_count": null,
   "id": "8394a5e1",
   "metadata": {},
   "outputs": [],
   "source": [
    "df.iloc[1, 1]   # 查看第 2 行，第 2 列的单元格数据"
   ]
  },
  {
   "cell_type": "markdown",
   "id": "5bc0dcc3",
   "metadata": {},
   "source": [
    "查看具体几列数据，可以在中括号``[]``里面跟一个索引列表，例如，查看统计学与英语的成绩："
   ]
  },
  {
   "cell_type": "code",
   "execution_count": 21,
   "id": "8816f813",
   "metadata": {},
   "outputs": [
    {
     "data": {
      "text/html": [
       "<div>\n",
       "<style scoped>\n",
       "    .dataframe tbody tr th:only-of-type {\n",
       "        vertical-align: middle;\n",
       "    }\n",
       "\n",
       "    .dataframe tbody tr th {\n",
       "        vertical-align: top;\n",
       "    }\n",
       "\n",
       "    .dataframe thead th {\n",
       "        text-align: right;\n",
       "    }\n",
       "</style>\n",
       "<table border=\"1\" class=\"dataframe\">\n",
       "  <thead>\n",
       "    <tr style=\"text-align: right;\">\n",
       "      <th></th>\n",
       "      <th>统计学</th>\n",
       "      <th>英语</th>\n",
       "    </tr>\n",
       "  </thead>\n",
       "  <tbody>\n",
       "    <tr>\n",
       "      <th>0</th>\n",
       "      <td>85</td>\n",
       "      <td>84</td>\n",
       "    </tr>\n",
       "    <tr>\n",
       "      <th>1</th>\n",
       "      <td>68</td>\n",
       "      <td>90</td>\n",
       "    </tr>\n",
       "    <tr>\n",
       "      <th>2</th>\n",
       "      <td>90</td>\n",
       "      <td>78</td>\n",
       "    </tr>\n",
       "  </tbody>\n",
       "</table>\n",
       "</div>"
      ],
      "text/plain": [
       "   统计学  英语\n",
       "0   85  84\n",
       "1   68  90\n",
       "2   90  78"
      ]
     },
     "execution_count": 21,
     "metadata": {},
     "output_type": "execute_result"
    }
   ],
   "source": [
    "df[['统计学', '英语']]"
   ]
  },
  {
   "cell_type": "code",
   "execution_count": 46,
   "id": "896a5086",
   "metadata": {},
   "outputs": [
    {
     "data": {
      "text/html": [
       "<div>\n",
       "<style scoped>\n",
       "    .dataframe tbody tr th:only-of-type {\n",
       "        vertical-align: middle;\n",
       "    }\n",
       "\n",
       "    .dataframe tbody tr th {\n",
       "        vertical-align: top;\n",
       "    }\n",
       "\n",
       "    .dataframe thead th {\n",
       "        text-align: right;\n",
       "    }\n",
       "</style>\n",
       "<table border=\"1\" class=\"dataframe\">\n",
       "  <thead>\n",
       "    <tr style=\"text-align: right;\">\n",
       "      <th></th>\n",
       "      <th>姓名</th>\n",
       "      <th>统计学</th>\n",
       "      <th>高数</th>\n",
       "      <th>英语</th>\n",
       "    </tr>\n",
       "  </thead>\n",
       "  <tbody>\n",
       "    <tr>\n",
       "      <th>0</th>\n",
       "      <td>张三</td>\n",
       "      <td>85</td>\n",
       "      <td>82</td>\n",
       "      <td>84</td>\n",
       "    </tr>\n",
       "    <tr>\n",
       "      <th>1</th>\n",
       "      <td>李四</td>\n",
       "      <td>68</td>\n",
       "      <td>63</td>\n",
       "      <td>90</td>\n",
       "    </tr>\n",
       "    <tr>\n",
       "      <th>2</th>\n",
       "      <td>王五</td>\n",
       "      <td>90</td>\n",
       "      <td>88</td>\n",
       "      <td>78</td>\n",
       "    </tr>\n",
       "  </tbody>\n",
       "</table>\n",
       "</div>"
      ],
      "text/plain": [
       "   姓名  统计学  高数  英语\n",
       "0  张三   85  82  84\n",
       "1  李四   68  63  90\n",
       "2  王五   90  88  78"
      ]
     },
     "execution_count": 46,
     "metadata": {},
     "output_type": "execute_result"
    }
   ],
   "source": [
    "df[0:3]"
   ]
  },
  {
   "cell_type": "markdown",
   "id": "a555ea61",
   "metadata": {},
   "source": [
    "查看具体几行数据，可以用``iloc``结合索引列表的形式，例如，查看张三与王五的成绩："
   ]
  },
  {
   "cell_type": "code",
   "execution_count": 47,
   "id": "a19fbca4",
   "metadata": {},
   "outputs": [
    {
     "data": {
      "text/html": [
       "<div>\n",
       "<style scoped>\n",
       "    .dataframe tbody tr th:only-of-type {\n",
       "        vertical-align: middle;\n",
       "    }\n",
       "\n",
       "    .dataframe tbody tr th {\n",
       "        vertical-align: top;\n",
       "    }\n",
       "\n",
       "    .dataframe thead th {\n",
       "        text-align: right;\n",
       "    }\n",
       "</style>\n",
       "<table border=\"1\" class=\"dataframe\">\n",
       "  <thead>\n",
       "    <tr style=\"text-align: right;\">\n",
       "      <th></th>\n",
       "      <th>姓名</th>\n",
       "      <th>统计学</th>\n",
       "      <th>高数</th>\n",
       "      <th>英语</th>\n",
       "    </tr>\n",
       "  </thead>\n",
       "  <tbody>\n",
       "    <tr>\n",
       "      <th>0</th>\n",
       "      <td>张三</td>\n",
       "      <td>85</td>\n",
       "      <td>82</td>\n",
       "      <td>84</td>\n",
       "    </tr>\n",
       "    <tr>\n",
       "      <th>2</th>\n",
       "      <td>王五</td>\n",
       "      <td>90</td>\n",
       "      <td>88</td>\n",
       "      <td>78</td>\n",
       "    </tr>\n",
       "  </tbody>\n",
       "</table>\n",
       "</div>"
      ],
      "text/plain": [
       "   姓名  统计学  高数  英语\n",
       "0  张三   85  82  84\n",
       "2  王五   90  88  78"
      ]
     },
     "execution_count": 47,
     "metadata": {},
     "output_type": "execute_result"
    }
   ],
   "source": [
    "df.iloc[[0,2]]"
   ]
  },
  {
   "cell_type": "markdown",
   "id": "23493756",
   "metadata": {},
   "source": [
    "### 1.2.3 修改数据\n",
    "\n",
    "在修改 pandas 的 DataFrame 数据时，将 pandas 的索引位置赋值为新的值。例如，当修改某列数据时，语法为：``df[`列名'] =  某个值或某个元素个数与 DataFrame 列数相同的列表``。"
   ]
  },
  {
   "cell_type": "code",
   "execution_count": 49,
   "id": "665ae7b7",
   "metadata": {},
   "outputs": [
    {
     "data": {
      "text/html": [
       "<div>\n",
       "<style scoped>\n",
       "    .dataframe tbody tr th:only-of-type {\n",
       "        vertical-align: middle;\n",
       "    }\n",
       "\n",
       "    .dataframe tbody tr th {\n",
       "        vertical-align: top;\n",
       "    }\n",
       "\n",
       "    .dataframe thead th {\n",
       "        text-align: right;\n",
       "    }\n",
       "</style>\n",
       "<table border=\"1\" class=\"dataframe\">\n",
       "  <thead>\n",
       "    <tr style=\"text-align: right;\">\n",
       "      <th></th>\n",
       "      <th>姓名</th>\n",
       "      <th>统计学</th>\n",
       "      <th>高数</th>\n",
       "      <th>英语</th>\n",
       "    </tr>\n",
       "  </thead>\n",
       "  <tbody>\n",
       "    <tr>\n",
       "      <th>0</th>\n",
       "      <td>张三</td>\n",
       "      <td>80</td>\n",
       "      <td>82</td>\n",
       "      <td>84</td>\n",
       "    </tr>\n",
       "    <tr>\n",
       "      <th>1</th>\n",
       "      <td>李四</td>\n",
       "      <td>80</td>\n",
       "      <td>63</td>\n",
       "      <td>90</td>\n",
       "    </tr>\n",
       "    <tr>\n",
       "      <th>2</th>\n",
       "      <td>王五</td>\n",
       "      <td>80</td>\n",
       "      <td>88</td>\n",
       "      <td>78</td>\n",
       "    </tr>\n",
       "  </tbody>\n",
       "</table>\n",
       "</div>"
      ],
      "text/plain": [
       "   姓名  统计学  高数  英语\n",
       "0  张三   80  82  84\n",
       "1  李四   80  63  90\n",
       "2  王五   80  88  78"
      ]
     },
     "execution_count": 49,
     "metadata": {},
     "output_type": "execute_result"
    }
   ],
   "source": [
    "df['统计学'] = 80  # 修改统计学这一列的数值为同一个值 80\n",
    "df"
   ]
  },
  {
   "cell_type": "code",
   "execution_count": 51,
   "id": "8025e93c",
   "metadata": {},
   "outputs": [
    {
     "data": {
      "text/html": [
       "<div>\n",
       "<style scoped>\n",
       "    .dataframe tbody tr th:only-of-type {\n",
       "        vertical-align: middle;\n",
       "    }\n",
       "\n",
       "    .dataframe tbody tr th {\n",
       "        vertical-align: top;\n",
       "    }\n",
       "\n",
       "    .dataframe thead th {\n",
       "        text-align: right;\n",
       "    }\n",
       "</style>\n",
       "<table border=\"1\" class=\"dataframe\">\n",
       "  <thead>\n",
       "    <tr style=\"text-align: right;\">\n",
       "      <th></th>\n",
       "      <th>姓名</th>\n",
       "      <th>统计学</th>\n",
       "      <th>高数</th>\n",
       "      <th>英语</th>\n",
       "    </tr>\n",
       "  </thead>\n",
       "  <tbody>\n",
       "    <tr>\n",
       "      <th>0</th>\n",
       "      <td>张三</td>\n",
       "      <td>95</td>\n",
       "      <td>82</td>\n",
       "      <td>84</td>\n",
       "    </tr>\n",
       "    <tr>\n",
       "      <th>1</th>\n",
       "      <td>李四</td>\n",
       "      <td>76</td>\n",
       "      <td>63</td>\n",
       "      <td>90</td>\n",
       "    </tr>\n",
       "    <tr>\n",
       "      <th>2</th>\n",
       "      <td>王五</td>\n",
       "      <td>88</td>\n",
       "      <td>88</td>\n",
       "      <td>78</td>\n",
       "    </tr>\n",
       "  </tbody>\n",
       "</table>\n",
       "</div>"
      ],
      "text/plain": [
       "   姓名  统计学  高数  英语\n",
       "0  张三   95  82  84\n",
       "1  李四   76  63  90\n",
       "2  王五   88  88  78"
      ]
     },
     "execution_count": 51,
     "metadata": {},
     "output_type": "execute_result"
    }
   ],
   "source": [
    "df['统计学'] = [95, 76, 88]  # 修改统计学这一列的数值为列表中的值\n",
    "df"
   ]
  },
  {
   "cell_type": "code",
   "execution_count": 53,
   "id": "6a66d5af",
   "metadata": {},
   "outputs": [
    {
     "data": {
      "text/html": [
       "<div>\n",
       "<style scoped>\n",
       "    .dataframe tbody tr th:only-of-type {\n",
       "        vertical-align: middle;\n",
       "    }\n",
       "\n",
       "    .dataframe tbody tr th {\n",
       "        vertical-align: top;\n",
       "    }\n",
       "\n",
       "    .dataframe thead th {\n",
       "        text-align: right;\n",
       "    }\n",
       "</style>\n",
       "<table border=\"1\" class=\"dataframe\">\n",
       "  <thead>\n",
       "    <tr style=\"text-align: right;\">\n",
       "      <th></th>\n",
       "      <th>姓名</th>\n",
       "      <th>统计学</th>\n",
       "      <th>高数</th>\n",
       "      <th>英语</th>\n",
       "    </tr>\n",
       "  </thead>\n",
       "  <tbody>\n",
       "    <tr>\n",
       "      <th>0</th>\n",
       "      <td>张三</td>\n",
       "      <td>95</td>\n",
       "      <td>82</td>\n",
       "      <td>84</td>\n",
       "    </tr>\n",
       "    <tr>\n",
       "      <th>1</th>\n",
       "      <td>80</td>\n",
       "      <td>80</td>\n",
       "      <td>80</td>\n",
       "      <td>80</td>\n",
       "    </tr>\n",
       "    <tr>\n",
       "      <th>2</th>\n",
       "      <td>王五</td>\n",
       "      <td>88</td>\n",
       "      <td>88</td>\n",
       "      <td>78</td>\n",
       "    </tr>\n",
       "  </tbody>\n",
       "</table>\n",
       "</div>"
      ],
      "text/plain": [
       "   姓名  统计学  高数  英语\n",
       "0  张三   95  82  84\n",
       "1  80   80  80  80\n",
       "2  王五   88  88  78"
      ]
     },
     "execution_count": 53,
     "metadata": {},
     "output_type": "execute_result"
    }
   ],
   "source": [
    "df.iloc[1] = 80  # 修改第 2 行的数据为同一个值 80\n",
    "df"
   ]
  },
  {
   "cell_type": "code",
   "execution_count": 56,
   "id": "3eda8c14",
   "metadata": {},
   "outputs": [
    {
     "data": {
      "text/html": [
       "<div>\n",
       "<style scoped>\n",
       "    .dataframe tbody tr th:only-of-type {\n",
       "        vertical-align: middle;\n",
       "    }\n",
       "\n",
       "    .dataframe tbody tr th {\n",
       "        vertical-align: top;\n",
       "    }\n",
       "\n",
       "    .dataframe thead th {\n",
       "        text-align: right;\n",
       "    }\n",
       "</style>\n",
       "<table border=\"1\" class=\"dataframe\">\n",
       "  <thead>\n",
       "    <tr style=\"text-align: right;\">\n",
       "      <th></th>\n",
       "      <th>姓名</th>\n",
       "      <th>统计学</th>\n",
       "      <th>高数</th>\n",
       "      <th>英语</th>\n",
       "    </tr>\n",
       "  </thead>\n",
       "  <tbody>\n",
       "    <tr>\n",
       "      <th>0</th>\n",
       "      <td>张三</td>\n",
       "      <td>95</td>\n",
       "      <td>82</td>\n",
       "      <td>84</td>\n",
       "    </tr>\n",
       "    <tr>\n",
       "      <th>1</th>\n",
       "      <td>赵四</td>\n",
       "      <td>95</td>\n",
       "      <td>90</td>\n",
       "      <td>89</td>\n",
       "    </tr>\n",
       "    <tr>\n",
       "      <th>2</th>\n",
       "      <td>王五</td>\n",
       "      <td>88</td>\n",
       "      <td>88</td>\n",
       "      <td>78</td>\n",
       "    </tr>\n",
       "  </tbody>\n",
       "</table>\n",
       "</div>"
      ],
      "text/plain": [
       "   姓名  统计学  高数  英语\n",
       "0  张三   95  82  84\n",
       "1  赵四   95  90  89\n",
       "2  王五   88  88  78"
      ]
     },
     "execution_count": 56,
     "metadata": {},
     "output_type": "execute_result"
    }
   ],
   "source": [
    "df.iloc[1] = ['赵四', 95, 90, 89]  # 修改第 2 行的数据为列表中的值\n",
    "df"
   ]
  },
  {
   "cell_type": "markdown",
   "id": "123d72df",
   "metadata": {},
   "source": [
    "下面的代码修改第2行第2列中的数值："
   ]
  },
  {
   "cell_type": "code",
   "execution_count": 57,
   "id": "40c83154",
   "metadata": {},
   "outputs": [
    {
     "data": {
      "text/html": [
       "<div>\n",
       "<style scoped>\n",
       "    .dataframe tbody tr th:only-of-type {\n",
       "        vertical-align: middle;\n",
       "    }\n",
       "\n",
       "    .dataframe tbody tr th {\n",
       "        vertical-align: top;\n",
       "    }\n",
       "\n",
       "    .dataframe thead th {\n",
       "        text-align: right;\n",
       "    }\n",
       "</style>\n",
       "<table border=\"1\" class=\"dataframe\">\n",
       "  <thead>\n",
       "    <tr style=\"text-align: right;\">\n",
       "      <th></th>\n",
       "      <th>姓名</th>\n",
       "      <th>统计学</th>\n",
       "      <th>高数</th>\n",
       "      <th>英语</th>\n",
       "    </tr>\n",
       "  </thead>\n",
       "  <tbody>\n",
       "    <tr>\n",
       "      <th>0</th>\n",
       "      <td>张三</td>\n",
       "      <td>95</td>\n",
       "      <td>82</td>\n",
       "      <td>84</td>\n",
       "    </tr>\n",
       "    <tr>\n",
       "      <th>1</th>\n",
       "      <td>赵四</td>\n",
       "      <td>100</td>\n",
       "      <td>90</td>\n",
       "      <td>89</td>\n",
       "    </tr>\n",
       "    <tr>\n",
       "      <th>2</th>\n",
       "      <td>王五</td>\n",
       "      <td>88</td>\n",
       "      <td>88</td>\n",
       "      <td>78</td>\n",
       "    </tr>\n",
       "  </tbody>\n",
       "</table>\n",
       "</div>"
      ],
      "text/plain": [
       "   姓名  统计学  高数  英语\n",
       "0  张三   95  82  84\n",
       "1  赵四  100  90  89\n",
       "2  王五   88  88  78"
      ]
     },
     "execution_count": 57,
     "metadata": {},
     "output_type": "execute_result"
    }
   ],
   "source": [
    "df.iloc[1, 1] = 100  # 修改第2行第2列中的数值\n",
    "df"
   ]
  },
  {
   "cell_type": "markdown",
   "id": "a0f353ac",
   "metadata": {},
   "source": [
    "## 1.3 增加与删除数据"
   ]
  },
  {
   "cell_type": "code",
   "execution_count": null,
   "id": "2dae0ba2",
   "metadata": {},
   "outputs": [],
   "source": []
  }
 ],
 "metadata": {
  "kernelspec": {
   "display_name": "Python 3 (ipykernel)",
   "language": "python",
   "name": "python3"
  },
  "language_info": {
   "codemirror_mode": {
    "name": "ipython",
    "version": 3
   },
   "file_extension": ".py",
   "mimetype": "text/x-python",
   "name": "python",
   "nbconvert_exporter": "python",
   "pygments_lexer": "ipython3",
   "version": "3.10.9"
  }
 },
 "nbformat": 4,
 "nbformat_minor": 5
}
