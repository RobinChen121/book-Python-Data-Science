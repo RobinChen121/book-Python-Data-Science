{
 "cells": [
  {
   "cell_type": "markdown",
   "id": "5e89aff0",
   "metadata": {},
   "source": [
    "# Python 编写函数\n",
    "\n",
    "## 条件语句\n",
    "\n",
    "编写程序时，经常用到一些条件或判断，需要用到 if 语句，它的字面意思是：如果（if）满足条件，做什么，否则（else）做什么。例如，下面一段代码："
   ]
  },
  {
   "cell_type": "code",
   "execution_count": 18,
   "id": "1b0d4a0e",
   "metadata": {},
   "outputs": [
    {
     "name": "stdout",
     "output_type": "stream",
     "text": [
      "Value of a is not greater than 10\n"
     ]
    }
   ],
   "source": [
    "a = 10\n",
    "if a > 10:\n",
    "    print(\"Value of a is greater than 10\")\n",
    "else:\n",
    "    print(\"Value of a is not greater than 10\")"
   ]
  },
  {
   "cell_type": "markdown",
   "id": "d74af855",
   "metadata": {},
   "source": [
    "这段代码的意思是，如果 a 比 10 大，则输出 \"Value of a is greater than 10\"，否则输出 \"Value of a is not greater than 10\"。if 语句还可以跟 elif （else if 的意思），再次判断一个条件。"
   ]
  },
  {
   "cell_type": "markdown",
   "id": "e3988177",
   "metadata": {},
   "source": [
    "<table>   \n",
    "    <tr style=\"border-top:solid; border-bottom:solid\">\n",
    "            <th style=\"text-align:center\">if 语句的一般用法</th>\n",
    "    </tr>\n",
    "    <tr>\n",
    "        <td style=\"text-align:left\">if 条件1:</td>\n",
    "    </tr>\n",
    "    <tr>\n",
    "        <td style=\"text-align:left\">&nbsp;&nbsp;&nbsp;&nbsp;statement_block_1</td>\n",
    "    </tr>\n",
    "    <tr>\n",
    "        <td style=\"text-align:left\">elif 条件2:</td>\n",
    "    </tr>\n",
    "    <tr>\n",
    "        <td style=\"text-align:left\">&nbsp;&nbsp;&nbsp;&nbsp;statement_block_2</td>\n",
    "    </tr>\n",
    "    <tr>\n",
    "        <td style=\"text-align:left\">else:</td>\n",
    "    </tr>\n",
    "    <tr style=\"border-bottom:solid\">\n",
    "        <td style=\"text-align:left\">&nbsp;&nbsp;&nbsp;&nbsp;statement_block_3</td>\n",
    "    </tr>\n",
    "</table>\n",
    "<br />"
   ]
  },
  {
   "cell_type": "markdown",
   "id": "944ab42b",
   "metadata": {},
   "source": [
    "上面 if 语句块的执行顺序为：如果条件1 为真，将执行 \"statement_block_1\" 块语句，如果条件1 为假，将判断 \"条件2\"，如果条件2 为真，将执行 \"statement_block_2\" 块语句，如果条件2 为假，将执行\"statement_block_3\"块语句。举例："
   ]
  },
  {
   "cell_type": "code",
   "execution_count": 34,
   "id": "8924d25a",
   "metadata": {},
   "outputs": [
    {
     "name": "stdout",
     "output_type": "stream",
     "text": [
      "\n",
      "平均水平\n"
     ]
    }
   ],
   "source": [
    "wage = 5000\n",
    "print(\"\")\n",
    "if wage <= 3000:\n",
    "    print(\"贫困户\")\n",
    "elif wage <= 12000:\n",
    "    print(\"平均水平\")\n",
    "else:\n",
    "    print(\"土豪\")"
   ]
  },
  {
   "cell_type": "markdown",
   "id": "f17da207",
   "metadata": {},
   "source": [
    "上面语句的意思是，若输入的月薪小于 3000，则输出“贫困户”，否则若月薪在 3000 与 12000 之间，输出“平均水平”，若月薪在 12000 之上，则输出“土豪”。if 语句里面还可以嵌套 if 语句，进一步增加判断条件，举例："
   ]
  },
  {
   "cell_type": "code",
   "execution_count": 35,
   "id": "6796c946",
   "metadata": {},
   "outputs": [
    {
     "name": "stdout",
     "output_type": "stream",
     "text": [
      "\n",
      "贫困户\n",
      "贫困户中的一般贫\n"
     ]
    }
   ],
   "source": [
    "wage = 2000\n",
    "print(\"\")\n",
    "if wage <= 3000:\n",
    "    print(\"贫困户\")\n",
    "    if 2000 <= wage < 3000:\n",
    "        print(\"贫困户中的一般贫\")\n",
    "    if wage <= 1000:\n",
    "        print(\"贫困户中的特贫\")\n",
    "else:\n",
    "    print(\"不是贫困户\")"
   ]
  },
  {
   "cell_type": "markdown",
   "id": "b52e26c0",
   "metadata": {},
   "source": [
    "在上面的程序中，若月薪小于等于 3000，又嵌套了两个条件进一步判断。"
   ]
  },
  {
   "cell_type": "markdown",
   "id": "9e8990d8",
   "metadata": {},
   "source": [
    "if 中条件判断中常用的符号有：>(大于), <(小于), >=(大于等于), <=(小于等于), ==(等于), !=(不等于)。需要注意的是，在编程语言的判断语句中，两个等号 == 表示判断是否相等（a == 3 表示判断 a 是否等于 3），而一个等号 = 表示的是变量赋值（a = 3 表示将 a 赋值为 3）"
   ]
  },
  {
   "cell_type": "markdown",
   "id": "27d501d7",
   "metadata": {},
   "source": [
    "## 循环语句\n",
    "\n",
    "循环语句一般有两种，for 语句与 while 语句。for 循环可以遍历任何序列的项目，如一个列表、元组、集合或者一个字符串。for 循环的一般用法如下：\n",
    "\n",
    "<table>   \n",
    "    <tr style=\"border-top:solid; border-bottom:solid\">\n",
    "            <th style=\"text-align:center\">for 循环语句的一般用法</th>\n",
    "    </tr>\n",
    "    <tr>\n",
    "        <td style=\"text-align:left\">for variable in sequence:</td>\n",
    "    </tr>\n",
    "    <tr style=\"border-bottom:solid\">\n",
    "        <td style=\"text-align:left\">&nbsp;&nbsp;&nbsp;&nbsp;statements</td>\n",
    "    </tr>\n",
    "</table>\n",
    "<br />"
   ]
  },
  {
   "cell_type": "markdown",
   "id": "464f680d",
   "metadata": {},
   "source": [
    "for 循环的作用是：遍历序列（sequence）中的所有元素，执行命令语句 statements，举例："
   ]
  },
  {
   "cell_type": "code",
   "execution_count": 21,
   "id": "bcde585c",
   "metadata": {},
   "outputs": [
    {
     "name": "stdout",
     "output_type": "stream",
     "text": [
      "0\n",
      "1\n",
      "2\n"
     ]
    }
   ],
   "source": [
    "for i in range(3):\n",
    "    print(i)"
   ]
  },
  {
   "cell_type": "markdown",
   "id": "5d175c31",
   "metadata": {},
   "source": [
    "输出结果为 0， 1， 2，上述代码的作用是，对于 range(3) 中的每一个元素，打印元素。**for 循环经常结合序列函数 range() 一起使用**：range(a) 表示从 0 到 a-1 的一个数列，range(a, b) 表示从 a 到 b-1 的一个数列，range(a, b, c) 表示从 a 到 b-1，步长为 c 的一个数列。"
   ]
  },
  {
   "cell_type": "markdown",
   "id": "58088b43",
   "metadata": {},
   "source": [
    "另一个 while 循环语句的一般格式为：\n",
    "\n",
    "<table>   \n",
    "    <tr style=\"border-top:solid; border-bottom:solid\">\n",
    "            <th style=\"text-align:center\">while 循环语句的一般用法</th>\n",
    "    </tr>\n",
    "    <tr>\n",
    "        <td style=\"text-align:left\">while&nbsp; 判断条件:</td>\n",
    "    </tr>\n",
    "    <tr style=\"border-bottom:solid\">\n",
    "        <td style=\"text-align:left\">&nbsp;&nbsp;&nbsp;&nbsp;&nbsp;&nbsp;&nbsp;statements</td>\n",
    "    </tr>\n",
    "</table>\n",
    "<br />"
   ]
  },
  {
   "cell_type": "markdown",
   "id": "3d7a4815",
   "metadata": {},
   "source": [
    "它的作用是，只要满足 while 的判断条件，则一直执行 while 下面的执行语句 statements，举例："
   ]
  },
  {
   "cell_type": "code",
   "execution_count": 22,
   "id": "028597c7",
   "metadata": {},
   "outputs": [
    {
     "name": "stdout",
     "output_type": "stream",
     "text": [
      "1\n",
      "2\n",
      "3\n"
     ]
    }
   ],
   "source": [
    "a = 1\n",
    "while a < 4:\n",
    "    print(a)\n",
    "    a = a + 1"
   ]
  },
  {
   "cell_type": "markdown",
   "id": "028ddeac",
   "metadata": {},
   "source": [
    "上面语句的作用是：只要 a 小于 4，则将 a 值打印出来并将 a 值加 1，在 a 等于 4 时停止执行 while语句。\n",
    "\n",
    "for 循环与 while 循环经常结合``break``或``continue``语句，``break``语句可以跳出循环体，而``continue``语句用来告诉 Python 跳过当前循环块中的剩余语句，然后继续进行下一轮循环。举例："
   ]
  },
  {
   "cell_type": "code",
   "execution_count": 23,
   "id": "d7b09b6b",
   "metadata": {},
   "outputs": [
    {
     "name": "stdout",
     "output_type": "stream",
     "text": [
      "0\n",
      "循环结束\n"
     ]
    }
   ],
   "source": [
    "for i in range(3):\n",
    "   if i == 1:\n",
    "       break\n",
    "   print(i)\n",
    "print('循环结束')"
   ]
  },
  {
   "cell_type": "markdown",
   "id": "56881f91",
   "metadata": {},
   "source": [
    "上面代码中，在 i 等于 1 时执行``break``跳出了整个循环体。"
   ]
  },
  {
   "cell_type": "markdown",
   "id": "a96668d3",
   "metadata": {},
   "source": [
    "若改为``continue``语句："
   ]
  },
  {
   "cell_type": "code",
   "execution_count": 24,
   "id": "13ad84ce",
   "metadata": {},
   "outputs": [
    {
     "name": "stdout",
     "output_type": "stream",
     "text": [
      "0\n",
      "2\n",
      "循环结束\n"
     ]
    }
   ],
   "source": [
    "for i in range(3):\n",
    "   if i == 1:\n",
    "       continue\n",
    "   print(i)\n",
    "print('循环结束')"
   ]
  },
  {
   "cell_type": "markdown",
   "id": "9b9bc4f5",
   "metadata": {},
   "source": [
    "上面代码中，在 i 等于 1 时执行``continue``跳出了当前循环，执行剩下的循环。"
   ]
  },
  {
   "cell_type": "markdown",
   "id": "79c4d409",
   "metadata": {},
   "source": [
    "在 while 循环中，``break``与``continue``的例子："
   ]
  },
  {
   "cell_type": "code",
   "execution_count": 25,
   "id": "d6cccf2a",
   "metadata": {},
   "outputs": [
    {
     "name": "stdout",
     "output_type": "stream",
     "text": [
      "2\n",
      "循环结束\n"
     ]
    }
   ],
   "source": [
    "a = 1\n",
    "while a < 5:\n",
    "    a = a + 1\n",
    "    if a == 3:\n",
    "        break \n",
    "    print(a)\n",
    "print('循环结束')"
   ]
  },
  {
   "cell_type": "code",
   "execution_count": 26,
   "id": "109b00da",
   "metadata": {},
   "outputs": [
    {
     "name": "stdout",
     "output_type": "stream",
     "text": [
      "2\n",
      "4\n",
      "5\n",
      "循环结束\n"
     ]
    }
   ],
   "source": [
    "a = 1\n",
    "while a < 5:\n",
    "    a = a + 1\n",
    "    if a == 3:\n",
    "        continue \n",
    "    print(a)\n",
    "print('循环结束')"
   ]
  },
  {
   "cell_type": "markdown",
   "id": "ff1ebe1c",
   "metadata": {},
   "source": [
    "## 自定义函数\n",
    "\n",
    "Python 提供了许多内建函数，比如 print()，但也可以自己创建函数，这被叫做用户自定义函数。掌握了自定义函数后，就能用 Python 实现很多自己想要的功能了。Python 自定义函数使用``def``关键字，一般用法如下：\n",
    "\n",
    "<table>   \n",
    "    <tr style=\"border-top:solid; border-bottom:solid\">\n",
    "            <th style=\"text-align:center\">def 自定义函数的一般用法</th>\n",
    "    </tr>\n",
    "    <tr>\n",
    "        <td style=\"text-align:left\">def 函数名(参数列表):</td>\n",
    "    </tr>\n",
    "    <tr style=\"border-bottom:solid\">\n",
    "        <td style=\"text-align:left\">&nbsp;&nbsp;&nbsp;&nbsp;&nbsp;&nbsp;&nbsp;statements</td>\n",
    "    </tr>\n",
    "</table>\n",
    "<br />"
   ]
  },
  {
   "cell_type": "markdown",
   "id": "e5cee831",
   "metadata": {},
   "source": [
    "下面的几行代码定义了一个加和函数："
   ]
  },
  {
   "cell_type": "code",
   "execution_count": 27,
   "id": "ca9c7060",
   "metadata": {},
   "outputs": [],
   "source": [
    "def add(x1, x2):\n",
    "    z = x1 + x2\n",
    "    return z"
   ]
  },
  {
   "cell_type": "markdown",
   "id": "cfde852c",
   "metadata": {},
   "source": [
    "该自定义函数有以下几个特点：\n",
    "\n",
    "<table>   \n",
    "    <tr style=\"border-top:solid\">\n",
    "        <td style=\"text-align:left\">def</td>\n",
    "        <td style=\"text-align:left\">关键字 def 开头</td>\n",
    "    </tr>\n",
    "    <tr>\n",
    "        <td style=\"text-align:left\">add</td>\n",
    "        <td style=\"text-align:left\"> 函数的名字，可以自命名</td>\n",
    "    </tr>\n",
    "    <tr>\n",
    "        <td style=\"text-align:left\">(x1, x2)</td>\n",
    "        <td style=\"text-align:left\">小括号里面是函数的输入参数</td>\n",
    "    </tr>\n",
    "    <tr>\n",
    "        <td style=\"text-align:left\">:</td>\n",
    "        <td style=\"text-align:left\">冒号，换行写函数内容；若不换行，整个函数只能有一行代码</td>\n",
    "    </tr>\n",
    "    <tr style=\"border-bottom:solid\">\n",
    "        <td style=\"text-align:left\">return</td>\n",
    "        <td style=\"text-align:left\">关键字，后面跟函数的返回值，即输出结果</td>\n",
    "    </tr>\n",
    "</table>"
   ]
  },
  {
   "cell_type": "markdown",
   "id": "4e07623d",
   "metadata": {},
   "source": [
    "函数的返回值可以有一个或多个，下面的代码返回多个值，既返回两个参数的加和结果，又返回两个参数的值。"
   ]
  },
  {
   "cell_type": "code",
   "execution_count": 28,
   "id": "1494824e",
   "metadata": {},
   "outputs": [],
   "source": [
    "def add(x1, x2):\n",
    "    z = x1 + x2\n",
    "    return z, x1, x2"
   ]
  },
  {
   "cell_type": "markdown",
   "id": "3214a220",
   "metadata": {},
   "source": [
    "调用函数时，通过输入函数名字，并把函数的参数传递进去，例如："
   ]
  },
  {
   "cell_type": "code",
   "execution_count": 29,
   "id": "76caa2c1",
   "metadata": {},
   "outputs": [
    {
     "name": "stdout",
     "output_type": "stream",
     "text": [
      "16\n"
     ]
    }
   ],
   "source": [
    "def add(x1, x2):\n",
    "    z = x1+x2\n",
    "    return z\n",
    "\n",
    "x1 = 10\n",
    "x2 = 6\n",
    "print(add(x1, x2))"
   ]
  },
  {
   "cell_type": "markdown",
   "id": "d807c0f2",
   "metadata": {},
   "source": [
    "在多个返回值时，有时候需要用新的变量表示各个返回值，可以用下面的方式赋值："
   ]
  },
  {
   "cell_type": "code",
   "execution_count": 30,
   "id": "c7441fbb",
   "metadata": {},
   "outputs": [
    {
     "name": "stdout",
     "output_type": "stream",
     "text": [
      "16\n",
      "10\n",
      "6\n"
     ]
    }
   ],
   "source": [
    "def add(x1, x2):\n",
    "    z = x1+x2\n",
    "    return z, x1, x2\n",
    "\n",
    "x1 = 10\n",
    "x2 = 6\n",
    "sums, a, b = add(x1, x2) # 用新变量赋值\n",
    "print(sums)\n",
    "print(a)\n",
    "print(b)"
   ]
  },
  {
   "cell_type": "markdown",
   "id": "0cde4dfe",
   "metadata": {},
   "source": [
    "若某个返回值不使用，可以用下划线``_``替代该变量名。"
   ]
  },
  {
   "cell_type": "code",
   "execution_count": 31,
   "id": "df53fe8c",
   "metadata": {},
   "outputs": [
    {
     "name": "stdout",
     "output_type": "stream",
     "text": [
      "16\n",
      "6\n"
     ]
    }
   ],
   "source": [
    "def add(x1, x2):\n",
    "    z = x1+x2\n",
    "    return z, x1, x2\n",
    "\n",
    "x1 = 10\n",
    "x2 = 6\n",
    "sums, _, b = add(x1, x2) # 用下划线 _ 替代第二个返回值\n",
    "print(sums)\n",
    "print(b)"
   ]
  },
  {
   "cell_type": "markdown",
   "id": "5cfc3a3d",
   "metadata": {},
   "source": [
    "上面的代码中，用下划线替代第二个返回参数值，用新的变量名替代其他参数值。"
   ]
  },
  {
   "cell_type": "markdown",
   "id": "7b36acef",
   "metadata": {},
   "source": [
    "函数也可以不带输入参数，即小括号里面可以没有内容，例如，下面的代码打印一句话 ``Hello, world!\"："
   ]
  },
  {
   "cell_type": "code",
   "execution_count": 32,
   "id": "3586a74d",
   "metadata": {},
   "outputs": [
    {
     "name": "stdout",
     "output_type": "stream",
     "text": [
      "Hello, world!\n"
     ]
    }
   ],
   "source": [
    "def hello():\n",
    "    print('Hello, world!')\n",
    "\n",
    "hello()"
   ]
  },
  {
   "cell_type": "markdown",
   "id": "ea156278",
   "metadata": {},
   "source": [
    "### 函数参数的传递类型\n",
    "\n",
    "根据输入参数的值是否可以改变，函数的参数传递类型包括以下两种：\n",
    "\n",
    "- 不可变类型：数字，字符串，元组\n",
    "- 可变类型：列表，字典，集合"
   ]
  },
  {
   "cell_type": "markdown",
   "id": "0e203efd",
   "metadata": {},
   "source": [
    "对于不可变类型，函数调用参数后，参数原来的值不变，例如："
   ]
  },
  {
   "cell_type": "code",
   "execution_count": null,
   "id": "b0170bfe",
   "metadata": {},
   "outputs": [],
   "source": [
    "def changeNum(a):\n",
    "    a = 10\n",
    "\n",
    "b = 2\n",
    "changeNum(b)\n",
    "print(b)    # 结果还是 2"
   ]
  },
  {
   "cell_type": "markdown",
   "id": "6b3fbe94",
   "metadata": {},
   "source": [
    "上面的代码中，由于传递的是数字类型，调用函数后，参数原来的数值不变，对于字符串或元组类型，传递时也是这样。"
   ]
  },
  {
   "cell_type": "markdown",
   "id": "80bac7a0",
   "metadata": {},
   "source": [
    "对于可变类型，函数调用参数后，参数原来的值也改变，例如："
   ]
  },
  {
   "cell_type": "code",
   "execution_count": null,
   "id": "38997f71",
   "metadata": {},
   "outputs": [],
   "source": [
    "def changeList(mylist):\n",
    "  mylist.extend([1, 2, 3])\n",
    "  return mylist\n",
    "\n",
    "listTry = [10, 20, 30]\n",
    "changeList(listTry)\n",
    "print(listTry)  # 结果是 [10, 20, 30, 1, 2, 3]，改变了列表原来的值"
   ]
  },
  {
   "cell_type": "markdown",
   "id": "dc6909b2",
   "metadata": {},
   "source": [
    "###  函数的参数传入方法\n",
    "\n",
    "函数的参数传入方法主要有4种类型：\n",
    "\n",
    "\n",
    "- 顺序传入\n",
    "- 赋值传入\n",
    "- 默认参数值传入\n",
    "- 不定长参数传入"
   ]
  },
  {
   "cell_type": "markdown",
   "id": "67309bbb",
   "metadata": {},
   "source": [
    "对于顺序传入，函数的参数值跟输入的顺序一一对应："
   ]
  },
  {
   "cell_type": "code",
   "execution_count": null,
   "id": "3f08b458",
   "metadata": {},
   "outputs": [],
   "source": [
    "def minus(x1, x2):\n",
    "    z = x1 - x2\n",
    "    return z\n",
    "\n",
    "print(minus(10, 6))"
   ]
  },
  {
   "cell_type": "markdown",
   "id": "f009adf6",
   "metadata": {},
   "source": [
    "在上面的代码中，调用 minus 函数，按照参数的顺序，认为 x1 的值为 10， x2 的值为 6。"
   ]
  },
  {
   "cell_type": "markdown",
   "id": "d209e00f",
   "metadata": {},
   "source": [
    "赋值传入的意思是：在调用函数时，可以在输入参数时直接给参数赋值，Python 自动根据括号内的参数名匹配参数值，例如："
   ]
  },
  {
   "cell_type": "code",
   "execution_count": null,
   "id": "5e7f00d0",
   "metadata": {},
   "outputs": [],
   "source": [
    "def minus(x1, x2):\n",
    "    z = x1 - x2\n",
    "    return z\n",
    "\n",
    "print(minus(x2 = 10, x1 = 6))"
   ]
  },
  {
   "cell_type": "markdown",
   "id": "83671143",
   "metadata": {},
   "source": [
    "在上面的代码中，调用 minus 函数时，在小括号内对参数进行了赋值，认为 x2 的值为 10， x1 的值为 6。"
   ]
  },
  {
   "cell_type": "markdown",
   "id": "7ebaeb44",
   "metadata": {},
   "source": [
    "Python 在定义函数时，可以设置参数的默认值，当调用参数时，若没有给参数赋值，则使用参数的默认值，例如："
   ]
  },
  {
   "cell_type": "code",
   "execution_count": null,
   "id": "3d06ef4f",
   "metadata": {},
   "outputs": [],
   "source": [
    "def minus(x1, x2 = 6):\n",
    "    z = x1 - x2\n",
    "    return z\n",
    "\n",
    "print(minus(x1 = 10))  # 输出：4，没有传递参数值时默认参数值\n",
    "print(minus(x1 = 10, x2 = 5))  # 输出：5，有传递参数值时，覆盖默认参数值"
   ]
  },
  {
   "cell_type": "markdown",
   "id": "7c2efe4e",
   "metadata": {},
   "source": [
    "当一个函数传递多个参数，但不太确定究竟是多少个时，可以用 *args 表示多个参数，例如："
   ]
  },
  {
   "cell_type": "code",
   "execution_count": null,
   "id": "8b3849bf",
   "metadata": {},
   "outputs": [],
   "source": [
    "def plus(x, *args):\n",
    "    print('x is %d' % x)\n",
    "    for var in args:\n",
    "        x += var\n",
    "    print('final x is %d' % x)\n",
    "\n",
    "plus(3, 4, 5) # *args 是 4, 5\n",
    "plus(3, 4, 5, 6) # *args 是 4, 5, 6"
   ]
  },
  {
   "cell_type": "markdown",
   "id": "990d8967",
   "metadata": {},
   "source": [
    "可以用 \\*\\*args 来传递不定长的多个赋值的参数，例如："
   ]
  },
  {
   "cell_type": "code",
   "execution_count": null,
   "id": "d72d76cc",
   "metadata": {},
   "outputs": [],
   "source": [
    "def minus(x1, **args):\n",
    "    sum = 0\n",
    "    for key in args:\n",
    "        sum += args[key]\n",
    "        return x1 - sum\n",
    "\n",
    "print(minus(10, x2 = 3, x3 = 5))"
   ]
  },
  {
   "cell_type": "markdown",
   "id": "fb92e2b5",
   "metadata": {},
   "source": [
    "上面的代码中，用 \\*\\*args 表示 x2 = 3, x3 = 5。"
   ]
  },
  {
   "cell_type": "markdown",
   "id": "61b3df72",
   "metadata": {},
   "source": [
    "## lambda, map, filter, reduce 函数\n",
    "\n",
    "Python 使用``lambda``来创建匿名函数。所谓匿名，即不再使用 def 语句这样标准的形式定义一个函数。**lambda 函数只有一行**，用一个冒号分割传递参数与函数的返回值。非常简洁，在 Pandas 处理数据时经常结合 apply 函数使用。"
   ]
  },
  {
   "cell_type": "code",
   "execution_count": null,
   "id": "4f5b2685",
   "metadata": {},
   "outputs": [],
   "source": [
    "add = lambda x1, x2: x1 + x2\n",
    "print(add(10, 6)) "
   ]
  },
  {
   "cell_type": "markdown",
   "id": "422f5b13",
   "metadata": {},
   "source": [
    "也可以结合 if-else 语句定义 lambda 函数。"
   ]
  },
  {
   "cell_type": "code",
   "execution_count": null,
   "id": "f9d044b1",
   "metadata": {},
   "outputs": [],
   "source": [
    "Max = lambda a, b: a if(a > b) else b\n",
    "print(Max(12, 20))"
   ]
  },
  {
   "cell_type": "markdown",
   "id": "21c95313",
   "metadata": {},
   "source": [
    "``map(fun, iter)`` 对每一个可迭代对象 iter 中的元素应用 fun 函数，并返回一个 map 类型的可迭代对象。fun 函数既可以使用 lambda 匿名函数，也可以用 def 自定义一个函数。"
   ]
  },
  {
   "cell_type": "code",
   "execution_count": null,
   "id": "af5986a4",
   "metadata": {},
   "outputs": [],
   "source": [
    "a = [1, 2, 3]\n",
    "b = map(lambda x: x**2, a) # 对 a 中每个元素平方\n",
    "b"
   ]
  },
  {
   "cell_type": "markdown",
   "id": "9501b7f6",
   "metadata": {},
   "source": [
    "可以用``list()``函数将这个可迭代对象转化为 list 类型："
   ]
  },
  {
   "cell_type": "code",
   "execution_count": null,
   "id": "53efe894",
   "metadata": {},
   "outputs": [],
   "source": [
    "list(b)"
   ]
  },
  {
   "cell_type": "code",
   "execution_count": null,
   "id": "fb9cd5eb",
   "metadata": {},
   "outputs": [],
   "source": [
    "``filter(fun, iter)`` 对可迭代对象 iter 中的每一个元素应用判断函数 fun 过滤，并返回一个 filter 类型的可迭代对象。"
   ]
  },
  {
   "cell_type": "code",
   "execution_count": null,
   "id": "eabb18c8",
   "metadata": {},
   "outputs": [],
   "source": [
    "a = [1, 2, 3]\n",
    "b = filter(lambda x: x >= 2, a) # 将大于等于 2 的元素过滤出来\n",
    "list(b)"
   ]
  },
  {
   "cell_type": "markdown",
   "id": "6740fdfb",
   "metadata": {},
   "source": [
    "``reduce(fun, iter)``首先对可迭代对象 iter 中的前两个元素应用函数 fun，然后将其结果作为 fun 的第一个输入值，再对第 3 个元素应用 fun 函数；以此类推，最后返回一个数。使用 reduce 函数需要从工具包 functools 中提前导入。"
   ]
  },
  {
   "cell_type": "code",
   "execution_count": null,
   "id": "d256d221",
   "metadata": {},
   "outputs": [],
   "source": [
    "from functools import reduce # 从工具包 functools 中导入 reduce\n",
    "\n",
    "a = [1, 2, 3, 4]\n",
    "b = reduce(lambda x1, x2: x1 + x2, a) # 求和\n",
    "b"
   ]
  },
  {
   "cell_type": "markdown",
   "id": "cf1ca4b1",
   "metadata": {},
   "source": [
    "``reduce``也可以跟 3 个参数，即``reduce(fun, iter, start=None)``。此时，首先对一个初始值 start 与可迭代对象 iter 中的第一个元素应用函数 fun，然后将其结果作为 fun 的第一个输入值，再对第 2 个元素应用 fun 函数；以此类推，最后返回一个数。"
   ]
  },
  {
   "cell_type": "code",
   "execution_count": null,
   "id": "0284389b",
   "metadata": {},
   "outputs": [],
   "source": [
    "a = [1, 2, 3, 4]\n",
    "b = reduce(lambda x1, x2: x1 + x2, a, 10) # 求和，起始值为 10\n",
    "b"
   ]
  },
  {
   "cell_type": "markdown",
   "id": "fcf82d92",
   "metadata": {},
   "source": [
    "## try-except 语句调试\n",
    "\n",
    "在编写程序时，有时候不知道程序能否正确运行，想试试程序运行结果如何，可以使用 try-except语句；若 try 块中的语句无法执行通过，则执行 except 块中的语句。\n",
    "\n",
    "这个语句在程序调试时经常使用，下面的代码定义了一个除法函数："
   ]
  },
  {
   "cell_type": "code",
   "execution_count": null,
   "id": "c2a26fe6",
   "metadata": {},
   "outputs": [],
   "source": [
    "def devide(x1, x2):\n",
    "    try:\n",
    "        z = x1/x2\n",
    "        print(z)\n",
    "    except:\n",
    "        print('x2 should not be zero')\n",
    "\n",
    "devide(5, 0)"
   ]
  },
  {
   "cell_type": "markdown",
   "id": "c9fc66d2",
   "metadata": {},
   "source": [
    "上面的代码中，若 x1 能除以 x2，则输出除法结果，否则提示 x2 不能为零。"
   ]
  },
  {
   "cell_type": "markdown",
   "id": "018b410a",
   "metadata": {},
   "source": [
    "Python 还有一个关键字``pass``，不执行任何命令。一般用做占位语句，在程序调试时可以使用。"
   ]
  },
  {
   "cell_type": "code",
   "execution_count": null,
   "id": "f367b794",
   "metadata": {},
   "outputs": [],
   "source": [
    "def devide(x1, x2):\n",
    "    try:\n",
    "        z = x1/x2\n",
    "        print(z)\n",
    "    except:\n",
    "        pass\n",
    "\n",
    "devide(5, 0)"
   ]
  },
  {
   "cell_type": "code",
   "execution_count": null,
   "id": "7d91dc14",
   "metadata": {},
   "outputs": [],
   "source": [
    "上面的代码中，若 x1 能除以 x2，则输出除法结果，否则程序不输出任何结果。"
   ]
  },
  {
   "cell_type": "markdown",
   "id": "43683bc0",
   "metadata": {},
   "source": [
    "## 一些常用的内置函数\n",
    "\n",
    "Python 内置了一些常用的函数，可以方便使用。本书简单介绍以下几个内置函数：\n",
    "\n",
    "<table>\n",
    "    <tr style=\"border-top:solid\">\n",
    "        <td style=\"text-align:left\">sum</td>\n",
    "        <td style=\"text-align:left\">对可迭代对象（如列表，元组，集合）求和</td>\n",
    "    </tr>\n",
    "    <tr>\n",
    "        <td style=\"text-align:left\">max</td>\n",
    "        <td style=\"text-align:left\">返回输入参数中的最大值</td>\n",
    "    </tr>\n",
    "    <tr>\n",
    "        <td style=\"text-align:left\">min</td>\n",
    "        <td style=\"text-align:left\">返回输入参数中的最小值</td>\n",
    "    </tr>\n",
    "    <tr>\n",
    "        <td style=\"text-align:left\">abs</td>\n",
    "        <td style=\"text-align:left\">返回输入数值的绝对值</td>\n",
    "    </tr>\n",
    "    <tr>\n",
    "        <td style=\"text-align:left\">round</td>\n",
    "        <td style=\"text-align:left\">返回输入数值的四舍五入值</td>\n",
    "    </tr>\n",
    "    <tr>\n",
    "        <td style=\"text-align:left\">range</td>\n",
    "        <td style=\"text-align:left\">创建一个整数序列类型，多用于 for 循环</td>\n",
    "    </tr>\n",
    "    <tr>\n",
    "        <td style=\"text-align:left\">enumerate</td>\n",
    "        <td style=\"text-align:left\">将一个可迭代的对象，同时列出各个数据和对应索引，常用在 for 循环中</td>\n",
    "    </tr>\n",
    "    <tr style=\"border-bottom:solid\">\n",
    "        <td style=\"text-align:left\">sorted</td>\n",
    "        <td style=\"text-align:left\">对可迭代对象进行排序，默认升序</td>\n",
    "    </tr>\n",
    "</table>"
   ]
  },
  {
   "cell_type": "code",
   "execution_count": null,
   "id": "a3b8e5b5",
   "metadata": {},
   "outputs": [],
   "source": [
    "round(3.1415926, 2)  # 四舍五入时保留两位小数"
   ]
  },
  {
   "cell_type": "code",
   "execution_count": null,
   "id": "de3e70cf",
   "metadata": {},
   "outputs": [],
   "source": [
    "round(3.1415926) # 默认四舍五入为整数"
   ]
  },
  {
   "cell_type": "markdown",
   "id": "0a06e911",
   "metadata": {},
   "source": [
    "range 被 Python 直接视为一种数据类型，表示一个整数数列。包含终点（必有），起点（可选），步长（可选）。可以用``list()``将 range 类型转化为列表类型。"
   ]
  },
  {
   "cell_type": "code",
   "execution_count": null,
   "id": "4cf8b77f",
   "metadata": {},
   "outputs": [],
   "source": [
    "range(10)  # 创建一个从 0 到 10 (不包括 10) 的整数序列，默认起点为 0，默认步长值为 1"
   ]
  },
  {
   "cell_type": "code",
   "execution_count": null,
   "id": "787c7d9e",
   "metadata": {},
   "outputs": [],
   "source": [
    "list(range(10))"
   ]
  },
  {
   "cell_type": "code",
   "execution_count": null,
   "id": "301909d7",
   "metadata": {},
   "outputs": [],
   "source": [
    "range(2, 10)  # 创建一个从 2 到 10 的整数序列"
   ]
  },
  {
   "cell_type": "code",
   "execution_count": null,
   "id": "a1009a7b",
   "metadata": {},
   "outputs": [],
   "source": [
    "range(2, 10, 2) # 创建一个从 2 到 10 的整数序列，并且步长值为 2"
   ]
  },
  {
   "cell_type": "code",
   "execution_count": null,
   "id": "518e4f50",
   "metadata": {},
   "outputs": [],
   "source": [
    "list(range(2, 10, 2))"
   ]
  },
  {
   "cell_type": "markdown",
   "id": "1f368a55",
   "metadata": {},
   "source": [
    "eumerate 经常结合 for 循环使用。"
   ]
  },
  {
   "cell_type": "code",
   "execution_count": null,
   "id": "abf37c31",
   "metadata": {},
   "outputs": [],
   "source": [
    "a = [20, 30, 40, 50]\n",
    "for i in range(len(a)):\n",
    "    print(a[i], i)"
   ]
  },
  {
   "cell_type": "markdown",
   "id": "cce6ea09",
   "metadata": {},
   "source": [
    "使用 enumerate 则上述代码更简洁些："
   ]
  },
  {
   "cell_type": "code",
   "execution_count": null,
   "id": "e4b83b3c",
   "metadata": {},
   "outputs": [],
   "source": [
    "a = [20, 30, 40, 50]\n",
    "for item, i in enumerate(a):\n",
    "    print(item, i)"
   ]
  },
  {
   "cell_type": "markdown",
   "id": "7ecea52e",
   "metadata": {},
   "source": [
    "sorted 函数可以对可迭代对象进行排序，默认为升序，可迭代对象一般是列表。"
   ]
  },
  {
   "cell_type": "code",
   "execution_count": null,
   "id": "2a2b9a16",
   "metadata": {},
   "outputs": [],
   "source": [
    "arr = [23, 54, 12, 37]\n",
    "sorted(arr)  # 对列表升序排列"
   ]
  },
  {
   "cell_type": "code",
   "execution_count": null,
   "id": "8121b58a",
   "metadata": {},
   "outputs": [],
   "source": [
    "sorted(arr, reverse = True)  # 对列表降序排列"
   ]
  }
 ],
 "metadata": {
  "kernelspec": {
   "display_name": "Python 3 (ipykernel)",
   "language": "python",
   "name": "python3"
  },
  "language_info": {
   "codemirror_mode": {
    "name": "ipython",
    "version": 3
   },
   "file_extension": ".py",
   "mimetype": "text/x-python",
   "name": "python",
   "nbconvert_exporter": "python",
   "pygments_lexer": "ipython3",
   "version": "3.11.4"
  }
 },
 "nbformat": 4,
 "nbformat_minor": 5
}
