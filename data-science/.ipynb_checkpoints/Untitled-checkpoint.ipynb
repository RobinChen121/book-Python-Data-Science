{
 "cells": [
  {
   "cell_type": "markdown",
   "id": "8771d0e2",
   "metadata": {},
   "source": [
    "# Python 输出输入，读写文件\n",
    "\n",
    "## print, input 函数\n",
    "\n",
    "Python 输出非常方便，用``print()``函数，小括号里面可以是数字、字符串、列表、字典等类型。"
   ]
  },
  {
   "cell_type": "code",
   "execution_count": null,
   "id": "654362e0",
   "metadata": {},
   "outputs": [],
   "source": []
  }
 ],
 "metadata": {
  "kernelspec": {
   "display_name": "Python 3 (ipykernel)",
   "language": "python",
   "name": "python3"
  },
  "language_info": {
   "codemirror_mode": {
    "name": "ipython",
    "version": 3
   },
   "file_extension": ".py",
   "mimetype": "text/x-python",
   "name": "python",
   "nbconvert_exporter": "python",
   "pygments_lexer": "ipython3",
   "version": "3.10.9"
  }
 },
 "nbformat": 4,
 "nbformat_minor": 5
}
