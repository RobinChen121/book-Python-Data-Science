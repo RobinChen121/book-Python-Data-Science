{
 "cells": [
  {
   "cell_type": "markdown",
   "id": "b2182dbe",
   "metadata": {},
   "source": [
    "# Python 的常用数据类型\n",
    "\n",
    "Python 的常用数据类型有：数字，字符串，列表，元组，字典。\n",
    "\n",
    "## 数字类型：整数型，浮点型\n",
    "\n",
    "Python 中定义一个数字型变量特别方便，直接用等号赋值。例如："
   ]
  },
  {
   "cell_type": "code",
   "execution_count": 3,
   "id": "4ecc902a",
   "metadata": {},
   "outputs": [
    {
     "data": {
      "text/plain": [
       "1"
      ]
     },
     "execution_count": 3,
     "metadata": {},
     "output_type": "execute_result"
    }
   ],
   "source": [
    "a = 1\n",
    "a"
   ]
  },
  {
   "cell_type": "code",
   "execution_count": 4,
   "id": "8cff8309",
   "metadata": {},
   "outputs": [
    {
     "data": {
      "text/plain": [
       "2.2"
      ]
     },
     "execution_count": 4,
     "metadata": {},
     "output_type": "execute_result"
    }
   ],
   "source": [
    "b = 2.2\n",
    "b"
   ]
  },
  {
   "cell_type": "markdown",
   "id": "f40d182f",
   "metadata": {},
   "source": [
    "在上面的这段代码中，定义了一个数字型变量 a，并将其赋值为 1；定义了一个浮点型变量 b，并将其赋值为 2.2。\n",
    "\n",
    "Python 并不像其他的一些编程语言那样需要明确数字的细分类型：整数型（int），浮点型（float）等。Python 可以自己判断数字类型，例如在上面的代码中，由于 a 没有小数点，Python 认为 a 是整数型，b 带了小数点，Python 认为 b 是浮点型。\n",
    "\n",
    "我们可以利用 type 函数检验下："
   ]
  },
  {
   "cell_type": "code",
   "execution_count": 5,
   "id": "70166e84",
   "metadata": {},
   "outputs": [
    {
     "data": {
      "text/plain": [
       "int"
      ]
     },
     "execution_count": 5,
     "metadata": {},
     "output_type": "execute_result"
    }
   ],
   "source": [
    "type(a)"
   ]
  },
  {
   "cell_type": "code",
   "execution_count": 6,
   "id": "7ebb68df",
   "metadata": {},
   "outputs": [
    {
     "data": {
      "text/plain": [
       "float"
      ]
     },
     "execution_count": 6,
     "metadata": {},
     "output_type": "execute_result"
    }
   ],
   "source": [
    "type(b)"
   ]
  },
  {
   "cell_type": "markdown",
   "id": "36cdf0db",
   "metadata": {},
   "source": [
    "Python 中数字类型的互换也非常方便，只需要将数据类型作为函数名即可，如下面代码："
   ]
  },
  {
   "cell_type": "code",
   "execution_count": 7,
   "id": "3fed5892",
   "metadata": {},
   "outputs": [
    {
     "data": {
      "text/plain": [
       "1.0"
      ]
     },
     "execution_count": 7,
     "metadata": {},
     "output_type": "execute_result"
    }
   ],
   "source": [
    "float(a) # 将整形数据 a 转化为浮点型数据"
   ]
  },
  {
   "cell_type": "code",
   "execution_count": 8,
   "id": "9138a49a",
   "metadata": {},
   "outputs": [
    {
     "data": {
      "text/plain": [
       "2"
      ]
     },
     "execution_count": 8,
     "metadata": {},
     "output_type": "execute_result"
    }
   ],
   "source": [
    "int(b) # 将浮点型数据 b 转化为整形数据"
   ]
  },
  {
   "cell_type": "markdown",
   "id": "869c3216",
   "metadata": {},
   "source": [
    "对于四则运算：加减乘除，则用 + - * / () 符号直接输入即可："
   ]
  },
  {
   "cell_type": "code",
   "execution_count": 9,
   "id": "95065355",
   "metadata": {},
   "outputs": [
    {
     "data": {
      "text/plain": [
       "3"
      ]
     },
     "execution_count": 9,
     "metadata": {},
     "output_type": "execute_result"
    }
   ],
   "source": [
    "1 + 2"
   ]
  },
  {
   "cell_type": "code",
   "execution_count": 10,
   "id": "df7a65d6",
   "metadata": {},
   "outputs": [
    {
     "data": {
      "text/plain": [
       "10"
      ]
     },
     "execution_count": 10,
     "metadata": {},
     "output_type": "execute_result"
    }
   ],
   "source": [
    "20 - 5 * 2"
   ]
  },
  {
   "cell_type": "code",
   "execution_count": 11,
   "id": "27a5ddbd",
   "metadata": {},
   "outputs": [
    {
     "data": {
      "text/plain": [
       "2.5"
      ]
     },
     "execution_count": 11,
     "metadata": {},
     "output_type": "execute_result"
    }
   ],
   "source": [
    "(10 - 5) / 2"
   ]
  },
  {
   "cell_type": "code",
   "execution_count": 12,
   "id": "d72f5b1d",
   "metadata": {},
   "outputs": [
    {
     "data": {
      "text/plain": [
       "1.8"
      ]
     },
     "execution_count": 12,
     "metadata": {},
     "output_type": "execute_result"
    }
   ],
   "source": [
    "9 / 5"
   ]
  },
  {
   "cell_type": "markdown",
   "id": "0a0ca6b0",
   "metadata": {},
   "source": [
    "求余数用百分号 %，幂运算用两个星号 **，例如："
   ]
  },
  {
   "cell_type": "code",
   "execution_count": 13,
   "id": "2e612364",
   "metadata": {},
   "outputs": [
    {
     "data": {
      "text/plain": [
       "3"
      ]
     },
     "execution_count": 13,
     "metadata": {},
     "output_type": "execute_result"
    }
   ],
   "source": [
    "8 % 5"
   ]
  },
  {
   "cell_type": "code",
   "execution_count": 14,
   "id": "fd5bbd47",
   "metadata": {},
   "outputs": [
    {
     "data": {
      "text/plain": [
       "9"
      ]
     },
     "execution_count": 14,
     "metadata": {},
     "output_type": "execute_result"
    }
   ],
   "source": [
    "3 ** 2"
   ]
  },
  {
   "cell_type": "markdown",
   "id": "c7c6c713",
   "metadata": {},
   "source": [
    "对数字类型还有一些其他运算，例如求绝对值用函数``abs``，四舍五入函数用``round``，求最大值函数``max``，求最小值函数``min``："
   ]
  },
  {
   "cell_type": "code",
   "execution_count": 15,
   "id": "c5390af5",
   "metadata": {},
   "outputs": [
    {
     "data": {
      "text/plain": [
       "2.5"
      ]
     },
     "execution_count": 15,
     "metadata": {},
     "output_type": "execute_result"
    }
   ],
   "source": [
    "abs(-2.5)"
   ]
  },
  {
   "cell_type": "code",
   "execution_count": 16,
   "id": "db02d491",
   "metadata": {},
   "outputs": [
    {
     "data": {
      "text/plain": [
       "3"
      ]
     },
     "execution_count": 16,
     "metadata": {},
     "output_type": "execute_result"
    }
   ],
   "source": [
    "round(3.4)"
   ]
  },
  {
   "cell_type": "code",
   "execution_count": 17,
   "id": "4036e285",
   "metadata": {},
   "outputs": [
    {
     "data": {
      "text/plain": [
       "3.5"
      ]
     },
     "execution_count": 17,
     "metadata": {},
     "output_type": "execute_result"
    }
   ],
   "source": [
    "round(3.45, 1) # 四舍五入保留一位小数"
   ]
  },
  {
   "cell_type": "code",
   "execution_count": 18,
   "id": "2de824e8",
   "metadata": {},
   "outputs": [
    {
     "data": {
      "text/plain": [
       "20"
      ]
     },
     "execution_count": 18,
     "metadata": {},
     "output_type": "execute_result"
    }
   ],
   "source": [
    "max(10, 20)"
   ]
  },
  {
   "cell_type": "code",
   "execution_count": 19,
   "id": "224fbf2c",
   "metadata": {},
   "outputs": [
    {
     "data": {
      "text/plain": [
       "10"
      ]
     },
     "execution_count": 19,
     "metadata": {},
     "output_type": "execute_result"
    }
   ],
   "source": [
    "min(10, 20)"
   ]
  },
  {
   "cell_type": "markdown",
   "id": "f7339256",
   "metadata": {},
   "source": [
    "更复杂的数学运算需要调用数学包 math，例如："
   ]
  },
  {
   "cell_type": "code",
   "execution_count": 20,
   "id": "12b9a843",
   "metadata": {},
   "outputs": [
    {
     "data": {
      "text/plain": [
       "1.0"
      ]
     },
     "execution_count": 20,
     "metadata": {},
     "output_type": "execute_result"
    }
   ],
   "source": [
    "import math\n",
    "\n",
    "math.sin(math.pi/2) # 正弦函数"
   ]
  },
  {
   "cell_type": "code",
   "execution_count": 24,
   "id": "b4e62ced",
   "metadata": {},
   "outputs": [
    {
     "data": {
      "text/plain": [
       "2.0"
      ]
     },
     "execution_count": 24,
     "metadata": {},
     "output_type": "execute_result"
    }
   ],
   "source": [
    "math.log10(100) # 对数函数"
   ]
  },
  {
   "cell_type": "markdown",
   "id": "ada5f997",
   "metadata": {},
   "source": [
    "## 字符串类型\n",
    "\n",
    "字符串也是 Python 中比较常见的数据类型，可以用单引号或双引号表示字符串。例如："
   ]
  },
  {
   "cell_type": "code",
   "execution_count": 25,
   "id": "d76f4e74",
   "metadata": {},
   "outputs": [
    {
     "data": {
      "text/plain": [
       "'chen'"
      ]
     },
     "execution_count": 25,
     "metadata": {},
     "output_type": "execute_result"
    }
   ],
   "source": [
    "name = \"chen\"\n",
    "name"
   ]
  },
  {
   "cell_type": "code",
   "execution_count": 26,
   "id": "6b622017",
   "metadata": {},
   "outputs": [
    {
     "data": {
      "text/plain": [
       "'Beijing'"
      ]
     },
     "execution_count": 26,
     "metadata": {},
     "output_type": "execute_result"
    }
   ],
   "source": [
    "city = 'Beijing'\n",
    "city"
   ]
  },
  {
   "cell_type": "markdown",
   "id": "0bf0bc8b",
   "metadata": {},
   "source": [
    "字符串的拼接直接用加号 + 即可："
   ]
  },
  {
   "cell_type": "code",
   "execution_count": 27,
   "id": "04c8d79d",
   "metadata": {},
   "outputs": [
    {
     "data": {
      "text/plain": [
       "'chenBeijing'"
      ]
     },
     "execution_count": 27,
     "metadata": {},
     "output_type": "execute_result"
    }
   ],
   "source": [
    "name+city"
   ]
  },
  {
   "cell_type": "markdown",
   "id": "eb2b44b1",
   "metadata": {},
   "source": [
    "还有一种常用的拼接方式是用``join``函数：str.join(sequence)，将序列中的元素以指定的字符连接生成一个新的字符串。例如:"
   ]
  },
  {
   "cell_type": "code",
   "execution_count": 28,
   "id": "d8f8f7ca",
   "metadata": {},
   "outputs": [
    {
     "data": {
      "text/plain": [
       "'chen,zhang,li'"
      ]
     },
     "execution_count": 28,
     "metadata": {},
     "output_type": "execute_result"
    }
   ],
   "source": [
    "','.join(['chen', 'zhang', 'li'])  # 将三个字符串用逗号拼接"
   ]
  },
  {
   "cell_type": "code",
   "execution_count": 29,
   "id": "2ba3c042",
   "metadata": {},
   "outputs": [
    {
     "data": {
      "text/plain": [
       "'2020-05-13'"
      ]
     },
     "execution_count": 29,
     "metadata": {},
     "output_type": "execute_result"
    }
   ],
   "source": [
    "'-'.join(['2020', '05', '13'])  # 将三个字符串用横线拼接"
   ]
  },
  {
   "cell_type": "markdown",
   "id": "2f888dda",
   "metadata": {},
   "source": [
    "若重复输出字符串，可以使用星号 *："
   ]
  },
  {
   "cell_type": "code",
   "execution_count": 30,
   "id": "e8201c18",
   "metadata": {},
   "outputs": [
    {
     "data": {
      "text/plain": [
       "'chenchen'"
      ]
     },
     "execution_count": 30,
     "metadata": {},
     "output_type": "execute_result"
    }
   ],
   "source": [
    "name = 'chen'\n",
    "name * 2"
   ]
  },
  {
   "cell_type": "markdown",
   "id": "c5ad17a2",
   "metadata": {},
   "source": [
    "可以将字符串视为一个数组，利用数组的索引得到字符串中的字符，例如："
   ]
  },
  {
   "cell_type": "code",
   "execution_count": 31,
   "id": "57147f6e",
   "metadata": {},
   "outputs": [
    {
     "data": {
      "text/plain": [
       "'c'"
      ]
     },
     "execution_count": 31,
     "metadata": {},
     "output_type": "execute_result"
    }
   ],
   "source": [
    "name[0] # 0 代表第 1 个索引"
   ]
  },
  {
   "cell_type": "code",
   "execution_count": 32,
   "id": "2614265f",
   "metadata": {},
   "outputs": [
    {
     "data": {
      "text/plain": [
       "'che'"
      ]
     },
     "execution_count": 32,
     "metadata": {},
     "output_type": "execute_result"
    }
   ],
   "source": [
    "name[0:3] # 截取字符串中的一部分，遵循“左闭右开”原则，得到第 1 到第 3 个字符"
   ]
  },
  {
   "cell_type": "markdown",
   "id": "88442d9c",
   "metadata": {},
   "source": [
    "判断某个字符或某段字符串是否在字符串中，可以用``in``或``not in``："
   ]
  },
  {
   "cell_type": "code",
   "execution_count": 33,
   "id": "34e794a6",
   "metadata": {},
   "outputs": [
    {
     "data": {
      "text/plain": [
       "False"
      ]
     },
     "execution_count": 33,
     "metadata": {},
     "output_type": "execute_result"
    }
   ],
   "source": [
    "'c' not in name"
   ]
  },
  {
   "cell_type": "code",
   "execution_count": 34,
   "id": "cb5f42ed",
   "metadata": {},
   "outputs": [
    {
     "data": {
      "text/plain": [
       "True"
      ]
     },
     "execution_count": 34,
     "metadata": {},
     "output_type": "execute_result"
    }
   ],
   "source": [
    "'Bei' in city"
   ]
  },
  {
   "cell_type": "markdown",
   "id": "3c17db1c",
   "metadata": {},
   "source": [
    "Python 中常用的字符串处理函数有：\n",
    "\n",
    "<table>   \n",
    "    <tr style=\"border-top:solid\">\n",
    "        <td style=\"text-align:left\">capitalize(str)</td>\n",
    "        <td style=\"text-align:left\">将字符串 str 内容转为大写</td>\n",
    "    </tr>\n",
    "    <tr>\n",
    "        <td style=\"text-align:left\">lower(str)</td>\n",
    "        <td style=\"text-align:left\">将字符串 str 内容转为小写</td>\n",
    "    </tr>\n",
    "    <tr>\n",
    "        <td style=\"text-align:left\">len(str)</td>\n",
    "        <td style=\"text-align:left\">字符串 str 的长度</td>\n",
    "    </tr>\n",
    "    <tr>\n",
    "        <td style=\"text-align:left\">isnumeric(str)</td>\n",
    "        <td style=\"text-align:left\">如果字符串 str 中只包含数字字符，则返回 True，否则返回 False</td>\n",
    "    </tr>\n",
    "    <tr style=\"border-bottom:solid\">\n",
    "        <td style=\"text-align:left\">isalpha(str)</td>\n",
    "        <td style=\"text-align:left\">如果字符串 str 的字符都是字母则返回 True, 否则返回 False</td>\n",
    "    </tr>\n",
    "</table>\n",
    "<br />"
   ]
  },
  {
   "cell_type": "code",
   "execution_count": null,
   "id": "19a65992",
   "metadata": {},
   "outputs": [],
   "source": []
  }
 ],
 "metadata": {
  "kernelspec": {
   "display_name": "Python 3 (ipykernel)",
   "language": "python",
   "name": "python3"
  },
  "language_info": {
   "codemirror_mode": {
    "name": "ipython",
    "version": 3
   },
   "file_extension": ".py",
   "mimetype": "text/x-python",
   "name": "python",
   "nbconvert_exporter": "python",
   "pygments_lexer": "ipython3",
   "version": "3.10.9"
  }
 },
 "nbformat": 4,
 "nbformat_minor": 5
}
