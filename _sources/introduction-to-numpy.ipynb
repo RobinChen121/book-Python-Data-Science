{
 "cells": [
  {
   "cell_type": "markdown",
   "id": "fcf6d8c3",
   "metadata": {},
   "source": [
    "# Numpy 简介\n",
    "\n",
    "Numpy (Numerical Python) 是 Python 语言一个重要的扩展库，支持大量的数组与矩阵运算，此外也提供大量的数学函数库，用于模仿数学软件 MatLab 的功能。Numpy 通常与其他库 SciPy（Scientific Python）和 Matplotlib（绘图库）一起使用。"
   ]
  },
  {
   "cell_type": "markdown",
   "id": "084838f6",
   "metadata": {},
   "source": [
    "Numpy 的主要特点是：\n",
    "\n",
    "- 一个强大的 N 维数组对象 ndarray\n",
    "\n",
    "- 矩阵运算、傅里叶变换、生成随机数功能等"
   ]
  },
  {
   "cell_type": "markdown",
   "id": "a44917dc",
   "metadata": {},
   "source": [
    "使用 numpy 需要首先导入 numpy 包："
   ]
  },
  {
   "cell_type": "code",
   "execution_count": 1,
   "id": "f7b7518f",
   "metadata": {},
   "outputs": [],
   "source": [
    "import numpy as np"
   ]
  },
  {
   "cell_type": "markdown",
   "id": "e8b920a4",
   "metadata": {},
   "source": [
    "## 创建数组\n",
    "\n",
    "用 Numpy 创建数组有多种方法。首先，Numpy 中的``array``函数可以直接将 Python 的 list 类型转化为 Numpy 的数组类型 ndarray。例如，一个一维数组："
   ]
  },
  {
   "cell_type": "code",
   "execution_count": 2,
   "id": "5217a923",
   "metadata": {},
   "outputs": [
    {
     "data": {
      "text/plain": [
       "array([1, 2, 3, 4])"
      ]
     },
     "execution_count": 2,
     "metadata": {},
     "output_type": "execute_result"
    }
   ],
   "source": [
    "a = np.array([1, 2, 3, 4])\n",
    "a"
   ]
  },
  {
   "cell_type": "markdown",
   "id": "27e84cc5",
   "metadata": {},
   "source": [
    "一个二维数组："
   ]
  },
  {
   "cell_type": "code",
   "execution_count": 6,
   "id": "f4d487d4",
   "metadata": {},
   "outputs": [
    {
     "data": {
      "text/plain": [
       "[[1, 2], [3, 4]]"
      ]
     },
     "execution_count": 6,
     "metadata": {},
     "output_type": "execute_result"
    }
   ],
   "source": [
    "b = [[1, 2], [3, 4]]\n",
    "a = np.array(b)\n",
    "a"
   ]
  },
  {
   "cell_type": "markdown",
   "id": "01368b72",
   "metadata": {},
   "source": [
    "注意，``array``函数中的小括号中要包括一个用中括号括起来的 list，不能直接写成 np.array(1, 2, 3, 4)。"
   ]
  },
  {
   "cell_type": "markdown",
   "id": "dd0807ef",
   "metadata": {},
   "source": [
    "Numpy 中的``zeros``函数可以创建元素值全为 0 的矩阵，``ones``函数可以创建元素值全为 1 的矩阵，而``empty``函数可以创建一个元素值任意的一个空矩阵。例如："
   ]
  },
  {
   "cell_type": "code",
   "execution_count": 7,
   "id": "cd6e38ca",
   "metadata": {},
   "outputs": [
    {
     "data": {
      "text/plain": [
       "array([[0., 0., 0., 0.],\n",
       "       [0., 0., 0., 0.],\n",
       "       [0., 0., 0., 0.]])"
      ]
     },
     "execution_count": 7,
     "metadata": {},
     "output_type": "execute_result"
    }
   ],
   "source": [
    "np.zeros((3, 4)) # 3 行 4 列的零矩阵"
   ]
  },
  {
   "cell_type": "code",
   "execution_count": 8,
   "id": "ee2bd8bc",
   "metadata": {},
   "outputs": [
    {
     "data": {
      "text/plain": [
       "array([[1., 1., 1., 1.],\n",
       "       [1., 1., 1., 1.],\n",
       "       [1., 1., 1., 1.]])"
      ]
     },
     "execution_count": 8,
     "metadata": {},
     "output_type": "execute_result"
    }
   ],
   "source": [
    "np.ones((3, 4)) # 3 行 4 列的一矩阵"
   ]
  },
  {
   "cell_type": "code",
   "execution_count": 9,
   "id": "88d1cf82",
   "metadata": {},
   "outputs": [
    {
     "data": {
      "text/plain": [
       "array([[0.e+000, 3.e-323, 0.e+000],\n",
       "       [0.e+000, 0.e+000, 0.e+000]])"
      ]
     },
     "execution_count": 9,
     "metadata": {},
     "output_type": "execute_result"
    }
   ],
   "source": [
    "np.empty((2, 3)) # 2 行 3 列的空矩阵"
   ]
  },
  {
   "cell_type": "markdown",
   "id": "2b5f25a0",
   "metadata": {},
   "source": [
    "Numpy 中的``arange``函数可以生成一个等差数列的数组，例如："
   ]
  },
  {
   "cell_type": "code",
   "execution_count": 10,
   "id": "c654a1c1",
   "metadata": {},
   "outputs": [
    {
     "data": {
      "text/plain": [
       "array([0, 1, 2, 3, 4, 5, 6, 7, 8, 9])"
      ]
     },
     "execution_count": 10,
     "metadata": {},
     "output_type": "execute_result"
    }
   ],
   "source": [
    "np.arange(10) # 生成一个从 0 到 9 之间的数组，默认步长为 1"
   ]
  },
  {
   "cell_type": "code",
   "execution_count": 11,
   "id": "80e850f7",
   "metadata": {},
   "outputs": [
    {
     "data": {
      "text/plain": [
       "array([5, 6, 7, 8, 9])"
      ]
     },
     "execution_count": 11,
     "metadata": {},
     "output_type": "execute_result"
    }
   ],
   "source": [
    "np.arange(5, 10) # 生成一个从 5 到 9 之间的数组，默认步长为 1"
   ]
  },
  {
   "cell_type": "code",
   "execution_count": 12,
   "id": "fc416f91",
   "metadata": {},
   "outputs": [
    {
     "data": {
      "text/plain": [
       "array([5, 7, 9])"
      ]
     },
     "execution_count": 12,
     "metadata": {},
     "output_type": "execute_result"
    }
   ],
   "source": [
    "np.arange(5, 10, 2) # 生成一个从 5 到 9 之间的数组，且步长为 2"
   ]
  },
  {
   "cell_type": "markdown",
   "id": "4472e4e4",
   "metadata": {},
   "source": [
    "另外一个类似的函数为``linespace``，不同的地方在于：``arange``函数中第三个参数表示等差数组的步长，而``linespace``函数第三个参数表示一共生成的元素个数。若生成一系列等差的浮点数，则用``linespace``更好些。"
   ]
  },
  {
   "cell_type": "code",
   "execution_count": 13,
   "id": "66d916ac",
   "metadata": {},
   "outputs": [
    {
     "data": {
      "text/plain": [
       "array([0.  , 0.25, 0.5 , 0.75, 1.  , 1.25, 1.5 , 1.75, 2.  ])"
      ]
     },
     "execution_count": 13,
     "metadata": {},
     "output_type": "execute_result"
    }
   ],
   "source": [
    "np.linspace(0, 2, 9 ) # 生成从 0 到 2 之间共 9 个数"
   ]
  },
  {
   "cell_type": "markdown",
   "id": "38be0bce",
   "metadata": {},
   "source": [
    "Python 的 list 类型可以与 Numpy 的数组类型 ndarray 互换，例如："
   ]
  },
  {
   "cell_type": "code",
   "execution_count": 34,
   "id": "49e64a22",
   "metadata": {},
   "outputs": [
    {
     "data": {
      "text/plain": [
       "[0, 1, 2, 3, 4, 5, 6, 7, 8, 9]"
      ]
     },
     "execution_count": 34,
     "metadata": {},
     "output_type": "execute_result"
    }
   ],
   "source": [
    "a = np.arange(10)\n",
    "list(a)"
   ]
  },
  {
   "cell_type": "markdown",
   "id": "79c669cd",
   "metadata": {},
   "source": [
    "## 数组索引和切片\n",
    "\n",
    "对于一维数组，numpy 的索引切片类似 Python list 类型的索引切片，例如："
   ]
  },
  {
   "cell_type": "code",
   "execution_count": 23,
   "id": "5963dc4b",
   "metadata": {},
   "outputs": [
    {
     "data": {
      "text/plain": [
       "array([4, 5, 6, 7, 8, 9])"
      ]
     },
     "execution_count": 23,
     "metadata": {},
     "output_type": "execute_result"
    }
   ],
   "source": [
    "a = np.arange(4, 10) # 生成一个从 4 到 9 之间的数组\n",
    "a"
   ]
  },
  {
   "cell_type": "code",
   "execution_count": 22,
   "id": "9a03e234",
   "metadata": {},
   "outputs": [
    {
     "data": {
      "text/plain": [
       "6"
      ]
     },
     "execution_count": 22,
     "metadata": {},
     "output_type": "execute_result"
    }
   ],
   "source": [
    "a[2] # 数组 a 的第 3 个元素"
   ]
  },
  {
   "cell_type": "code",
   "execution_count": 19,
   "id": "25f8faa5",
   "metadata": {},
   "outputs": [
    {
     "data": {
      "text/plain": [
       "array([6, 7])"
      ]
     },
     "execution_count": 19,
     "metadata": {},
     "output_type": "execute_result"
    }
   ],
   "source": [
    "a[2:4] # 数组 a 的第 3 与第 4 个元素"
   ]
  },
  {
   "cell_type": "code",
   "execution_count": 24,
   "id": "2955d047",
   "metadata": {},
   "outputs": [
    {
     "data": {
      "text/plain": [
       "9"
      ]
     },
     "execution_count": 24,
     "metadata": {},
     "output_type": "execute_result"
    }
   ],
   "source": [
    "a[-1] # 数组 a 的最后一个元素"
   ]
  },
  {
   "cell_type": "code",
   "execution_count": 25,
   "id": "8c04ff35",
   "metadata": {},
   "outputs": [
    {
     "data": {
      "text/plain": [
       "array([9, 8, 7, 6, 5, 4])"
      ]
     },
     "execution_count": 25,
     "metadata": {},
     "output_type": "execute_result"
    }
   ],
   "source": [
    "a[:: -1] # 数组 a 倒序"
   ]
  },
  {
   "cell_type": "markdown",
   "id": "007e1ff8",
   "metadata": {},
   "source": [
    "对于多维数组，Numpy 数组的索引和切片在**一个中括号**里面用逗号分隔不同维度，例如："
   ]
  },
  {
   "cell_type": "code",
   "execution_count": 29,
   "id": "f28789cc",
   "metadata": {},
   "outputs": [
    {
     "data": {
      "text/plain": [
       "array([[ 0,  1,  2,  3],\n",
       "       [ 4,  5,  6,  7],\n",
       "       [ 8,  9, 10, 11]])"
      ]
     },
     "execution_count": 29,
     "metadata": {},
     "output_type": "execute_result"
    }
   ],
   "source": [
    "b = np.arange(12).reshape(3,4) # 创建一个 3 行 4 列的二维数组\n",
    "b"
   ]
  },
  {
   "cell_type": "code",
   "execution_count": 30,
   "id": "7bd79961",
   "metadata": {},
   "outputs": [
    {
     "data": {
      "text/plain": [
       "6"
      ]
     },
     "execution_count": 30,
     "metadata": {},
     "output_type": "execute_result"
    }
   ],
   "source": [
    "b[1, 2] # 二维数组第 2 行第 3 列中的元素"
   ]
  },
  {
   "cell_type": "code",
   "execution_count": 31,
   "id": "8ba07b9a",
   "metadata": {},
   "outputs": [
    {
     "data": {
      "text/plain": [
       "array([ 6, 10])"
      ]
     },
     "execution_count": 31,
     "metadata": {},
     "output_type": "execute_result"
    }
   ],
   "source": [
    "b[1:3, 2] # 二维数组第 3 列中， 第 2 行到第 3 行的元素"
   ]
  },
  {
   "cell_type": "code",
   "execution_count": 32,
   "id": "fc994235",
   "metadata": {},
   "outputs": [
    {
     "data": {
      "text/plain": [
       "array([ 8,  9, 10, 11])"
      ]
     },
     "execution_count": 32,
     "metadata": {},
     "output_type": "execute_result"
    }
   ],
   "source": [
    "b[2, :] # 第 3 行的全部元素"
   ]
  },
  {
   "cell_type": "code",
   "execution_count": 33,
   "id": "d760181a",
   "metadata": {},
   "outputs": [
    {
     "data": {
      "text/plain": [
       "[array([0, 1, 2, 3]), array([4, 5, 6, 7]), array([ 8,  9, 10, 11])]"
      ]
     },
     "execution_count": 33,
     "metadata": {},
     "output_type": "execute_result"
    }
   ],
   "source": [
    "list(b)"
   ]
  },
  {
   "cell_type": "markdown",
   "id": "a7e5e659",
   "metadata": {},
   "source": [
    "## 数组拼接\n",
    "\n",
    "Numpy 中拼接两个数组用``append``函数。"
   ]
  },
  {
   "cell_type": "code",
   "execution_count": 37,
   "id": "8c5544c5",
   "metadata": {},
   "outputs": [
    {
     "data": {
      "text/plain": [
       "array([0, 1, 2, 3, 4])"
      ]
     },
     "execution_count": 37,
     "metadata": {},
     "output_type": "execute_result"
    }
   ],
   "source": [
    "a = np.arange(5)\n",
    "a"
   ]
  },
  {
   "cell_type": "code",
   "execution_count": 36,
   "id": "2ae12233",
   "metadata": {},
   "outputs": [
    {
     "data": {
      "text/plain": [
       "array([0, 1, 2])"
      ]
     },
     "execution_count": 36,
     "metadata": {},
     "output_type": "execute_result"
    }
   ],
   "source": [
    "b = np.arange(3)\n",
    "b"
   ]
  },
  {
   "cell_type": "code",
   "execution_count": 38,
   "id": "f35b0b7d",
   "metadata": {},
   "outputs": [
    {
     "data": {
      "text/plain": [
       "array([0, 1, 2, 3, 4, 0, 1, 2])"
      ]
     },
     "execution_count": 38,
     "metadata": {},
     "output_type": "execute_result"
    }
   ],
   "source": [
    "np.append(a, b)"
   ]
  },
  {
   "cell_type": "markdown",
   "id": "5371479d",
   "metadata": {},
   "source": [
    "多个数组拼接，可以用``concatenate``。"
   ]
  },
  {
   "cell_type": "code",
   "execution_count": 39,
   "id": "ef57543f",
   "metadata": {},
   "outputs": [
    {
     "data": {
      "text/plain": [
       "array([0, 1, 2, 3])"
      ]
     },
     "execution_count": 39,
     "metadata": {},
     "output_type": "execute_result"
    }
   ],
   "source": [
    "c = np.arange(4)\n",
    "c"
   ]
  },
  {
   "cell_type": "code",
   "execution_count": 40,
   "id": "9c6ad7a7",
   "metadata": {},
   "outputs": [
    {
     "data": {
      "text/plain": [
       "array([0, 1, 2, 3, 4, 0, 1, 2, 0, 1, 2, 3])"
      ]
     },
     "execution_count": 40,
     "metadata": {},
     "output_type": "execute_result"
    }
   ],
   "source": [
    "np.concatenate((a, b, c)) # 注意里面还有一对小括号"
   ]
  },
  {
   "cell_type": "markdown",
   "id": "40d284ce",
   "metadata": {},
   "source": [
    "## 数组运算\n",
    "\n",
    "Numpy 可以对数组进行多种代数运算，例如："
   ]
  },
  {
   "cell_type": "code",
   "execution_count": 43,
   "id": "2d9f21df",
   "metadata": {},
   "outputs": [
    {
     "data": {
      "text/plain": [
       "array([0, 1, 2, 3])"
      ]
     },
     "execution_count": 43,
     "metadata": {},
     "output_type": "execute_result"
    }
   ],
   "source": [
    "a = np.arange(4)\n",
    "a"
   ]
  },
  {
   "cell_type": "code",
   "execution_count": 42,
   "id": "d46e68b8",
   "metadata": {},
   "outputs": [
    {
     "data": {
      "text/plain": [
       "array([3, 4, 5, 6])"
      ]
     },
     "execution_count": 42,
     "metadata": {},
     "output_type": "execute_result"
    }
   ],
   "source": [
    "b = np.arange(3, 7)\n",
    "b"
   ]
  },
  {
   "cell_type": "code",
   "execution_count": 44,
   "id": "35c124e1",
   "metadata": {},
   "outputs": [
    {
     "data": {
      "text/plain": [
       "array([-3, -3, -3, -3])"
      ]
     },
     "execution_count": 44,
     "metadata": {},
     "output_type": "execute_result"
    }
   ],
   "source": [
    "a - b # 两数组相减"
   ]
  },
  {
   "cell_type": "code",
   "execution_count": 45,
   "id": "c48bbfcd",
   "metadata": {},
   "outputs": [
    {
     "data": {
      "text/plain": [
       "array([3, 5, 7, 9])"
      ]
     },
     "execution_count": 45,
     "metadata": {},
     "output_type": "execute_result"
    }
   ],
   "source": [
    "a + b # 两数组相加"
   ]
  },
  {
   "cell_type": "code",
   "execution_count": 46,
   "id": "6ff35bcb",
   "metadata": {},
   "outputs": [
    {
     "data": {
      "text/plain": [
       "array([0, 2, 4, 6])"
      ]
     },
     "execution_count": 46,
     "metadata": {},
     "output_type": "execute_result"
    }
   ],
   "source": [
    "a * 2 # 数组每个元素乘以一个数值"
   ]
  },
  {
   "cell_type": "code",
   "execution_count": 47,
   "id": "f7c67b36",
   "metadata": {},
   "outputs": [
    {
     "data": {
      "text/plain": [
       "array([0, 1, 4, 9])"
      ]
     },
     "execution_count": 47,
     "metadata": {},
     "output_type": "execute_result"
    }
   ],
   "source": [
    "a ** 2 # 数组每个元素都平方"
   ]
  },
  {
   "cell_type": "code",
   "execution_count": 48,
   "id": "280eaffe",
   "metadata": {},
   "outputs": [
    {
     "data": {
      "text/plain": [
       "array([False, False, False,  True])"
      ]
     },
     "execution_count": 48,
     "metadata": {},
     "output_type": "execute_result"
    }
   ],
   "source": [
    "a > 2 # 数组每个元素与一个数值比较大小"
   ]
  },
  {
   "cell_type": "code",
   "execution_count": 49,
   "id": "efd273bd",
   "metadata": {},
   "outputs": [
    {
     "data": {
      "text/plain": [
       "array([[4., 5.],\n",
       "       [6., 7.]])"
      ]
     },
     "execution_count": 49,
     "metadata": {},
     "output_type": "execute_result"
    }
   ],
   "source": [
    "c = np.array([[4.0, 5.0], [6.0, 7.0]])\n",
    "c"
   ]
  },
  {
   "cell_type": "code",
   "execution_count": 50,
   "id": "6f62f8fa",
   "metadata": {},
   "outputs": [
    {
     "data": {
      "text/plain": [
       "array([[4., 6.],\n",
       "       [5., 7.]])"
      ]
     },
     "execution_count": 50,
     "metadata": {},
     "output_type": "execute_result"
    }
   ],
   "source": [
    "c.transpose() # c 的转置矩阵"
   ]
  },
  {
   "cell_type": "code",
   "execution_count": 51,
   "id": "3ad167dc",
   "metadata": {},
   "outputs": [
    {
     "data": {
      "text/plain": [
       "array([[-3.5,  2.5],\n",
       "       [ 3. , -2. ]])"
      ]
     },
     "execution_count": 51,
     "metadata": {},
     "output_type": "execute_result"
    }
   ],
   "source": [
    "np.linalg.inv(c) # c 的逆矩阵"
   ]
  },
  {
   "cell_type": "code",
   "execution_count": 52,
   "id": "de86d4e1",
   "metadata": {},
   "outputs": [
    {
     "data": {
      "text/plain": [
       "(array([-0.17890835, 11.17890835]),\n",
       " array([[-0.76729658, -0.57152478],\n",
       "        [ 0.64129241, -0.82058481]]))"
      ]
     },
     "execution_count": 52,
     "metadata": {},
     "output_type": "execute_result"
    }
   ],
   "source": [
    "np.linalg.eig(c) # c 的特征值与特征向量"
   ]
  },
  {
   "cell_type": "code",
   "execution_count": 54,
   "id": "11a92f3d",
   "metadata": {},
   "outputs": [
    {
     "data": {
      "text/plain": [
       "array([[1., 2.],\n",
       "       [3., 4.]])"
      ]
     },
     "execution_count": 54,
     "metadata": {},
     "output_type": "execute_result"
    }
   ],
   "source": [
    "d = np.array([[1.0, 2.0], [3.0, 4.0]])\n",
    "d"
   ]
  },
  {
   "cell_type": "code",
   "execution_count": 56,
   "id": "d0f5562c",
   "metadata": {},
   "outputs": [
    {
     "data": {
      "text/plain": [
       "array([[19., 28.],\n",
       "       [27., 40.]])"
      ]
     },
     "execution_count": 56,
     "metadata": {},
     "output_type": "execute_result"
    }
   ],
   "source": [
    "np.dot(c, d) # 矩阵 c 和 d 的乘积"
   ]
  },
  {
   "cell_type": "code",
   "execution_count": 57,
   "id": "56a954e3",
   "metadata": {},
   "outputs": [
    {
     "data": {
      "text/plain": [
       "array([[ 4., 10.],\n",
       "       [18., 28.]])"
      ]
     },
     "execution_count": 57,
     "metadata": {},
     "output_type": "execute_result"
    }
   ],
   "source": [
    "np.multiply(c, d) # 矩阵 c 和 d 对应元素相乘"
   ]
  },
  {
   "cell_type": "markdown",
   "id": "df139cda",
   "metadata": {},
   "source": [
    "另外，Numpy 还有专门的二维数组的类型 Matrix，可以更方便地进行一些矩阵运算，感兴趣的读者可以参见官网。"
   ]
  }
 ],
 "metadata": {
  "kernelspec": {
   "display_name": "Python 3 (ipykernel)",
   "language": "python",
   "name": "python3"
  },
  "language_info": {
   "codemirror_mode": {
    "name": "ipython",
    "version": 3
   },
   "file_extension": ".py",
   "mimetype": "text/x-python",
   "name": "python",
   "nbconvert_exporter": "python",
   "pygments_lexer": "ipython3",
   "version": "3.10.9"
  }
 },
 "nbformat": 4,
 "nbformat_minor": 5
}
